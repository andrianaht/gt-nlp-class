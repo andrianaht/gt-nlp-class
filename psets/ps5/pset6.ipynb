{
 "cells": [
  {
   "cell_type": "markdown",
   "metadata": {},
   "source": [
    "# Project 6. Distributed Embeddings and Semi-Supervised Learning #\n",
    "\n",
    "In this assignment, you will use singular value decomposition (SVD) as well as Word2Vec to learn about lexical semantics. You will have to work with \"big\" data\n",
    "- big enough that you will have to think carefully about speed and memory. Of particular importance will **sparse** matrix\n",
    "representations of your data. For this problem you will be submitting pdf version of ipython with outputs along with original ipython. Some particular functions and classes you might need:\n",
    "\n",
    "- [scipy.sparse.csr_matrix](http://docs.scipy.org/doc/scipy/reference/generated/scipy.sparse.csr_matrix.html) - matrix in compressed sparse row format\n",
    "- [scipy.sparse.diags](http://docs.scipy.org/doc/scipy/reference/generated/scipy.sparse.diags.html) - method for creating sparse diagonal matrices\n",
    "- [diagonal()](http://docs.scipy.org/doc/numpy/reference/generated/numpy.diagonal.html) - get the diagonal of a matrix\n",
    "- [sklearn.preprocessing.normalize](http://scikit-learn.org/stable/modules/generated/sklearn.preprocessing.normalize.html) - efficiently normalize sparse matrices\n",
    "- [scipy.sparse.csr_matrix.asfptype()](http://docs.scipy.org/doc/scipy/reference/generated/scipy.sparse.csr_matrix.asfptype.html) - upcast matrix to a floating point format\n",
    "- [scipy.cluster.vq.kmeans2](http://docs.scipy.org/doc/scipy/reference/generated/scipy.cluster.vq.kmeans2.html#scipy.cluster.vq.kmeans2) - Classify a set of observations into k clusters using the k-means algorithm\n",
    "- [numpy.argsort](http://docs.scipy.org/doc/numpy/reference/generated/numpy.argsort.html) - returns the indices that would sort an array\n"
   ]
  },
  {
   "cell_type": "code",
   "execution_count": 230,
   "metadata": {
    "collapsed": false
   },
   "outputs": [
    {
     "name": "stdout",
     "output_type": "stream",
     "text": [
      "Populating the interactive namespace from numpy and matplotlib\n"
     ]
    },
    {
     "name": "stderr",
     "output_type": "stream",
     "text": [
      "WARNING: pylab import has clobbered these variables: ['hstack', 'normalize']\n",
      "`%matplotlib` prevents importing * from pylab and numpy\n"
     ]
    }
   ],
   "source": [
    "%pylab inline\n",
    "from scipy.sparse.linalg import svds\n",
    "from scipy.sparse import hstack, diags, csr_matrix\n",
    "from sklearn.preprocessing import normalize\n",
    "import numpy as np\n",
    "import csv\n",
    "# from word2vec import VectorModel\n",
    "# from numpy import *"
   ]
  },
  {
   "cell_type": "code",
   "execution_count": 231,
   "metadata": {
    "collapsed": false
   },
   "outputs": [],
   "source": [
    "def csv2csr(filename):\n",
    "    word = []\n",
    "    context = []\n",
    "    count = []\n",
    "    with open(filename,'rb') as infile:\n",
    "        reader = csv.reader(infile)\n",
    "        for row in reader:\n",
    "            word.append(int(row[0]))\n",
    "            context.append(int(row[1]))\n",
    "            count.append(int(row[2]))\n",
    "    return csr_matrix((count,(word,context)))\n",
    "\n",
    "def readVocab(filename):\n",
    "    vocab = []\n",
    "    with open(filename,'rb') as vocabfile:\n",
    "        for line in vocabfile:\n",
    "            vocab.append(line.split()[0])\n",
    "    index = dict(zip(range(0,len(vocab)),vocab)) #from numbers to words\n",
    "    inv_index = {j:i for i,j in index.items()} #from words to numbers\n",
    "    return index,inv_index\n"
   ]
  },
  {
   "cell_type": "markdown",
   "metadata": {},
   "source": [
    "## 1. Loading the Data ##\n",
    "\n",
    "Call **C=proj4_starter.csv2csr('doc_trips.csv')** to load a sparse matrix $C$ of a word-document counts. The cell $c[i,j]$ should \n",
    "hold the count of word $i$ in document $j$.\n",
    "\n",
    "Call **idx, iidx=proj4_starter.readVocab('vocab.10k')** to load the vocabulary. You get two **dict** objects, mapping between words \n",
    "and indices in the matrix $C$. In **C[iidx['Obama'],:]**, you have the document counts for the word *Obama*."
   ]
  },
  {
   "cell_type": "code",
   "execution_count": 232,
   "metadata": {
    "collapsed": false
   },
   "outputs": [
    {
     "name": "stdout",
     "output_type": "stream",
     "text": [
      "(9993, 1000000)\n"
     ]
    }
   ],
   "source": [
    "C = csv2csr('data/ps6/doc_trips.csv')\n",
    "idx, iidx = readVocab('data/ps6/vocab.10k')\n",
    "print C.shape"
   ]
  },
  {
   "cell_type": "markdown",
   "metadata": {},
   "source": [
    "## 2. Cosine Similarity ##\n",
    "\n",
    "The *cosine similarity* of two vectors $u$ and $v$ is defined as \n",
    "$$\\frac{\\sum_{i}u_iv_i}{\\sqrt{\\sum_iu_i^2\\sum_iv_i^2}}$$"
   ]
  },
  {
   "cell_type": "markdown",
   "metadata": {},
   "source": [
    "** Deliverable 2a** Consider the words *coffee, play, crazy, facebook*, and *hermana* (Spanish for *sister*). For each of them, find the 10 most similar words according to cosine similarity of the rows in $C$. (2 points)\n",
    "\n",
    "**Hint** The size of the vocabulary is nearly 10,000 words. You do not want to compute and store the entire $10K\\times 10K$ matrix \n",
    "of cosine similarities. Rather, you want to compute them on demand for a given row of the matrix. You may also want to do some\n",
    "precomputation to take care of denominator in advance. Whatever you do, don't lose the sparsity of $C$, or you will not be able \n",
    "to store it.\n",
    "\n",
    "**Sanity check** For *facebook*, the top 5 words I get are *facebook page on twitter deleted instagram*"
   ]
  },
  {
   "cell_type": "code",
   "execution_count": 233,
   "metadata": {
    "collapsed": false
   },
   "outputs": [],
   "source": [
    "# Here is the word list\n",
    "word_list = ['coffee','play','crazy','facebook','hermana']"
   ]
  },
  {
   "cell_type": "code",
   "execution_count": 234,
   "metadata": {
    "collapsed": false
   },
   "outputs": [],
   "source": [
    "def normalizeRow(x):\n",
    "    '''\n",
    "    Normalize each row of x\n",
    "    '''\n",
    "    return diags(np.array(1./(1e-6+np.sqrt(x.multiply(x).sum(axis=1))))[:,0],0) * x\n",
    "\n",
    "def computeCosSimPerWord(word_idx, x):\n",
    "    '''\n",
    "    For a given data matrix, compute cosine similarity between the word with index \"word_index\" and all words \n",
    "    (including itsself)\n",
    "    \n",
    "    Should return a 1-D np.array, not a matrix.\n",
    "    '''\n",
    "    u = x[word_idx]\n",
    "    sim = x.dot(u.transpose())#/x.dot(x.transpose()).multiply(u.dot(u.transpose())).sum()\n",
    "    return np.array([i[0] for i in sim.toarray()])\n",
    "\n",
    "normalizedC = normalizeRow(C)"
   ]
  },
  {
   "cell_type": "markdown",
   "metadata": {},
   "source": [
    "printSimilarWords  is used to print the top 10 similar words to a given word"
   ]
  },
  {
   "cell_type": "code",
   "execution_count": 235,
   "metadata": {
    "collapsed": false
   },
   "outputs": [],
   "source": [
    "def printSimilarWords(x, word_list, sim_func, vocab=idx, ivocab=iidx):\n",
    "    for word in word_list:\n",
    "        print word, ':', \n",
    "        word_idx = ivocab[word]\n",
    "        sim_idx = np.argsort(-sim_func(word_idx, x))[:10]\n",
    "        for word2_idx in sim_idx:\n",
    "            print vocab[word2_idx],\n",
    "        print ''"
   ]
  },
  {
   "cell_type": "code",
   "execution_count": 236,
   "metadata": {
    "collapsed": false
   },
   "outputs": [
    {
     "name": "stdout",
     "output_type": "stream",
     "text": [
      "coffee : coffee mug shop starbucks drinking drink cup cups and large \n",
      "play : play to games game the and with soccer i . \n",
      "crazy : crazy 's how that it shit is drives i . \n",
      "facebook : facebook page on twitter deleted instagram status compra post whatsapp \n",
      "hermana : hermana mi concha la y de tu con regalo que \n"
     ]
    }
   ],
   "source": [
    "printSimilarWords(normalizedC, word_list, sim_func=computeCosSimPerWord)"
   ]
  },
  {
   "cell_type": "markdown",
   "metadata": {},
   "source": [
    "** Deliverable 2b ** Come up with five words of your own that you think might be interesting, and list the top 10 most similar for each. Try to choose a few different types of words, such as verbs, adjectives, names, emotions, abbreviations, or alternative spellings. (1 point)"
   ]
  },
  {
   "cell_type": "code",
   "execution_count": 237,
   "metadata": {
    "collapsed": false
   },
   "outputs": [],
   "source": [
    "additional_word_list = ['eat', 'however', 'bad', 'obama', 'lmao']"
   ]
  },
  {
   "cell_type": "code",
   "execution_count": 238,
   "metadata": {
    "collapsed": false
   },
   "outputs": [
    {
     "name": "stdout",
     "output_type": "stream",
     "text": [
      "eat : eat food i to and hungry healthy meat cake sleep \n",
      "however : however spell holidays prob vision , . unfortunately the opinion \n",
      "bad : bad breaking so feel i a it mood . that \n",
      "obama : obama president michelle classy pres 2012 says america actions clip \n",
      "lmao : lmao @u i that was you my the like it \n"
     ]
    }
   ],
   "source": [
    "printSimilarWords(normalizedC, additional_word_list, sim_func=computeCosSimPerWord)"
   ]
  },
  {
   "cell_type": "markdown",
   "metadata": {},
   "source": [
    "## 3. Document Co-occurence ##\n",
    "\n",
    "Compute the document co-occurence matrix $D$, where $d_{i,j}$ is the probability $P(w_j|w_i)$ that word $j$ appears in a tweet, \n",
    "given that word $i$ appears. To do this, first compute the co-occurence counts $CC^\\top$. Substract the diagonal, then normalize \n",
    "each row. \n",
    "\n",
    "Note: it is possible to smooth this probability, but if you naively add some number to the matrix, you will lose sparsity \n",
    "and memory will blow up. You can do it unsmoothed. However, smoothing is not required here."
   ]
  },
  {
   "cell_type": "markdown",
   "metadata": {},
   "source": [
    "** Deliverable 3** For each of the 10 examples above (my five words and your five words), find the 10 most similar words according to cosine similarity of the rows of $D$. (2 points)\n",
    "\n",
    "**Sanity check** For *facebook*, the 5 words I get are *facebook instagram twitter tv youtube*"
   ]
  },
  {
   "cell_type": "code",
   "execution_count": 239,
   "metadata": {
    "collapsed": false
   },
   "outputs": [
    {
     "name": "stdout",
     "output_type": "stream",
     "text": [
      "(9993, 9993)\n"
     ]
    }
   ],
   "source": [
    "def computeCooccurMatrix(C):\n",
    "    '''\n",
    "    Compute the co-occurence matrix D\n",
    "    '''\n",
    "    D = C.dot(C.transpose())\n",
    "    D.setdiag(0)\n",
    "    return D\n",
    "\n",
    "D = computeCooccurMatrix(C)\n",
    "normalizedD = normalizeRow(D)\n",
    "print normalizedD.shape"
   ]
  },
  {
   "cell_type": "code",
   "execution_count": 240,
   "metadata": {
    "collapsed": true
   },
   "outputs": [],
   "source": [
    "word_list = word_list + additional_word_list"
   ]
  },
  {
   "cell_type": "code",
   "execution_count": 241,
   "metadata": {
    "collapsed": false
   },
   "outputs": [
    {
     "name": "stdout",
     "output_type": "stream",
     "text": [
      "coffee : coffee new today drinking getting food after day eating water \n",
      "play : play down be back pass show beat them up run \n",
      "crazy : crazy weird sad not stupid damn actually cool about over \n",
      "facebook : facebook instagram twitter tv youtube tumblr 100 note ex insta \n",
      "hermana : hermana abuela hermano vieja novio novia viejo padre familia corazon \n",
      "eat : eat get drink have cry wear really just watch leave \n",
      "however : however although especially also &amp; after as quite perfect under \n",
      "bad : bad damn actually just like sad i'm but weird fucking \n",
      "obama : obama nick coach poor talent mike action john tom ryan \n",
      "lmao : lmao lmfao lol bruh yea yeah omg aha lmaoo lolol \n"
     ]
    }
   ],
   "source": [
    "printSimilarWords(normalizedD, word_list, sim_func=computeCosSimPerWord)"
   ]
  },
  {
   "cell_type": "markdown",
   "metadata": {},
   "source": [
    "## 4. Latent Semantic Analysis ##\n",
    "\n",
    "Perform truncated SVD (**scipy.sparse.linalg.svds**) to obtain $USV^\\top\\approx C$ using $K=10$. Each row vector $u_i$\n",
    "is a description of the word $i$. You can compute similarity between pairs of words using the squared Euclidean norm \n",
    "$\\|u_i-u_j\\|^2_2$."
   ]
  },
  {
   "cell_type": "markdown",
   "metadata": {},
   "source": [
    "** Deliverable 4(a)** For each of the 10 examples above, find the 10 most similar words according to squared Euclidean distance in $U$. (3 points)\n",
    "\n",
    "**Sanity check** For *facebook*, the top 5 words are *facebook ex harry calls snap *"
   ]
  },
  {
   "cell_type": "code",
   "execution_count": 247,
   "metadata": {
    "collapsed": false
   },
   "outputs": [],
   "source": [
    "def computeEuclidDist(word_idx, U,with_S = False):\n",
    "    '''\n",
    "    Compute the Euclid distance bwteen word with index \"word_idx\" and all words \n",
    "    (including itself)\n",
    "    \n",
    "    Args:\n",
    "      word_idx - the word index\n",
    "      U - latent representation of words\n",
    "    Return:\n",
    "        Euclidean distance from representation of word_idx to all words\n",
    "    '''\n",
    "#     u = U[0]\n",
    "    ui = U[word_idx]\n",
    "    dis = np.sum(np.power(U - ui, 2), 1)\n",
    "    return dis"
   ]
  },
  {
   "cell_type": "code",
   "execution_count": 248,
   "metadata": {
    "collapsed": false
   },
   "outputs": [],
   "source": [
    "'''\n",
    "Once you finish the function computeEuclidDist, run the following code directly to print results\n",
    "'''\n",
    "Cfp= C.asfptype()\n",
    "U, _, _ = svds(Cfp, 10)"
   ]
  },
  {
   "cell_type": "code",
   "execution_count": 249,
   "metadata": {
    "collapsed": false
   },
   "outputs": [
    {
     "name": "stdout",
     "output_type": "stream",
     "text": [
      "coffee : coffee drinking paper cat eating apparently turned short dress months \n",
      "play : play looking everyone anyone another start coming use enough away \n",
      "crazy : crazy gone stupid sad cool yet funny perfect must once \n",
      "facebook : facebook ex harry calls snap instagram ...... uh 18 fav \n",
      "hermana : hermana unas minutos colegio toca novia verte gana juego unos \n",
      "eat : eat wake wanted use idk own hair wear bc might \n",
      "however : however unfortunately dry repeat hip seven sweat jackson slightly fed \n",
      "bad : bad ass long being its than every little while fucking \n",
      "obama : obama 1/2 70 #1 moyes dc education leads murder ghana \n",
      "lmao : lmao omg tho remember until wouldn't heard thinking cant wonder \n"
     ]
    }
   ],
   "source": [
    "printSimilarWords(U, word_list, sim_func=lambda word_idx, U : -computeEuclidDist(word_idx,U))"
   ]
  },
  {
   "cell_type": "markdown",
   "metadata": {},
   "source": [
    "** Deliverable 4(b) ** Now compute the same SVD with $K=50$, and again find the 10 most similar words according to Euclidean distance $U$. (1 point)"
   ]
  },
  {
   "cell_type": "code",
   "execution_count": 250,
   "metadata": {
    "collapsed": false
   },
   "outputs": [
    {
     "name": "stdout",
     "output_type": "stream",
     "text": [
      "coffee : coffee tea wine four gas midnight starbucks service wedding six \n",
      "play : play hang run chill we're agree nobody kids fight games \n",
      "crazy : crazy weird stupid actually af dumb serious dead ugly dude \n",
      "facebook : facebook instagram focus ig netflix earth floor fb tl list \n",
      "hermana : hermana sonrisa llevo plata jajajaj realidad arriba jajaj vuelta novia \n",
      "eat : eat drink cry wear smoke food lazy buy drunk figure \n",
      "however : however criminal despite peeps caps included hidden honesty mass understanding \n",
      "bad : bad far hard funny cute sad cool long true damn \n",
      "obama : obama rooney kevin suarez bjp johnson sterling russia injured peter \n",
      "lmao : lmao dude tho smh lmfao yea af bruh ago kid \n"
     ]
    }
   ],
   "source": [
    "# your code here\n",
    "U50, _, _ = svds(Cfp, 50)\n",
    "printSimilarWords(U50, word_list, sim_func=lambda word_idx, U : -computeEuclidDist(word_idx,U))"
   ]
  },
  {
   "cell_type": "markdown",
   "metadata": {},
   "source": [
    "** Deliverable 4(c) ** Now compute the SVD of the matrix $\\mathbf{D}$, using with $K = 10$, and $K = 50$. Report \n",
    "the most similar words to each of the example words according to Euclidean distance in $U$. (1 point)"
   ]
  },
  {
   "cell_type": "code",
   "execution_count": 251,
   "metadata": {
    "collapsed": false
   },
   "outputs": [
    {
     "name": "stdout",
     "output_type": "stream",
     "text": [
      "coffee : coffee upset leaving crap bullshit boring nights loud losing reading \n",
      "play : play anyone use looking move forward stop win went music \n",
      "crazy : crazy gone mind forever kind hot full fun sick fucked \n",
      "facebook : facebook 24 david alcohol simple 17 traffic 22 priority med \n",
      "hermana : hermana entrar esperar juego colegio saben unico culpa minutos unas \n",
      "eat : eat leave hear live wake stay early ask wear sometimes \n",
      "however : however jackson hill 5th spain george jordan sterling papers cars \n",
      "bad : bad than fucking look ass doing getting already actually made \n",
      "obama : obama available dallas mobile lessons russia ireland services 1/2 tom \n",
      "lmao : lmao omg tweet guys tho ?! xx bro dude funny \n"
     ]
    }
   ],
   "source": [
    "# your code here for K = 10\n",
    "Dfp= D.asfptype()\n",
    "Ud, _, _ = svds(Dfp, 10)\n",
    "printSimilarWords(Ud, word_list, sim_func=lambda word_idx, U : -computeEuclidDist(word_idx,U))"
   ]
  },
  {
   "cell_type": "code",
   "execution_count": 252,
   "metadata": {
    "collapsed": false
   },
   "outputs": [
    {
     "name": "stdout",
     "output_type": "stream",
     "text": [
      "coffee : coffee cream tea ice cheese starbucks chicken chips cake pack \n",
      "play : play run drive beach beat party walk ball join stay \n",
      "crazy : crazy af weird dumb dying freaking gay crying confused stupid \n",
      "facebook : facebook instagram ig netflix focus couch nerves insta floor fb \n",
      "hermana : hermana vieja verga abuela peli loca ropa tarea prueba siesta \n",
      "eat : eat wear drink asleep smoke cry finish break decided sit \n",
      "however : however muslim 28 although 26 among % therefore nor previous \n",
      "bad : bad far cute sad long funny damn weird annoying rn \n",
      "obama : obama goalie rape nt manziel regular false durant melo emoji \n",
      "lmao : lmao dude tho lmfao wow yea bro bet bruh forgot \n"
     ]
    }
   ],
   "source": [
    "# your code here for K = 50\n",
    "Ud50,_, _ = svds(Dfp, 50)\n",
    "printSimilarWords(Ud50, word_list, sim_func=lambda word_idx, U : -computeEuclidDist(word_idx,U))"
   ]
  },
  {
   "cell_type": "code",
   "execution_count": 36,
   "metadata": {
    "collapsed": false
   },
   "outputs": [
    {
     "name": "stdout",
     "output_type": "stream",
     "text": [
      "coffee : coffee tea wine cheese chicken glass workout sandwich milk truck \n",
      "play : play players played against ball agree lebron team player beat \n",
      "crazy : crazy weird fast boring fake bullshit stupid ugly lame dumb \n",
      "facebook : facebook instagram netflix focus ig floor earth couch list nerves \n",
      "hermana : hermana llevar peli abuela plata vieja chica novia hija verga \n",
      "eat : eat drink wear shopping skip ahead cook finish smoke classes \n",
      "however : however therefore standards williams iran despite speaker robert activity receive \n",
      "bad : bad cute far annoying weird pretty hot stupid damn rn \n",
      "obama : obama melo nick injured sterling suarez kevin jones peter bosh \n",
      "lmao : lmao dude lmfao bruh tho smh yea wow af bro \n"
     ]
    }
   ],
   "source": [
    "# optionally, try K = 100 and see if it's even better\n",
    "Ud100,_, _ = svds(Dfp, 100)\n",
    "printSimilarWords(Ud100, word_list, sim_func=lambda word_idx, U : -computeEuclidDist(word_idx,U))"
   ]
  },
  {
   "cell_type": "markdown",
   "metadata": {},
   "source": [
    "## 5. Local Context ##\n",
    "\n",
    "Local context captures the frequency with which words appear in each others’ immediate context. We have provided a CSV file (succ_trips_50k.csv)  in which each line contains a triple $\\langle x,y,z\\rangle$, \n",
    "where $x$ and $y$ are term IDs and $z$ is the count of times where $y$ immediately follows $x$ . \n",
    "The vocabulary has now increased to 50K words. There is an associated vocabulary file, **vocab.50k**.\n",
    "\n",
    "**Deliverable 5a **\n",
    "Build a sparse matrix $\\mathbf{E}$ from these triples. Normalize the rows of $\\mathbf{E}$, such that $e_{i,j}=\\frac{n(i,j)}{n(i)}$, the probability of seeing word $j$ given that you have just seen word $i$. \n",
    "Now form a matrix $\\mathbf{F} = [\\mathbf{E}~ \\mathbf{E}’]$ by horizontally concatenating the normalized matrix $\\mathbf{E}$. You will perform sparse singular value decomposition on $\\mathbf{F}$. (2 points)\n",
    "\n",
    "**Hint** make sure you are using a sparsity-preserving operation to combine E and E'!"
   ]
  },
  {
   "cell_type": "code",
   "execution_count": 253,
   "metadata": {
    "collapsed": false
   },
   "outputs": [],
   "source": [
    "idx_50, iidx_50 = readVocab('data/ps6/vocab.50k')\n",
    "E = csv2csr('data/ps6/succ_trips_50k.csv')"
   ]
  },
  {
   "cell_type": "code",
   "execution_count": 254,
   "metadata": {
    "collapsed": false
   },
   "outputs": [],
   "source": [
    "from scipy.sparse import hstack\n",
    "def constructF(E):\n",
    "    '''\n",
    "    Finish the following code to construct F from E\n",
    "    '''   \n",
    "    Enorm = normalizeRow(E)\n",
    "    return hstack([Enorm, Enorm.T])\n",
    "    \n",
    "F = constructF(E)"
   ]
  },
  {
   "cell_type": "markdown",
   "metadata": {},
   "source": [
    "** Deliverable 5b ** For $K = 10$ and $K = 50$ compute the top 10 synonyms for each of your ten words. (1 point)"
   ]
  },
  {
   "cell_type": "code",
   "execution_count": 255,
   "metadata": {
    "collapsed": false
   },
   "outputs": [
    {
     "name": "stdout",
     "output_type": "stream",
     "text": [
      "coffee : coffee gold victory purple women learning track line speech story \n",
      "play : play start playing eat live through watch top doing win \n",
      "crazy : crazy monday sad card fun times session plant slow died \n",
      "facebook : facebook cnn humble fest pots andre gracious giro mature 42 \n",
      "hermana : hermana hermano devant avc vite pilas grosse hubo estudie emos \n",
      "eat : eat live pay driving sell west leave play chicken walk \n",
      "however : however sincerely ect slc luhan cech suram bjss giliran kecewa \n",
      "bad : bad job different long fan fat bitch movie goal real \n",
      "obama : obama relax epic 32 summit gd subtweets tom ukip wednesday \n",
      "lmao : lmao lmfao omg hahahah hahahahahaha hahahahah amen shhh imy kmsl \n"
     ]
    }
   ],
   "source": [
    "# K = 10\n",
    "U_f,S_f,V_f = svds(F, 10)\n",
    "# note that we have to insert the new vocabulary as an optional argument\n",
    "printSimilarWords(U_f, word_list, vocab=idx_50,ivocab=iidx_50, sim_func=lambda word_idx, U : -computeEuclidDist(word_idx,U))"
   ]
  },
  {
   "cell_type": "code",
   "execution_count": 256,
   "metadata": {
    "collapsed": false
   },
   "outputs": [
    {
     "name": "stdout",
     "output_type": "stream",
     "text": [
      "coffee : coffee milk selfies management bacon citizen ministers jelly folding hawaiian \n",
      "play : play fly meet committed drive prove speaks stick learn decide \n",
      "crazy : crazy dead scary funny dope intense annoying awful disgusting upsetting \n",
      "facebook : facebook netflix youtube saturdays pinterest i-45 focused tabs sundays twitter \n",
      "hermana : hermana piace costaba avete siendo repita sento menea hepimiz prennent \n",
      "eat : eat try earn meet declare peel convert receive pretend destroy \n",
      "however : however citrus blvd terk 0kph dormirei eaai bjbj smoothly sincerely \n",
      "bad : bad long fake special bitch fat girl single grown fuxking \n",
      "obama : obama manziel convenient kejriwal rigged surgeon mandatory #22jumpstreet jojo pattern \n",
      "lmao : lmao lmfao omg yeah lmaooo ctfu yea lmfaoo omfg lolz \n"
     ]
    }
   ],
   "source": [
    "# your code for K = 50 here\n",
    "U50_f,S50_f,V50_f = svds(F, 50)\n",
    "printSimilarWords(U50_f, word_list, vocab=idx_50, ivocab=iidx_50, sim_func=lambda word_idx, U : -computeEuclidDist(word_idx,U))"
   ]
  },
  {
   "cell_type": "markdown",
   "metadata": {},
   "source": [
    "**Deliverable 5c ** Overall, which set of synonyms looks best to you? \n",
    "Count how many of the top 5 synonyms for *coffee* and   *crazy*\n",
    "have the same majority part of speech (e.g., *play* is a verb) as the cue word.\n",
    "Use the tagset from the [Twitter POS paper](http://www.cc.gatech.edu/~jeisenst/papers/acl2012pos.pdf). Does local context or document context do better at matching the POS of the cue words? Why? (Consider first context provided by wordnet as majority POS). (3 points)"
   ]
  },
  {
   "cell_type": "markdown",
   "metadata": {},
   "source": [
    "Overall, comparing among local context only, k=50 looks best. For k=50, we have 5 nouns for coffee and 4 nouns (funny, dead, scary) and 1 nouns (dope) for crazy. For Document context k = 50, we have 5 nouns for coffee and 4 and  \"af\" which is probably an abbreviation. Therefore, I think that local context do better at matching the POS of the cue words, because  the 4 nouns (1st context in word net) are all adjectives. But also, because local context is a more fine grained vector representation of the word, it will group words of the same POS. In english, DT+N are more likely to occurs than DT+DT, because of these grammatical rules, local context works better in tasks such as POS tagging. Document context, will more likely group group the same word with same \"topic\". "
   ]
  },
  {
   "cell_type": "markdown",
   "metadata": {},
   "source": [
    "## 6. Word2Vec ##\n",
    "As mentioned in the class Word2Vec are distributed continuous vector representations  for words.\n",
    "In this part, you will be building and training Word2Vec module keeping in mind various hyper parameters such as min_count, window_size etc.(10 points)\n",
    "You will be using Gensim http://radimrehurek.com/gensim/ to train your model.\n",
    "\n",
    "- For instructions on how to install gensim, see [here](https://radimrehurek.com/gensim/install.html). \n",
    "- I strongly recommend that you test your install by downloading the [source](http://pypi.python.org/pypi/gensim) and running ```python setup.py test```\n",
    "- For a tutorial on how to use gensim for word embeddings, see [here](http://rare-technologies.com/word2vec-tutorial/)\n",
    "- It is recommended that you have a working c compiler, so that the much faster cythonized gensim can run. This is transparent to you, but does require that you have a c compiler installed.\n"
   ]
  },
  {
   "cell_type": "code",
   "execution_count": 270,
   "metadata": {
    "collapsed": true
   },
   "outputs": [],
   "source": [
    "from nltk.tokenize import word_tokenize\n",
    "from gensim.models import Word2Vec"
   ]
  },
  {
   "cell_type": "code",
   "execution_count": 271,
   "metadata": {
    "collapsed": true
   },
   "outputs": [],
   "source": [
    "def read_data(filename):\n",
    "        print \"Opening the file...\"\n",
    "\n",
    "        X_train = []\n",
    "\n",
    "        f = open(filename,'r')\n",
    "        count = 0\n",
    "        for line in f.readlines():\n",
    "            sentence = []\n",
    "            line = line.strip()\n",
    "            if not line: continue\n",
    "            try:\n",
    "                sentence = word_tokenize(line)\n",
    "            except:\n",
    "                pass\n",
    "            if(len(sentence) > 2):\n",
    "                count =count+1\n",
    "                X_train.append(array(sentence))\n",
    "            # else:\n",
    "            #      print \"No words\"\n",
    "            #      print sentence\n",
    "\n",
    "        print \"File successfully read\"\n",
    "        print count , \"sentences\"\n",
    "        f.close()\n",
    "        return array(X_train)"
   ]
  },
  {
   "cell_type": "code",
   "execution_count": 259,
   "metadata": {
    "collapsed": false
   },
   "outputs": [
    {
     "name": "stdout",
     "output_type": "stream",
     "text": [
      "Opening the file...\n",
      "File successfully read\n",
      "17392 sentences\n"
     ]
    }
   ],
   "source": [
    "sentences = read_data('data/ps6/wiki.train.en')"
   ]
  },
  {
   "cell_type": "markdown",
   "metadata": {},
   "source": [
    "To build and train model you will be using [Gensim](http://radimrehurek.com/gensim/). \n",
    "\n",
    "This [tutorial](https://radimrehurek.com/gensim/models/word2vec.html) may help."
   ]
  },
  {
   "cell_type": "markdown",
   "metadata": {},
   "source": [
    "**Deliverable 6a**: Build a model with embedding size = 10, and build a vocabulary from the data, with min_count = 10. Print the vocabulary size, which should be between 9000 and 10000. (1 point)"
   ]
  },
  {
   "cell_type": "code",
   "execution_count": 260,
   "metadata": {
    "collapsed": false
   },
   "outputs": [
    {
     "name": "stderr",
     "output_type": "stream",
     "text": [
      "WARNING:gensim.models.word2vec:consider setting layer size to a multiple of 4 for greater performance\n"
     ]
    },
    {
     "name": "stdout",
     "output_type": "stream",
     "text": [
      "Vocab Size 9911\n"
     ]
    }
   ],
   "source": [
    "# your code here\n",
    "model = Word2Vec(size=10, min_count=10)\n",
    "model.build_vocab(sentences)\n",
    "print 'Vocab Size', len(model.vocab)"
   ]
  },
  {
   "cell_type": "markdown",
   "metadata": {},
   "source": [
    "**Deliverable 6b**: Train your model for one iteration, and report the similarity between the words (\"cat\" and \"dog\"), (\"night\" and \"day\"), and (\"can\" and \"fish\"). (2 points)\n",
    "\n",
    "**Hint**: before training on the whole dataset, train on sentences[0:5] to make sure it works and isn't too slow. On my laptop, one iteration takes 2-3 seconds. \n",
    "\n",
    "**Sanity check** the similarity I get between \"cat\" and \"dog\" is 0.13"
   ]
  },
  {
   "cell_type": "code",
   "execution_count": 261,
   "metadata": {
    "collapsed": false
   },
   "outputs": [
    {
     "name": "stdout",
     "output_type": "stream",
     "text": [
      "cat dog -0.185590503808\n",
      "night day 0.46156263486\n",
      "can fish 0.0214166420165\n"
     ]
    }
   ],
   "source": [
    "# your code here\n",
    "model.train(sentences)\n",
    "for tup in [ (\"cat\" , \"dog\"), (\"night\" , \"day\"),  (\"can\" , \"fish\") ]:\n",
    "    print tup[0], tup[1], model.similarity(tup[0] , tup[1])"
   ]
  },
  {
   "cell_type": "markdown",
   "metadata": {},
   "source": [
    "I never was able to pass the sanity check. And the code below is trying to investigate the problem as per Parry suggestion on Piazza. I am training my NN model with 1 to 20 iteration. Varying  the number of iteration I am never getting the sanity check value (0.13). My guess is that we are  using different dataset because some of the word in word_list are not present in the dictionary.\n"
   ]
  },
  {
   "cell_type": "code",
   "execution_count": 105,
   "metadata": {
    "collapsed": false
   },
   "outputs": [
    {
     "name": "stderr",
     "output_type": "stream",
     "text": [
      "WARNING:gensim.models.word2vec:consider setting layer size to a multiple of 4 for greater performance\n",
      "WARNING:gensim.models.word2vec:consider setting layer size to a multiple of 4 for greater performance\n",
      "WARNING:gensim.models.word2vec:consider setting layer size to a multiple of 4 for greater performance\n",
      "WARNING:gensim.models.word2vec:consider setting layer size to a multiple of 4 for greater performance\n",
      "WARNING:gensim.models.word2vec:consider setting layer size to a multiple of 4 for greater performance\n",
      "WARNING:gensim.models.word2vec:consider setting layer size to a multiple of 4 for greater performance\n",
      "WARNING:gensim.models.word2vec:consider setting layer size to a multiple of 4 for greater performance\n",
      "WARNING:gensim.models.word2vec:consider setting layer size to a multiple of 4 for greater performance\n",
      "WARNING:gensim.models.word2vec:consider setting layer size to a multiple of 4 for greater performance\n",
      "WARNING:gensim.models.word2vec:consider setting layer size to a multiple of 4 for greater performance\n",
      "WARNING:gensim.models.word2vec:consider setting layer size to a multiple of 4 for greater performance\n",
      "WARNING:gensim.models.word2vec:consider setting layer size to a multiple of 4 for greater performance\n",
      "WARNING:gensim.models.word2vec:consider setting layer size to a multiple of 4 for greater performance\n",
      "WARNING:gensim.models.word2vec:consider setting layer size to a multiple of 4 for greater performance\n",
      "WARNING:gensim.models.word2vec:consider setting layer size to a multiple of 4 for greater performance\n",
      "WARNING:gensim.models.word2vec:consider setting layer size to a multiple of 4 for greater performance\n",
      "WARNING:gensim.models.word2vec:consider setting layer size to a multiple of 4 for greater performance\n",
      "WARNING:gensim.models.word2vec:consider setting layer size to a multiple of 4 for greater performance\n",
      "WARNING:gensim.models.word2vec:consider setting layer size to a multiple of 4 for greater performance\n"
     ]
    },
    {
     "name": "stdout",
     "output_type": "stream",
     "text": [
      "(1, -0.18559050380843495)\n",
      "(2, -0.23568871353679591)\n",
      "(3, -0.22201573673069694)\n",
      "(4, -0.14041723026758413)\n",
      "(5, -0.056319806929990418)\n",
      "(6, 0.054927368041018443)\n",
      "(7, 0.16042375484429922)\n",
      "(8, 0.23634676631017865)\n",
      "(9, 0.30109205581079501)\n",
      "(10, 0.35358735886400605)\n",
      "(11, 0.40393237603474819)\n",
      "(12, 0.44006670435641032)\n",
      "(13, 0.4705096827222216)\n",
      "(14, 0.50169483485425803)\n",
      "(15, 0.51993819381285111)\n",
      "(16, 0.53122100154660479)\n",
      "(17, 0.53966607709433301)\n",
      "(18, 0.54765018484556804)\n",
      "(19, 0.55813747202596131)\n"
     ]
    }
   ],
   "source": [
    "\n",
    "res = []\n",
    "for i in range(1, 20):\n",
    "    model = Word2Vec(size=10, min_count=10, iter=i)\n",
    "    model.build_vocab(sentences)\n",
    "    model.train(sentences)\n",
    "    res.append( (i, model.similarity(\"cat\", \"dog\")) )\n",
    "\n",
    "for val in res:\n",
    "    print val"
   ]
  },
  {
   "cell_type": "markdown",
   "metadata": {},
   "source": [
    "**Deliverable 6c** Modify the code below to compare the performance of different embedding sizes. (2 points)"
   ]
  },
  {
   "cell_type": "code",
   "execution_count": 262,
   "metadata": {
    "collapsed": true
   },
   "outputs": [],
   "source": [
    "def trainMod(model,sentences,max_its=10):\n",
    "    # your code to build the vocabulary\n",
    "    model.build_vocab(sentences)\n",
    "    scores = []\n",
    "    times = []\n",
    "    for _ in xrange(max_its):\n",
    "        # your code to train the model\n",
    "        model.train(sentences)\n",
    "        scores.append(sum(model.score(sentences)))\n",
    "        times.append(model.total_train_time)\n",
    "    return scores,times"
   ]
  },
  {
   "cell_type": "code",
   "execution_count": 261,
   "metadata": {
    "collapsed": false
   },
   "outputs": [
    {
     "name": "stdout",
     "output_type": "stream",
     "text": [
      "done with 20\n",
      "done with 40\n",
      "done with 100\n"
     ]
    },
    {
     "data": {
      "text/plain": [
       "<matplotlib.text.Text at 0x10a172ad0>"
      ]
     },
     "execution_count": 261,
     "metadata": {},
     "output_type": "execute_result"
    },
    {
     "data": {
      "image/png": "[encoded data removed]",
      "text/plain": [
       "<matplotlib.figure.Figure at 0x10fa4ced0>"
      ]
     },
     "metadata": {},
     "output_type": "display_data"
    }
   ],
   "source": [
    "all_k = [20,40,100] # embedding sizes\n",
    "models = []\n",
    "for k in all_k:\n",
    "    model = Word2Vec(size=k, min_count=10) #your code to create a model here\n",
    "    models.append(model)\n",
    "    scores,times = trainMod(model,sentences)\n",
    "    plt.plot(times,scores,'o-');\n",
    "    model.save('model-%d'%(k))\n",
    "    print 'done with',k\n",
    "plt.legend(['k=%d'%(k) for k in all_k],loc='lower right');\n",
    "plt.xlabel('time')\n",
    "plt.ylabel('log likelihood')"
   ]
  },
  {
   "cell_type": "markdown",
   "metadata": {},
   "source": [
    "**Deliverable 6d** Use the ```most_similar``` function to find similar words to the items in your word_list which are in the vocabulary for your word2vec models. Compare these most similar words with the outputs of the methods tried earlier in the assignment. You may train the word2vec models for longer if you wish, or change any of the parameters. (2 points)"
   ]
  },
  {
   "cell_type": "code",
   "execution_count": 265,
   "metadata": {
    "collapsed": false
   },
   "outputs": [
    {
     "name": "stdout",
     "output_type": "stream",
     "text": [
      "coffee [('corn', 0.7294453382492065), ('malaria', 0.6128679513931274), ('garlic', 0.594876229763031), ('vegetables', 0.5727822780609131), ('including', 0.5688510537147522), ('fruits', 0.5647943019866943), ('plantations', 0.5485647916793823), ('timber', 0.5370337963104248), ('pesticides', 0.5333492159843445), ('archaeologist', 0.5310918092727661)]\n",
      "\n",
      "play [('match', 0.6616064310073853), ('player', 0.6611164808273315), ('win', 0.6167067289352417), ('played', 0.6134511232376099), ('poem', 0.6069166660308838), ('complete', 0.6020978689193726), ('playing', 0.6020245552062988), ('title', 0.5942506790161133), ('record', 0.5868809223175049), ('publishing', 0.5814587473869324)]\n",
      "\n",
      "eat [('go', 0.6547254323959351), ('feel', 0.619719386100769), ('prefer', 0.6002815961837769), ('begin', 0.6000480055809021), ('retain', 0.5985276699066162), ('die', 0.5955405235290527), ('roll', 0.5931673049926758), ('alter', 0.5815973281860352), ('write', 0.5813913345336914), ('kill', 0.5784034729003906)]\n",
      "\n",
      "however [('though', 0.8336471915245056), ('although', 0.8013935089111328), ('but', 0.7971577644348145), ('particularly', 0.6888761520385742), ('However', 0.6489366888999939), ('whereas', 0.6426728367805481), ('albeit', 0.6399853229522705), ('unlike', 0.6317364573478699), ('despite', 0.6306124925613403), ('while', 0.6231833100318909)]\n",
      "\n",
      "bad [('good', 0.6968411207199097), ('breath', 0.6847161650657654), ('stuff', 0.6436006426811218), ('challenging', 0.6292107105255127), ('your', 0.6251667141914368), ('burned', 0.6014106273651123), ('discoveries', 0.599615216255188), ('dead', 0.5863392353057861), ('hard', 0.5825343132019043), ('exhausted', 0.5823886394500732)]\n",
      "\n"
     ]
    }
   ],
   "source": [
    "# your code here\n",
    "model = Word2Vec(size=40, window=2, min_count=10, iter=20)\n",
    "model.build_vocab(sentences)\n",
    "model.train(sentences)\n",
    "\n",
    "for word in word_list:\n",
    "    if model.vocab.get(word, None) is not None:\n",
    "        print word, model.most_similar(word, topn=10)\n",
    "        print"
   ]
  },
  {
   "cell_type": "code",
   "execution_count": 264,
   "metadata": {
    "collapsed": false
   },
   "outputs": [
    {
     "name": "stdout",
     "output_type": "stream",
     "text": [
      "coffee [('potatoes', 0.7268721461296082), ('vegetables', 0.6941648721694946), ('corn', 0.6798322200775146), ('tobacco', 0.6714348793029785), ('malaria', 0.6205626726150513), ('grain', 0.6055560111999512), ('timber', 0.6039122343063354), ('including', 0.6036748886108398), ('plantations', 0.5978448390960693), ('heavy', 0.595740795135498)]\n",
      "\n",
      "play [('played', 0.7180835008621216), ('playing', 0.6642876863479614), ('match', 0.6543033123016357), ('series', 0.6428815126419067), ('exhibition', 0.6377089619636536), ('Woman', 0.635080873966217), ('Prix', 0.6338220238685608), ('poem', 0.626748263835907), ('label', 0.6243517994880676), ('tournament', 0.6238453984260559)]\n",
      "\n",
      "eat [('dry', 0.7363560199737549), ('habitat', 0.7009164094924927), ('wet', 0.6376341581344604), ('die', 0.6266137361526489), ('cut', 0.6248670816421509), ('washed', 0.6168434619903564), ('burrows', 0.6137838363647461), ('dig', 0.6098240613937378), ('carry', 0.5999523401260376), ('feel', 0.5996619462966919)]\n",
      "\n",
      "however [('although', 0.7917956113815308), ('but', 0.7632336616516113), ('though', 0.7574286460876465), ('albeit', 0.6893175840377808), ('However', 0.6336101293563843), ('implying', 0.5954391956329346), ('obviously', 0.5571974515914917), ('yet', 0.5543902516365051), ('otherwise', 0.5542657971382141), ('Additionally', 0.5449309349060059)]\n",
      "\n",
      "bad [('luck', 0.7602777481079102), ('clothes', 0.7210723161697388), ('dead', 0.7069070935249329), ('courage', 0.703049898147583), ('good', 0.702174186706543), ('stuff', 0.7015720009803772), ('souls', 0.6691002249717712), ('righteous', 0.6650058031082153), ('breath', 0.6642875075340271), ('nothing', 0.6593547463417053)]\n",
      "\n"
     ]
    }
   ],
   "source": [
    "model = Word2Vec(size=40, min_count=10, iter=10)\n",
    "model.build_vocab(sentences)\n",
    "model.train(sentences)\n",
    "\n",
    "for word in word_list:\n",
    "    if model.vocab.get(word, None) is not None:\n",
    "        print word, model.most_similar(word, topn=10)\n",
    "        print"
   ]
  },
  {
   "cell_type": "code",
   "execution_count": 266,
   "metadata": {
    "collapsed": false
   },
   "outputs": [
    {
     "name": "stdout",
     "output_type": "stream",
     "text": [
      "coffee [('vegetables', 0.6981878876686096), ('mainly', 0.6884240508079529), ('gardens', 0.6504737734794617), ('plants', 0.6424846649169922), ('corn', 0.6412544846534729), ('wax', 0.6404876112937927), ('grown', 0.6328819394111633), ('medicinal', 0.6059005856513977), ('oils', 0.602105975151062), ('wool', 0.5900459289550781)]\n",
      "\n",
      "play [('played', 0.793332040309906), ('playing', 0.7486417889595032), ('winning', 0.7475817203521729), ('won', 0.722314715385437), ('series', 0.7151572704315186), ('career', 0.7040847539901733), ('best', 0.6990811824798584), ('win', 0.6935960054397583), ('consecutive', 0.6671965718269348), ('title', 0.666883111000061)]\n",
      "\n",
      "eat [('termites', 0.7249428629875183), ('milk', 0.7072340250015259), ('taste', 0.7037180662155151), ('diet', 0.6928315162658691), ('animals', 0.6821407675743103), ('eating', 0.6770639419555664), ('skin', 0.6760431528091431), ('aardwolf', 0.6687951683998108), ('insects', 0.6676982641220093), ('substitute', 0.6623916625976562)]\n",
      "\n",
      "however [('implying', 0.6809163093566895), ('those', 0.664533257484436), ('Although', 0.6556066274642944), ('However', 0.6547245979309082), ('yet', 0.652030348777771), ('though', 0.6436543464660645), ('difficult', 0.6400911808013916), ('although', 0.6384435892105103), ('even', 0.6344159841537476), ('claim', 0.6196959018707275)]\n",
      "\n",
      "bad [('good', 0.794963538646698), ('reward', 0.7589849829673767), ('dead', 0.7384369373321533), ('punishment', 0.7374861240386963), ('deeds', 0.7289911508560181), ('suffer', 0.7265564203262329), ('suffering', 0.7262845039367676), ('souls', 0.7244699597358704), ('angels', 0.7235980033874512), ('hell', 0.7108486890792847)]\n",
      "\n"
     ]
    }
   ],
   "source": [
    "# your code here\n",
    "model = Word2Vec(size=40, window=30, min_count=10, iter=20)\n",
    "model.build_vocab(sentences)\n",
    "model.train(sentences)\n",
    "\n",
    "for word in word_list:\n",
    "    if model.vocab.get(word, None) is not None:\n",
    "        print word, model.most_similar(word, topn=10)\n",
    "        print"
   ]
  },
  {
   "cell_type": "markdown",
   "metadata": {},
   "source": [
    "(your explanation here)"
   ]
  },
  {
   "cell_type": "markdown",
   "metadata": {},
   "source": [
    "One of the claims about word2vec word embeddings is that they can solve analogy problems, like \"man:woman::king:queen\"\n",
    "\n",
    "[This tutorial](http://rare-technologies.com/word2vec-tutorial/) contains example code showing how to use word vectors to try to solve analogies.\n",
    "\n",
    "**Deliverable 6e** Using the three models trained in the previous deliverable, see if each can solve the analogies man:woman::king:queen and architect:building::painter:painting. Invent two more analogies, and see which of the three models can solve them. You can Google analogies, but you may have to search for a while to find analogies where all four elements are in the vocabulary. You can also retrain the models with a larger vocabulary if you want. (2 points)"
   ]
  },
  {
   "cell_type": "code",
   "execution_count": 272,
   "metadata": {
    "collapsed": false
   },
   "outputs": [],
   "source": [
    "# your code here\n",
    "from nltk.tokenize import sent_tokenize\n",
    "def readExtData(filename='oanc'):\n",
    "    print \"Opening the file...\"\n",
    "    f = open(filename,'r')\n",
    "    count = 0\n",
    "    for line in f.readlines():\n",
    "        line = line.decode('utf-8').strip()\n",
    "        corpus = [ sent for sent in sent_tokenize(line) ]\n",
    "    f.close()"
   ]
  },
  {
   "cell_type": "code",
   "execution_count": 276,
   "metadata": {
    "collapsed": false
   },
   "outputs": [],
   "source": [
    "# grep '[^[:blank:]]' < out.txt |   tr -cd \"[:print:]\" | tr \"\\t\" \" \" | tr -s \" \" \" \"  | tr -cd '[:print:]' > oanc\n",
    "\n",
    "import os\n",
    "from nltk.tokenize import sent_tokenize\n",
    "                \n",
    "class MySentences(): \n",
    "    def __init__(self, dirname):\n",
    "        self.dirname = dirname\n",
    "                \n",
    "    def __iter__(self):\n",
    "        for base, dirs, files in os.walk(self.dirname):\n",
    "            for fname in files:\n",
    "                if fname.endswith(\".txt\"):\n",
    "                    for line in open(os.path.join(base, fname)):\n",
    "                        yield line.split()        \n",
    "                        \n",
    "dirname = 'data/oanc'\n",
    "oancsent = MySentences(dirname)"
   ]
  },
  {
   "cell_type": "code",
   "execution_count": 277,
   "metadata": {
    "collapsed": false
   },
   "outputs": [],
   "source": [
    "# Retraining with OANC data\n",
    "models = []\n",
    "all_k = [20,40,100] # embedding sizes\n",
    "\n",
    "for k in all_k:\n",
    "    m = Word2Vec(size=k, window=5, min_count=10, workers=6)\n",
    "    m.build_vocab(oancsent)\n",
    "    m.train(oancsent)\n",
    "    m.save('data/ps6/oanc-model-%d'%(k))\n",
    "    models.append(m)    "
   ]
  },
  {
   "cell_type": "code",
   "execution_count": null,
   "metadata": {
    "collapsed": true
   },
   "outputs": [],
   "source": [
    "for m in models:\n",
    "    "
   ]
  },
  {
   "cell_type": "code",
   "execution_count": 304,
   "metadata": {
    "collapsed": false
   },
   "outputs": [
    {
     "name": "stdout",
     "output_type": "stream",
     "text": [
      "[('woman', 0.5562066435813904)]\n",
      "[('economist', 0.5732414722442627)]\n",
      "[('mother', 0.664458692073822)]\n",
      "[('father', 0.6972864270210266)]\n",
      "[('bigger', 0.5035749077796936)]\n",
      "[('Belgrade.', 0.5481985807418823)]\n"
     ]
    }
   ],
   "source": [
    "# model = Word2Vec(size=200, window=5, min_count=10, workers=6)\n",
    "# model.build_vocab(oancsent)\n",
    "# model.train(oancsent)\n",
    "\n",
    "print model.most_similar(positive=['man', 'king'], negative=['queen'], topn=1) #  man:woman::king:queen \n",
    "print model.most_similar(positive=['architect', 'painter'], negative=['painting'], topn=1) # architect:building::painter:painting\n",
    "\n",
    "print model.most_similar(positive=['woman','father'],negative=['man'], topn=1) # woman:mother::man:father\n",
    "print model.most_similar(positive=['brother','mother'],negative=['sister'], topn=1) # brother:father::mother::sister\n",
    "print model.most_similar(positive=['big', 'smaller'],negative=['small'], topn=1) # big:bigger::small:smaller\n",
    "print model.most_similar(positive=['France', 'Paris'], negative='Rome', topn=1) # Paris:France::Italy:Rome"
   ]
  },
  {
   "cell_type": "markdown",
   "metadata": {},
   "source": [
    "#### 7. Semi-supervised learning #\n",
    "\n",
    "Now you will use the word embeddings to try to improve your dependency parser from problem set 5.\n",
    "\n",
    "You will do this by clustering words according to their embedding.\n",
    "\n",
    "The code below run the clustering algorithm."
   ]
  },
  {
   "cell_type": "code",
   "execution_count": 10,
   "metadata": {
    "collapsed": true
   },
   "outputs": [],
   "source": [
    "from scipy.cluster.vq import kmeans2"
   ]
  },
  {
   "cell_type": "code",
   "execution_count": 216,
   "metadata": {
    "collapsed": false
   },
   "outputs": [
    {
     "name": "stdout",
     "output_type": "stream",
     "text": [
      "Opening the file...\n",
      "File successfully read\n",
      "17392 sentences\n"
     ]
    },
    {
     "data": {
      "text/plain": [
       "11041330"
      ]
     },
     "execution_count": 216,
     "metadata": {},
     "output_type": "execute_result"
    }
   ],
   "source": [
    "sentences = read_data('data/ps6/wiki.train.en')\n",
    "model = Word2Vec(size=100, min_count=10, iter=10)\n",
    "model.build_vocab(sentences)\n",
    "model.train(sentences)"
   ]
  },
  {
   "cell_type": "code",
   "execution_count": 217,
   "metadata": {
    "collapsed": false
   },
   "outputs": [],
   "source": [
    "# choose a model to use here\n",
    "word_vectors = model.syn0\n",
    "num_clusters = 150\n",
    "# run the clustering algorithm\n",
    "centroids, labels = kmeans2(word_vectors,num_clusters,iter=100,minit='points')"
   ]
  },
  {
   "cell_type": "markdown",
   "metadata": {},
   "source": [
    "**Deliverable 7a** Modify the code below to show the words in the same cluster as a query word. Find the words in the same cluster as \"coffee\", \"computer\", and \"red\" for at least one of your models, plus any other words of interest. (3 points)"
   ]
  },
  {
   "cell_type": "code",
   "execution_count": 10,
   "metadata": {
    "collapsed": false
   },
   "outputs": [
    {
     "name": "stdout",
     "output_type": "stream",
     "text": [
      "['production', 'products', 'industry', 'construction', 'commercial', 'companies', 'industrial', 'transport', 'goods', 'domestic']\n",
      "['Apple', 'computer', 'devices', 'Newton', 'software', 'digital', 'X', 'Jobs', 'computers', 'operating']\n",
      "['body', 'white', 'cells', 'black', 'animal', 'heart', 'inside', 'upper', 'blood', 'red']\n"
     ]
    }
   ],
   "source": [
    "def getWordsInSameCluster(word,model,labels):\n",
    "    # you will use model.index2word to make this function\n",
    "    # return a list of words in the same cluster as word\n",
    "    if word in model.index2word:\n",
    "        label = labels[model.index2word.index(word)]\n",
    "        idx = [ i for i, lbl in enumerate(labels) if label == lbl ]\n",
    "        return [ model.index2word[i] for i in idx ]\n",
    "    else:\n",
    "        return []\n",
    "\n",
    "print getWordsInSameCluster('coffee', model, labels)[:10]\n",
    "print getWordsInSameCluster('computer', model, labels)[:10]\n",
    "print getWordsInSameCluster('red', model, labels)[:10]"
   ]
  },
  {
   "cell_type": "markdown",
   "metadata": {},
   "source": [
    "## Improving dependency parsing ##\n",
    "\n",
    "Now incorporate these cluster features into your best performing parser from project 5, based on the dev data. Add a feature for each cluster/tag pair, e.g., C175/N, C189/V, etc. You will then compute the accuracy with training sets of various sizes, comparing the performance of your model with and without the cluster features.\n",
    "\n",
    "**Deliverable 7b ** Build training sets including the first 50, 100, 200, 500, and 1000 *sentences* (not words). \n",
    "Train your tagger on each training set, using your original features, and plot the accuracy on the development set. \n",
    "Then retrain you tagger, including the new word cluster features, and plot accuracy on the development set on the same plot. \n",
    "Run for at least 10 iterations in each case.\n",
    "\n",
    "You may want to try larger numbers of clusters to improve performance. \n",
    "\n",
    "You can even include the results from multiple clusterings with different numbers of clusters (50, 100, 200, 500, ...), \n",
    "using features like C43-50/N (cluster 43 of 50, with tag N), C377-500/V (cluster 377 of 500, with tag V).\n",
    "\n",
    "You can also use clusters for the features of neighboring words.  (6 points)"
   ]
  },
  {
   "cell_type": "code",
   "execution_count": 218,
   "metadata": {
    "collapsed": false
   },
   "outputs": [],
   "source": [
    "import numpy as np\n",
    "from os.path import join\n",
    "import gtparsing\n",
    "import gtparsing.dependency_parser as depp\n",
    "import gtparsing.dependency_features as depf\n",
    "import gtparsing.custom_features\n",
    "\n",
    "from score import accuracy\n",
    "from gtparsing.custom_features import BakeoffFeats, CustomFeats"
   ]
  },
  {
   "cell_type": "code",
   "execution_count": 174,
   "metadata": {
    "collapsed": false
   },
   "outputs": [
    {
     "data": {
      "text/plain": [
       "<module 'gtparsing.dependency_features' from 'gtparsing/dependency_features.pyc'>"
      ]
     },
     "execution_count": 174,
     "metadata": {},
     "output_type": "execute_result"
    }
   ],
   "source": [
    "reload(gtparsing.dependency_parser)\n",
    "reload(gtparsing.dependency_reader)\n",
    "reload(gtparsing.custom_features)\n",
    "reload(gtparsing.dependency_features)"
   ]
  },
  {
   "cell_type": "code",
   "execution_count": 219,
   "metadata": {
    "collapsed": false
   },
   "outputs": [],
   "source": [
    "# your code here\n",
    "class W2V_ClusterFeats(BakeoffFeats):\n",
    "    def __init__(self, model, labels, num_cluster):\n",
    "        self.model = model\n",
    "        self.labels = labels\n",
    "        self.cluster_sizes = num_cluster\n",
    "        \n",
    "    \n",
    "    def create_arc_features(self,instance,h,m,add=False):\n",
    "        ff = super(W2V_ClusterFeats, self).create_arc_features(instance,h,m,add)\n",
    "        hdword = self.lookup_word(instance.words[h])\n",
    "        dpword = self.lookup_word(instance.words[m])\n",
    "        htag = instance.pos[h]\n",
    "        mtag = instance.pos[m]\n",
    "        for i, cluster_size in enumerate(self.cluster_sizes):\n",
    "            if hdword in model.vocab and dpword in model.vocab and htag >= 0 and mtag >= 0:\n",
    "                hdlbl = self.labels[i][self.model.index2word.index(hdword)]\n",
    "                dplbl = self.labels[i][self.model.index2word.index(dpword)]        \n",
    "                f = self.getF((len(ff), 'C{}-{}/{}'.format(hdlbl, cluster_size, htag), \\\n",
    "                              'C{}-{}/{}'.format(dplbl, cluster_size, mtag) ), add)# N-CL-10\n",
    "                ff.append(f)\n",
    "            \n",
    "            elif hdword in model.vocab and htag > 0:\n",
    "                hdlbl = self.labels[i][self.model.index2word.index(hdword)]\n",
    "                f = self.getF((len(ff), 'C{}-{}/{}'.format(hdlbl, cluster_size, htag)), add)# N-CL-10\n",
    "                ff.append(f)\n",
    "\n",
    "            elif dpword in model.vocab and mtag > 0:\n",
    "                dplbl = self.labels[i][self.model.index2word.index(dpword)]        \n",
    "                f = self.getF((len(ff), 'C{}-{}/{}'.format(dplbl, cluster_size, mtag)), add)\n",
    "                ff.append(f)\n",
    "                \n",
    "#             if h > 0:\n",
    "#                 phtag = instance.pos[h-1]\n",
    "#                 phdword = self.lookup_word(instance.words[h-1])\n",
    "                \n",
    "#                 if phdword in model.vocab and phtag > 0:\n",
    "#                     lbl = self.labels[i][self.model.index2word.index(phdword)]        \n",
    "#                     f = self.getF((len(ff), 'C{}-{}/{}'.format(lbl, cluster_size, phtag)), add)\n",
    "#                     ff.append(f)\n",
    "                    \n",
    "#             if h < len(instance.words)-1:\n",
    "#                 nhtag = instance.pos[h+1]\n",
    "#                 nhdword = self.lookup_word(instance.words[h+1])\n",
    "                \n",
    "#                 if nhdword in model.vocab and nhtag > 0:\n",
    "#                     lbl = self.labels[i][self.model.index2word.index(nhdword)]        \n",
    "#                     f = self.getF((len(ff), 'C{}-{}/{}'.format(lbl, cluster_size, nhtag)), add)\n",
    "#                     ff.append(f)\n",
    "            \n",
    "#             if m > 0:\n",
    "#                 pdptag = instance.pos[m-1]\n",
    "#                 pdpword = self.lookup_word(instance.words[m-1])\n",
    "                \n",
    "#                 if pdpword in model.vocab and pdptag > 0:\n",
    "#                     lbl = self.labels[i][self.model.index2word.index(pdpword)]        \n",
    "#                     f = self.getF((len(ff), 'C{}-{}/{}'.format(lbl, cluster_size, pdptag)), add)\n",
    "#                     ff.append(f)\n",
    "                    \n",
    "#             if m < len(instance.words)-1:\n",
    "#                 ndptag = instance.pos[m+1]\n",
    "#                 ndpword = self.lookup_word(instance.words[m+1])\n",
    "                \n",
    "#                 if ndpword in model.vocab and ndptag > 0:\n",
    "#                     lbl = self.labels[i][self.model.index2word.index(ndpword)]        \n",
    "#                     f = self.getF((len(ff), 'C{}-{}/{}'.format(lbl, cluster_size, ndptag)), add)\n",
    "#                     ff.append(f)\n",
    "            return ff"
   ]
  },
  {
   "cell_type": "code",
   "execution_count": 220,
   "metadata": {
    "collapsed": false
   },
   "outputs": [],
   "source": [
    "# dp = depp.DependencyParser(feature_function=W2V_ClusterFeats(model, labels, num_clusters))\n",
    "# dp.read_data(\"english\", 100)\n",
    "# tr_acc ,dv_acc  = dp.train_perceptron(10, False) \n",
    "# print tr_acc, dv_acc"
   ]
  },
  {
   "cell_type": "code",
   "execution_count": 221,
   "metadata": {
    "collapsed": false
   },
   "outputs": [
    {
     "name": "stdout",
     "output_type": "stream",
     "text": [
      "Train 100\n",
      "gtparsing/../data/deppars\n",
      "Number of sentences: 100\n",
      "Number of tokens: 975\n",
      "Number of words: 524\n",
      "Number of pos: 37\n",
      "Number of features: 3910\n",
      "Epoch 1 Train: 0.455 Dev: 0.491\n",
      "Epoch 2 Train: 0.770 Dev: 0.595\n",
      "Epoch 3 Train: 0.881 Dev: 0.618\n",
      "Epoch 4 Train: 0.906 Dev: 0.615\n",
      "Epoch 5 Train: 0.938 Dev: 0.630\n",
      "Epoch 6 Train: 0.956 Dev: 0.630\n",
      "Epoch 7 Train: 0.964 Dev: 0.629\n",
      "Epoch 8 Train: 0.968 Dev: 0.631\n",
      "Epoch 9 Train: 0.968 Dev: 0.633\n",
      "Epoch 10 Train: 0.984 Dev: 0.635\n",
      "Train 100\n",
      "gtparsing/../data/deppars\n",
      "Number of sentences: 100\n",
      "Number of tokens: 975\n",
      "Number of words: 524\n",
      "Number of pos: 37\n",
      "Number of features: 4551\n",
      "Epoch 1 Train: 0.466 Dev: 0.457\n",
      "Epoch 2 Train: 0.774 Dev: 0.597\n",
      "Epoch 3 Train: 0.875 Dev: 0.638\n",
      "Epoch 4 Train: 0.918 Dev: 0.648\n",
      "Epoch 5 Train: 0.936 Dev: 0.657\n",
      "Epoch 6 Train: 0.966 Dev: 0.660\n",
      "Epoch 7 Train: 0.968 Dev: 0.659\n",
      "Epoch 8 Train: 0.969 Dev: 0.658\n",
      "Epoch 9 Train: 0.979 Dev: 0.657\n",
      "Epoch 10 Train: 0.977 Dev: 0.657\n"
     ]
    }
   ],
   "source": [
    "print 'Train 100'\n",
    "dp = depp.DependencyParser(feature_function=BakeoffFeats())\n",
    "dp.read_data(\"english\",100)\n",
    "tr_acc ,dv_acc  = dp.train_perceptron(10, True) \n",
    "\n",
    "print 'Train 100'\n",
    "word_vectors = model.syn0\n",
    "num_clusters =  [50, 100, 200, 500]\n",
    "labels = []\n",
    "for k in num_clusters:\n",
    "    centroids, label = kmeans2(word_vectors,k,iter=100,minit='points')\n",
    "    labels.append(label)\n",
    "\n",
    "dp = depp.DependencyParser(feature_function=W2V_ClusterFeats(model, labels, num_clusters))\n",
    "dp.read_data(\"english\",100)\n",
    "tr_acc ,dv_acc  = dp.train_perceptron(10, True) "
   ]
  },
  {
   "cell_type": "code",
   "execution_count": 222,
   "metadata": {
    "collapsed": false
   },
   "outputs": [
    {
     "name": "stdout",
     "output_type": "stream",
     "text": [
      "gtparsing/../data/deppars\n",
      "Number of sentences: 50\n",
      "Number of tokens: 461\n",
      "Number of words: 278\n",
      "Number of pos: 34\n",
      "Number of features: 2235\n",
      "gtparsing/../data/deppars\n",
      "Number of sentences: 50\n",
      "Number of tokens: 461\n",
      "Number of words: 278\n",
      "Number of pos: 34\n",
      "Number of features: 2578\n",
      "gtparsing/../data/deppars\n",
      "Number of sentences: 100\n",
      "Number of tokens: 975\n",
      "Number of words: 524\n",
      "Number of pos: 37\n",
      "Number of features: 3910\n",
      "gtparsing/../data/deppars\n",
      "Number of sentences: 100\n",
      "Number of tokens: 975\n",
      "Number of words: 524\n",
      "Number of pos: 37\n",
      "Number of features: 4551\n",
      "gtparsing/../data/deppars\n",
      "Number of sentences: 200\n",
      "Number of tokens: 1873\n",
      "Number of words: 887\n",
      "Number of pos: 41\n",
      "Number of features: 6326\n",
      "gtparsing/../data/deppars\n",
      "Number of sentences: 200\n",
      "Number of tokens: 1873\n",
      "Number of words: 887\n",
      "Number of pos: 41\n",
      "Number of features: 7353\n",
      "gtparsing/../data/deppars\n",
      "Number of sentences: 500\n",
      "Number of tokens: 4933\n",
      "Number of words: 1890\n",
      "Number of pos: 44\n",
      "Number of features: 12605\n",
      "gtparsing/../data/deppars\n",
      "Number of sentences: 500\n",
      "Number of tokens: 4933\n",
      "Number of words: 1890\n",
      "Number of pos: 44\n",
      "Number of features: 14693\n",
      "gtparsing/../data/deppars\n",
      "Number of sentences: 1000\n",
      "Number of tokens: 9871\n",
      "Number of words: 3105\n",
      "Number of pos: 45\n",
      "Number of features: 20018\n",
      "gtparsing/../data/deppars\n",
      "Number of sentences: 1000\n",
      "Number of tokens: 9871\n",
      "Number of words: 3105\n",
      "Number of pos: 45\n",
      "Number of features: 23312\n"
     ]
    }
   ],
   "source": [
    "all_k = [50, 100, 200, 500,  1000 ] # Sentences length\n",
    "bakeoff = []\n",
    "cluster = []\n",
    "    \n",
    "for lensent in all_k:\n",
    "    # Bakeoff Features\n",
    "    dp = depp.DependencyParser(feature_function=BakeoffFeats())\n",
    "    dp.read_data(\"english\",lensent)\n",
    "    tr_acc, bakeoff_dv_acc  = dp.train_perceptron(10, False) \n",
    "    bakeoff.append(bakeoff_dv_acc)    \n",
    "    # New features\n",
    "    dp = depp.DependencyParser(feature_function=W2V_ClusterFeats(model, labels, num_clusters))\n",
    "    dp.read_data(\"english\",lensent)\n",
    "    tr_acc, cluster_dv_acc  = dp.train_perceptron(10, False) \n",
    "    cluster.append(cluster_dv_acc)"
   ]
  },
  {
   "cell_type": "code",
   "execution_count": 223,
   "metadata": {
    "collapsed": false
   },
   "outputs": [
    {
     "data": {
      "text/plain": [
       "<matplotlib.text.Text at 0x1109d5350>"
      ]
     },
     "execution_count": 223,
     "metadata": {},
     "output_type": "execute_result"
    },
    {
     "data": {
      "image/png": "[encoded data removed]",
      "text/plain": [
       "<matplotlib.figure.Figure at 0x1148cf450>"
      ]
     },
     "metadata": {},
     "output_type": "display_data"
    }
   ],
   "source": [
    "plt.plot(all_k,bakeoff,'o-');\n",
    "plt.plot(all_k, cluster, 'o-', color='red')\n",
    "plt.legend([ 'Bakeoff Features', 'Cluster Features'],loc='lower right');\n",
    "plt.xlabel('Sentences Length')\n",
    "plt.ylabel('Accuracy')"
   ]
  },
  {
   "cell_type": "code",
   "execution_count": 224,
   "metadata": {
    "collapsed": false
   },
   "outputs": [
    {
     "name": "stdout",
     "output_type": "stream",
     "text": [
      "[0.6219537169772681, 0.6346508294081508, 0.6608642228138439, 0.7511775547818964, 0.7769813639156257]\n",
      "[0.6016792955150522, 0.6571779643661684, 0.6782715543723121, 0.7499488019660046, 0.7786197010034814]\n"
     ]
    }
   ],
   "source": [
    "print bakeoff\n",
    "print cluster"
   ]
  },
  {
   "cell_type": "markdown",
   "metadata": {
    "collapsed": true
   },
   "source": [
    "## 8. Get creative ##\n",
    "\n",
    "This part is mandatory for 7650 and optional for 4650.\n",
    "\n",
    "**Deliverable 8 ** K-means clustering is one way to find similarity. This part is opened-ended and requires you to come up with creative solutions of using distributed vectors to improve the results. In addition to implementing your idea, provide explanation of what you did, and why you thought it should work.\n",
    "\n",
    "The top 3 selected ideas (based mostly on performance, but also on creativity) will get an extra point towards their final score.(5 points)"
   ]
  },
  {
   "cell_type": "code",
   "execution_count": 225,
   "metadata": {
    "collapsed": false
   },
   "outputs": [],
   "source": [
    "from sklearn.mixture import GMM"
   ]
  },
  {
   "cell_type": "code",
   "execution_count": 226,
   "metadata": {
    "collapsed": false
   },
   "outputs": [],
   "source": [
    "word_vectors = model.syn0\n",
    "num_clusters =  [50, 100, 200, 500]\n",
    "labels = []\n",
    "for k in num_clusters:\n",
    "    gmm = GMM(n_components=k)\n",
    "    gmm.fit(word_vectors)\n",
    "    label = gmm.predict(word_vectors)\n",
    "    labels.append(label)"
   ]
  },
  {
   "cell_type": "code",
   "execution_count": 227,
   "metadata": {
    "collapsed": false
   },
   "outputs": [
    {
     "name": "stdout",
     "output_type": "stream",
     "text": [
      "gtparsing/../data/deppars\n",
      "Number of sentences: 50\n",
      "Number of tokens: 461\n",
      "Number of words: 278\n",
      "Number of pos: 34\n",
      "Number of features: 2235\n",
      "gtparsing/../data/deppars\n",
      "Number of sentences: 50\n",
      "Number of tokens: 461\n",
      "Number of words: 278\n",
      "Number of pos: 34\n",
      "Number of features: 2548\n",
      "gtparsing/../data/deppars\n",
      "Number of sentences: 100\n",
      "Number of tokens: 975\n",
      "Number of words: 524\n",
      "Number of pos: 37\n",
      "Number of features: 3910\n",
      "gtparsing/../data/deppars\n",
      "Number of sentences: 100\n",
      "Number of tokens: 975\n",
      "Number of words: 524\n",
      "Number of pos: 37\n",
      "Number of features: 4478\n",
      "gtparsing/../data/deppars\n",
      "Number of sentences: 200\n",
      "Number of tokens: 1873\n",
      "Number of words: 887\n",
      "Number of pos: 41\n",
      "Number of features: 6326\n",
      "gtparsing/../data/deppars\n",
      "Number of sentences: 200\n",
      "Number of tokens: 1873\n",
      "Number of words: 887\n",
      "Number of pos: 41\n",
      "Number of features: 7229\n",
      "gtparsing/../data/deppars\n",
      "Number of sentences: 500\n",
      "Number of tokens: 4933\n",
      "Number of words: 1890\n",
      "Number of pos: 44\n",
      "Number of features: 12605\n",
      "gtparsing/../data/deppars\n",
      "Number of sentences: 500\n",
      "Number of tokens: 4933\n",
      "Number of words: 1890\n",
      "Number of pos: 44\n",
      "Number of features: 14442\n",
      "gtparsing/../data/deppars\n",
      "Number of sentences: 1000\n",
      "Number of tokens: 9871\n",
      "Number of words: 3105\n",
      "Number of pos: 45\n",
      "Number of features: 20018\n",
      "gtparsing/../data/deppars\n",
      "Number of sentences: 1000\n",
      "Number of tokens: 9871\n",
      "Number of words: 3105\n",
      "Number of pos: 45\n",
      "Number of features: 22963\n"
     ]
    }
   ],
   "source": [
    "all_k = [50, 100, 200, 500,  1000 ] # Sentences length\n",
    "bakeoff = []\n",
    "cluster = []\n",
    "    \n",
    "for lensent in all_k:\n",
    "    # Bakeoff Features\n",
    "    dp = depp.DependencyParser(feature_function=BakeoffFeats())\n",
    "    dp.read_data(\"english\",lensent)\n",
    "    tr_acc, bakeoff_dv_acc  = dp.train_perceptron(10) \n",
    "    bakeoff.append(bakeoff_dv_acc)    \n",
    "    # New features\n",
    "    dp = depp.DependencyParser(feature_function=W2V_ClusterFeats(model, labels, num_clusters))\n",
    "    dp.read_data(\"english\",lensent)\n",
    "    tr_acc, cluster_dv_acc  = dp.train_perceptron(10) \n",
    "    cluster.append(cluster_dv_acc)"
   ]
  },
  {
   "cell_type": "code",
   "execution_count": 228,
   "metadata": {
    "collapsed": false
   },
   "outputs": [
    {
     "data": {
      "text/plain": [
       "<matplotlib.text.Text at 0x114b92810>"
      ]
     },
     "execution_count": 228,
     "metadata": {},
     "output_type": "execute_result"
    },
    {
     "data": {
      "image/png": "[encoded data removed]",
      "text/plain": [
       "<matplotlib.figure.Figure at 0x10f9c8e50>"
      ]
     },
     "metadata": {},
     "output_type": "display_data"
    }
   ],
   "source": [
    "plt.plot(all_k,bakeoff,'o-');\n",
    "plt.plot(all_k, cluster, 'o-', color='red')\n",
    "plt.legend([ 'Bakeoff Features', 'Cluster Features'],loc='lower right');\n",
    "plt.xlabel('Sentences Length')\n",
    "plt.ylabel('Accuracy')"
   ]
  },
  {
   "cell_type": "code",
   "execution_count": 229,
   "metadata": {
    "collapsed": false
   },
   "outputs": [
    {
     "name": "stdout",
     "output_type": "stream",
     "text": [
      "[0.6219537169772681, 0.6346508294081508, 0.6608642228138439, 0.7511775547818964, 0.7769813639156257]\n",
      "[0.6035224247388901, 0.6475527339750153, 0.6690559082531231, 0.7517919311898423, 0.7677657177964367]\n"
     ]
    }
   ],
   "source": [
    "print bakeoff\n",
    "print cluster"
   ]
  },
  {
   "cell_type": "code",
   "execution_count": null,
   "metadata": {
    "collapsed": true
   },
   "outputs": [],
   "source": []
  }
 ],
 "metadata": {
  "kernelspec": {
   "display_name": "Python 2",
   "language": "python",
   "name": "python2"
  },
  "language_info": {
   "codemirror_mode": {
    "name": "ipython",
    "version": 2
   },
   "file_extension": ".py",
   "mimetype": "text/x-python",
   "name": "python",
   "nbconvert_exporter": "python",
   "pygments_lexer": "ipython2",
   "version": "2.7.9"
  }
 },
 "nbformat": 4,
 "nbformat_minor": 0
}
