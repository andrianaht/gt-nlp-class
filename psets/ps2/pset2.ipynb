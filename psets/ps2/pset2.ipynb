{
 "cells": [
  {
   "cell_type": "markdown",
   "metadata": {},
   "source": [
    "Problem Set 2: Text classification\n",
    "==============\n",
    "(_This problem set is graded out of 50 for students taking CS4650 and out of 53 for students taking CS7650. But like all problem sets, this will count towards 8% of your final grade _)\n",
    "\n",
    "In this problem set, you will build a system for classifying book reviews on amazon as positive or negative. You will:\n",
    "\n",
    "- Do some basic text processing, tokenizing your input and converting it into a bag-of-words representation\n",
    "- Build a classifier based on sentiment word lists\n",
    "- Build a machine learning classifier based on the generative model, using Naive Bayes\n",
    "- Evaluate your classifiers and examine what they have learned\n",
    "- Build a machine learning classifier based on the discriminative model, using Perceptron\n",
    "- Build more stable discriminative classifier, using the averaged perceptron\n",
    "- Build the logistic regression classifier (See instructions within the section)\n",
    "- Implement techniques to improve your classifier\n",
    "- Participate in a hopefully fun bakeoff competition.\n",
    "\n",
    "**To turn in this project, please submit on T-square:**\n",
    "\n",
    "- this notebook\n",
    "- all files in the ```gtnlplib``` directory"
   ]
  },
  {
   "cell_type": "markdown",
   "metadata": {},
   "source": [
    "# 0. Set up\n",
    "\n",
    "In order to develop this assignment, you will have to install the following, if you don't have it already.\n",
    "\n",
    "- [python 2.7](https://www.python.org/downloads/release/python-2710/) (and not Python 3, although if somebody wants to try that and tell us what goes wrong, that would be appreciated...)\n",
    "- [jupyter notebook](http://jupyter.readthedocs.org/en/latest/install.html)\n",
    "- [scipy](http://www.scipy.org/install.html)\n",
    "- numpy (This will come if you install scipy like above, but if not install separately)\n",
    "- [nltk](http://www.nltk.org/install.html) (tested on NLTK 3.0.4)\n",
    "- [matplotlib](http://matplotlib.org/users/installing.html)\n",
    "- [nosetests](https://nose.readthedocs.org/en/latest/)\n",
    "\n",
    "You also need to get the data, which is available [here](https://github.com/jacobeisenstein/gt-nlp-class/releases/tag/amazon-fall-2015). Unzip this in the \"data\" directory of this project.\n",
    "\n",
    "\n",
    "** Notes **\n",
    "\n",
    "- The code with this assignment also contains test\\*.py files. These are used by nosetests which is one of python's framework to test your code. We will use these tests to help grade; you can run them too if you want. You can learn more about how to run them [here](http://pythontesting.net/framework/nose/nose-introduction/).\n",
    "- You are free to add more tests, but that is completely optional.\n",
    "- Jupyter runs in a web browser. You want to be careful about the text output from your code; if you try to output a huge amount of text, the browser will require a lot of memory, and so the notebook will become very slow and hard to use."
   ]
  },
  {
   "cell_type": "markdown",
   "metadata": {},
   "source": [
    "You are also given some code to start with. As you progress, you will be writing the missing pieces in the code and/or implementing new code. All the code is in the ** gtnlplib ** directory which came as part of the assignment. \n"
   ]
  },
  {
   "cell_type": "code",
   "execution_count": 167,
   "metadata": {
    "collapsed": false
   },
   "outputs": [
    {
     "name": "stdout",
     "output_type": "stream",
     "text": [
      "Populating the interactive namespace from numpy and matplotlib\n"
     ]
    }
   ],
   "source": [
    "import numpy as np\n",
    "from collections import defaultdict\n",
    "import gtnlplib.preproc\n",
    "import gtnlplib.preproc_metrics\n",
    "\n",
    "import gtnlplib.clf_base\n",
    "import gtnlplib.wordlist\n",
    "import gtnlplib.naivebayes\n",
    "import gtnlplib.perceptron\n",
    "import gtnlplib.avg_perceptron\n",
    "import gtnlplib.logreg\n",
    "\n",
    "import gtnlplib.scorer\n",
    "import gtnlplib.constants\n",
    "import gtnlplib.analysis\n",
    "\n",
    "# this enables you to create inline plots in the notebook \n",
    "%pylab inline"
   ]
  },
  {
   "cell_type": "markdown",
   "metadata": {},
   "source": [
    "While developing the modules of the library, it is likely that you make mistakes. If that happens, you correct the mistake and reload whichever modules you edited, as shown below. This is part of the python development cycle. If reloading doesn't work, restart the kernel."
   ]
  },
  {
   "cell_type": "code",
   "execution_count": 6,
   "metadata": {
    "collapsed": false
   },
   "outputs": [
    {
     "data": {
      "text/plain": [
       "<module 'gtnlplib.preproc' from 'gtnlplib/preproc.pyc'>"
      ]
     },
     "execution_count": 6,
     "metadata": {},
     "output_type": "execute_result"
    }
   ],
   "source": [
    "reload(gtnlplib.preproc)"
   ]
  },
  {
   "cell_type": "markdown",
   "metadata": {},
   "source": [
    "# 1. Data Processing #\n",
    "(_Completing gtnlplib.preproc.docsToBOWs() - 3 pts, each question in Deliverable 1 is worth 1 pt_)\n",
    "\n",
    "Your first step is to write code that can apply the following\n",
    "preprocessing steps. You will have to run this code fairly quickly on\n",
    "the test data when you receive it, so make sure it is modular and\n",
    "well-written.\n",
    "\n",
    "- You will edit ```gtnlplib.preproc.docsToBOWs``` that takes as its argument a \"key\" document.\n",
    "  It should produce a \"BOW\" (bag-of-words) document.\n",
    "  Each line of the key document contains a filename and a label.\n",
    "  Each line of the BOW document should contain a BOW representation of the corresponding\n",
    "  file in the key document. \n",
    "- A BOW representation looks like this: \"word:count word:count word:count...\" for every word that appears in\n",
    "  the document. Do not print words that have zero count. Use space delimiters.\n",
    "- Use NLTK's [tokenization package](http://nltk.org/api/nltk.tokenize.html) function \n",
    "  to divide each file into sentences, and each sentence into tokens.\n",
    "- Downcase all tokens\n",
    "- Only consider tokens that are completely alphabetic."
   ]
  },
  {
   "cell_type": "code",
   "execution_count": 79,
   "metadata": {
    "collapsed": false
   },
   "outputs": [],
   "source": [
    "### TRAINKEY, DEVKEY and TESTKEY are defined in the gtnlplib.constants module\n",
    "\n",
    "reload(gtnlplib.preproc)\n",
    "gtnlplib.preproc.docsToBOWs(gtnlplib.constants.TRAINKEY)\n",
    "gtnlplib.preproc.docsToBOWs(gtnlplib.constants.DEVKEY)\n",
    "## uncomment once you have the test data\n",
    "#gtnlplib.preproc.docsToBOWs(gtnlplib.constants.TESTKEY)"
   ]
  },
  {
   "cell_type": "markdown",
   "metadata": {},
   "source": [
    "The ```gtnlplib.preproc``` module defines a [generator function](http://wiki.python.org/moin/Generators), called \"dataIterator\"\n",
    "\n",
    "- This allows you to easily iterate through the dataset defined by a given keyfile. \n",
    "- Each time you call \"next\" (possibly implicitly), it returns a dict containing features and counts for the next document in the sequence. \n",
    "- In this case, the features include the words, and a special \"offset\" feature\n",
    "- This is equivalent to $\\textbf{x}_i$ in the reading.\n",
    "- You can see how this is used in the getAllCounts() function below, which takes a dataIterator as an argument.\n",
    "\n",
    "\n",
    "Lines 7-8 of the code in the dataIterator function might look confusing if you are not a pythonista. \n",
    "\n",
    "- This is a [list comprehension](http://legacy.python.org/dev/peps/pep-0202/)\n",
    "nested inside a [dict comprehension](http://legacy.python.org/dev/peps/pep-0274/).\n",
    "- Here's an [introduction](http://carlgroner.me/Python/2011/11/09/An-Introduction-to-List-Comprehensions-in-Python.html) with more examples."
   ]
  },
  {
   "cell_type": "markdown",
   "metadata": {},
   "source": [
    "**Sanity check**: How many unique words appear in the training set? (Types, not tokens.) In order to get this one correct you should pass the test \"test_number_of_tokens\"  in testpreproc.py file."
   ]
  },
  {
   "cell_type": "code",
   "execution_count": 83,
   "metadata": {
    "collapsed": false
   },
   "outputs": [
    {
     "name": "stdout",
     "output_type": "stream",
     "text": [
      "number of word types 18430\n"
     ]
    }
   ],
   "source": [
    "reload(gtnlplib.preproc)\n",
    "ac_train = gtnlplib.preproc.getAllCounts(gtnlplib.preproc.dataIterator(gtnlplib.constants.TRAINKEY))\n",
    "ac_dev = gtnlplib.preproc.getAllCounts(gtnlplib.preproc.dataIterator(gtnlplib.constants.DEVKEY))\n",
    "print \"number of word types\",len(ac_train.keys())-1"
   ]
  },
  {
   "cell_type": "markdown",
   "metadata": {},
   "source": [
    "The following code makes a plot, with the log-rank (from 1 to the log of the total number of words) \n",
    "on the x-axis and the log count on the y-axis."
   ]
  },
  {
   "cell_type": "code",
   "execution_count": 85,
   "metadata": {
    "collapsed": false
   },
   "outputs": [
    {
     "name": "stderr",
     "output_type": "stream",
     "text": [
      "/usr/local/lib/python2.7/site-packages/ipykernel/__main__.py:2: RuntimeWarning: divide by zero encountered in log\n",
      "  from ipykernel import kernelapp as app\n",
      "/usr/local/lib/python2.7/site-packages/ipykernel/__main__.py:4: RuntimeWarning: divide by zero encountered in log\n"
     ]
    },
    {
     "data": {
      "text/plain": [
       "<matplotlib.text.Text at 0x116b95e50>"
      ]
     },
     "execution_count": 85,
     "metadata": {},
     "output_type": "execute_result"
    },
    {
     "data": {
      "image/png": "[encoded data removed]",
      "text/plain": [
       "<matplotlib.figure.Figure at 0x116174e90>"
      ]
     },
     "metadata": {},
     "output_type": "display_data"
    }
   ],
   "source": [
    "tr_logcounts = np.log(np.array(sorted(ac_train.values(),reverse=True)))\n",
    "plt.plot(np.log(range(len(tr_logcounts))),tr_logcounts)\n",
    "dv_logcounts = np.log(np.array(sorted(ac_dev.values(),reverse=True)))\n",
    "plt.plot(np.log(range(len(dv_logcounts))),dv_logcounts,'r')\n",
    "plt.xlabel('log rank')\n",
    "plt.ylabel('log count')"
   ]
  },
  {
   "cell_type": "markdown",
   "metadata": {},
   "source": [
    "**Deliverable 1**\n",
    "\n",
    "(1 point each)\n",
    "\n",
    "- Explain what you see in the plot.\n",
    "- Print the token/type ratio for the training data.\n",
    "  You will have to implement ```gtnlplib.preproc_metrics.get_token_type_ratio```\n",
    "\n",
    "- Print the number of types which appear exactly once in the training data. These are called [hapax-legomena](https://en.wikipedia.org/wiki/Hapax_legomenon).\n",
    "  You will have to implement ```gtnlplib.preproc_metrics.type_frequency```\n",
    "\n",
    "- Print the number of types that appear in the dev data but not the training data (hint: use [sets](https://docs.python.org/2/library/sets.html) for this).\n",
    "  You will have to implement ```gtnlplib.preproc_metrics.unseen_types```"
   ]
  },
  {
   "cell_type": "markdown",
   "metadata": {},
   "source": [
    "(add cells with your answer)"
   ]
  },
  {
   "cell_type": "code",
   "execution_count": 104,
   "metadata": {
    "collapsed": false
   },
   "outputs": [
    {
     "name": "stdout",
     "output_type": "stream",
     "text": [
      "tt-train 0.0760498636219\n",
      "tt-dev 0.144419797822\n"
     ]
    }
   ],
   "source": [
    "# You will have to implement this function\n",
    "reload(gtnlplib.preproc_metrics)\n",
    "\n",
    "print 'tt-train', gtnlplib.preproc_metrics.get_token_type_ratio(ac_train) \n",
    "print 'tt-dev', gtnlplib.preproc_metrics.get_token_type_ratio (ac_dev)"
   ]
  },
  {
   "cell_type": "code",
   "execution_count": 109,
   "metadata": {
    "collapsed": false
   },
   "outputs": [
    {
     "name": "stdout",
     "output_type": "stream",
     "text": [
      "tr-hapax-legomena 8758\n",
      "de-hapax-legomena 4738\n"
     ]
    }
   ],
   "source": [
    "# You will have to implement this function\n",
    "reload(gtnlplib.preproc_metrics)\n",
    "print 'tr-hapax-legomena',gtnlplib.preproc_metrics.type_frequency (ac_train, 1)\n",
    "print 'de-hapax-legomena',gtnlplib.preproc_metrics.type_frequency (ac_dev, 1)"
   ]
  },
  {
   "cell_type": "code",
   "execution_count": 124,
   "metadata": {
    "collapsed": false
   },
   "outputs": [
    {
     "name": "stdout",
     "output_type": "stream",
     "text": [
      "unseen set(['fawn', 'divinely', 'childern', 'pellucidar', 'foul', 'advices', 'rocketing', 'jihad', 'aegis', 'hanging', 'francesca', 'payoff', 'eligible', 'electricity', 'originality', 'superficially', 'endepth', 'lori', 'immature', 'homemakers', 'meadows', 'sinking', 'discribed', 'oceans', 'trojan', 'adequatley', 'tantalizing', 'figs', 'ceos', 'screaming', 'disturb', 'recollections', 'boorstein', 'wooden', 'clientele', 'clings', 'sturgis', 'wednesday', 'brutish', 'woods', 'sooty', 'kublai', 'inevitably', 'ornate', 'bacon', 'alzhiemers', 'starhawk', 'crutch', 'dihn', 'relieving', 'whaling', 'usurping', 'ruthless', 'contributed', 'negates', 'carr', 'fossil', 'increasing', 'groupie', 'admiral', 'pioneering', 'avers', 'dahl', 'reporter', 'avery', 'herb', 'jasmine', 'interdependent', 'herd', 'specialise', 'reported', 'ching', 'inspirasjon', 'dorm', 'othersthe', 'hample', 'buddy', 'conversational', 'strewn', 'unwillingness', 'pretensions', 'bernabo', 'kidd', 'neurologist', 'unwanted', 'spotty', 'aroudn', 'brownsville', 'appropriately', 'alignements', 'projection', 'classification', 'norse', 'lynne', 'remnant', 'neondragon', 'opponents', 'browse', 'insecurity', 'leonaur', 'cannibal', 'faerie', 'passport', 'mystic', 'sermons', 'ludlumite', 'nessus', 'cutbacks', 'females', 'standardized', 'relay', 'relax', 'detracts', 'benefiting', 'ruminations', 'unventilated', 'adnan', 'blustering', 'equilateral', 'exocet', 'accomplishment', 'apologetics', 'maximilian', 'locket', 'soundbite', 'leaped', 'rework', 'revenues', 'matilda', 'protestants', 'vor', 'melony', 'unjust', 'artillery', 'inablility', 'organizes', 'minutia', 'gargantuan', 'hollingshea', 'preferably', 'provincial', 'hoc', 'complaining', 'comedians', 'revisit', 'hot', 'machina', 'symposium', 'schacter', 'preferable', 'ronnie', 'classify', 'evocating', 'abstraction', 'cabbie', 'typee', 'typed', 'adoptions', 'outlawed', 'diagram', 'modest', 'barney', 'quips', 'destined', 'italy', 'gahhhhhhh', 'constants', 'vance', 'actionous', 'jaggery', 'fleetingly', 'fictional', 'sickening', 'baggage', 'timers', 'glenny', 'nonsensical', 'romper', 'technologica', 'wine', 'senators', 'feedback', 'welcomed', 'facial', 'restrospect', 'engrossed', 'murals', 'makefiles', 'vidor', 'orman', 'jordi', 'fidelity', 'dreamer', 'kramer', 'conned', 'lovingly', 'auditory', 'lifeline', 'abominations', 'stevens', 'survivors', 'fic', 'bulding', 'fig', 'rint', 'nobles', 'admirable', 'subtlties', 'lambert', 'enrich', 'slate', 'educating', 'schools', 'epidemiologists', 'awfully', 'cayce', 'childress', 'haphazardly', 'yasmina', 'debut', 'dumps', 'clothed', 'arrow', 'ingrid', 'addicted', 'burial', 'whim', 'snakes', 'archetypes', 'allah', 'parasites', 'passwords', 'efron', 'laboratory', 'truman', 'unattainable', 'whip', 'borne', 'unobjective', 'rv', 'esoterica', 'diction', 'touts', 'warstriders', 'recognising', 'excepting', 'urbane', 're', 'dsl', 'specialties', 'adapt', 'sheep', 'dashiell', 'clarence', 'sellout', 'noriega', 'strata', 'sensory', 'assures', 'ambuiguous', 'grapes', 'estimate', 'knit', 'universally', 'bates', 'eared', 'kashmir', 'polanyi', 'mislabed', 'shipped', 'ledford', 'startcooking', 'dentures', 'cucumber', 'clothes', 'nigel', 'steroids', 'subtlety', 'mesmer', 'maladies', 'channels', 'discworld', 'sutherland', 'specially', 'traction', 'olds', 'xiv', 'gilbert', 'bitter', 'rewards', 'collapse', 'mckinsey', 'seriesmore', 'cdata', 'surpisingly', 'trek', 'infinitymirror', 'showed', 'coward', 'handcuffs', 'nations', 'shower', 'idle', 'hadrian', 'unintended', 'willingness', 'longs', 'whitcomb', 'untrained', 'hug', 'obssesed', 'somer', 'foundational', 'vgm', 'wholesome', 'soaked', 'eagerly', 'connelly', 'amusing', 'doors', 'transactions', 'miscalculated', 'screwing', 'diminishing', 'wells', 'metrics', 'simplify', 'margarate', 'addict', 'letter', 'conceded', 'drought', 'bourkeev', 'shalt', 'expound', 'spear', 'redistribution', 'grove', 'purges', 'hagiography', 'ragnarok', 'tech', 'detriment', 'nineteenth', 'scream', 'confederation', 'classicism', 'incorporate', 'verbage', 'cuture', 'auther', 'dickey', 'meetings', 'bonnie', 'redoing', 'bethpage', 'qaeda', 'malleable', 'lethal', 'hungary', 'tempted', 'cheaply', 'abreast', 'vindictive', 'parodies', 'circulates', 'biostatistic', 'louise', 'headline', 'cousins', 'bust', 'rico', 'bliss', 'disequilibrium', 'mend', 'reduce', 'plate', 'waaaaaay', 'barrington', 'phemomenal', 'foremost', 'malice', 'reversal', 'tenaciously', 'relish', 'profoundly', 'textbooky', 'misandry', 'charcot', 'greens', 'succumb', 'eyelids', 'stunningly', 'saud', 'release', 'wrangel', 'hasten', 'holcaust', 'saul', 'conant', 'mandatory', 'capstones', 'systemthe', 'sensitivity', 'deemed', 'profanations', 'transferred', 'unexpectedly', 'radius', 'cloning', 'skulls', 'editng', 'cheapskate', 'eudora', 'pressured', 'ambitions', 'lotr', 'wikipedia', 'droves', 'xvi', 'pressures', 'score', 'humankind', 'propagated', 'stobborn', 'indecisive', 'parallels', 'extend', 'rolled', 'inextricable', 'herf', 'paddington', 'cards', 'chandler', 'atoms', 'tyranny', 'reguarly', 'developements', 'herz', 'corrupted', 'voyeuristic', 'pits', 'deposition', 'edgar', 'fruity', 'estates', 'quests', 'installments', 'argue', 'adapted', 'sacchetti', 'schmooze', 'rehash', 'maclaine', 'untruths', 'vain', 'deyoung', 'mcphee', 'hers', 'minuses', 'blending', 'fema', 'smackdown', 'lighthouse', 'angel', 'bewilder', 'subside', 'mex', 'extraction', 'startled', 'dreamweaver', 'feverious', 'tutorials', 'criticises', 'gladly', 'sensationalized', 'southie', 'crying', 'spit', 'writting', 'filmmaker', 'trapani', 'joust', 'pandering', 'manilowesque', 'evelina', 'spin', 'kranowitz', 'diverted', 'commerce', 'gritty', 'contemplated', 'scorecard', 'gritts', 'inch', 'employ', 'orgonon', 'airmen', 'slam', 'partum', 'k', 'rent', 'narcissism', 'economics', 'tzu', 'ditching', 'weirdness', 'obeying', 'characterize', 'clutches', 'upscale', 'anticipating', 'keegan', 'bougival', 'crusaders', 'trusted', 'hone', 'damaged', 'memoriam', 'severity', 'cumulative', 'rebellion', 'feuding', 'coupleearlier', 'thinly', 'principals', 'dhs', 'emphatic', 'truckdrivers', 'templates', 'pontiac', 'qualifications', 'workforce', 'consents', 'pioneers', 'haggard', 'nonsensce', 'ridiculus', 'lucas', 'intrusion', 'noblewoman', 'acoustics', 'fiske', 'editions', 'echoed', 'detracted', 'judgemental', 'coldness', 'goofing', 'quantitative', 'possesive', 'eroticism', 'dispells', 'mantell', 'boyhood', 'absurdities', 'portrayer', 'materialists', 'snickered', 'proofing', 'hah', 'hal', 'han', 'haa', 'ease', 'espouses', 'advancement', 'requestor', 'disparity', 'collections', 'delinquents', 'straightjacketed', 'vapour', 'hat', 'haw', 'elevation', 'dihedral', 'casually', 'paleontology', 'sorting', 'indicative', 'ratcheting', 'shadow', 'poses', 'stylist', 'sliced', 'semi', 'previouse', 'remind', 'trememdous', 'prologue', 'marinating', 'grotesquely', 'battlefield', 'attorney', 'creek', 'czech', 'fulminations', 'creed', 'crown', 'tajik', 'missorii', 'insistence', 'hindson', 'creep', 'cocaine', 'cussler', 'applescript', 'inhuman', 'fox', 'shaddows', 'foe', 'fog', 'summoned', 'syphilis', 'uml', 'shakes', 'dental', 'oscillating', 'marquez', 'shifting', 'starring', 'skary', 'shaken', 'visitng', 'transcends', 'lackey', 'gleaning', 'catchy', 'oneness', 'conculsion', 'actuality', 'shopkeepers', 'youthful', 'mba', 'soo', 'thankful', 'beings', 'girard', 'magazines', 'marshals', 'mambo', 'wrap', 'sox', 'shoots', 'reducing', 'journeying', 'despised', 'fabric', 'waits', 'width', 'orville', 'alphabetized', 'physicists', 'greatness', 'bollocks', 'icon', 'launching', 'underestimated', 'intertaining', 'auchincloss', 'leiden', 'conclusively', 'hemisphere', 'impeach', 'reinventing', 'canopies', 'underdeveloped', 'congratulations', 'humbled', 'silliness', 'myopic', 'fundementals', 'discarding', 'nicest', 'lays', 'glaringly', 'favillitos', 'dues', 'passenger', 'juvenile', 'looms', 'disgrace', 'tournament', 'moderns', 'signification', 'andorganize', 'correlation', 'chalfonte', 'heartbreakingly', 'prejean', 'glacier', 'imparting', 'upanishads', 'tradtion', 'protester', 'ambitious', 'denotation', 'becuase', 'smell', 'rettenmund', 'intend', 'blackified', 'muslims', 'invested', 'snooze', 'hiassen', 'explosions', 'jewelry', 'schrag', 'ohter', 'reichs', 'differeintiates', 'beamed', 'ren', 'push', 'tunes', 'quantity', 'breadth', 'newbie', 'perpetrated', 'eternally', 'crocodile', 'disrepute', 'mathewson', 'xeroxed', 'buddys', 'bandits', 'osd', 'venice', 'recommand', 'caldwell', 'precognition', 'freelance', 'methodically', 'recurrence', 'phraseology', 'macho', 'masculinity', 'tenacious', 'quaintness', 'downloading', 'physiocratic', 'icing', 'spate', 'embark', 'gloomy', 'rationality', 'spats', 'fullest', 'solves', 'tear', 'grote', 'invade', 'holliday', 'settle', 'loads', 'caddies', 'occurrence', 'findings', 'adorno', 'sigh', 'oboyski', 'sign', 'chopping', 'crescent', 'hofstadter', 'nathareth', 'ordo', 'psychosocial', 'irresolvably', 'kearns', 'jeopardy', 'axes', 'melt', 'copes', 'substative', 'lockes', 'axel', 'freaky', 'unintentionally', 'drafted', 'jury', 'bertrice', 'amalgam', 'funeral', 'virtues', 'contemplate', 'gnaw', 'yards', 'galileo', 'likenesses', 'momentous', 'mafioso', 'hurtling', 'accomplishes', 'eisley', 'dusty', 'impacted', 'rushdie', 'funded', 'eduction', 'commonly', 'queue', 'bookwatch', 'rafael', 'myers', 'bearable', 'carpets', 'cure', 'rambo', 'bloody', 'overarching', 'logically', 'instal', 'concentrate', 'homesick', 'kerley', 'gulags', 'tightly', 'anatomical', 'cherished', 'explicitly', 'overviews', 'familar', 'prosecutor', 'duality', 'afford', 'subsistence', 'claus', 'oregon', 'uniquie', 'nussbaum', 'marginalisation', 'easiest', 'behalf', 'postgame', 'fourths', 'incited', 'pretend', 'abortion', 'believer', 'dykwik', 'slowness', 'stature', 'detached', 'automatons', 'admired', 'distracted', 'portalupi', 'persicion', 'parachute', 'incremental', 'unveiled', 'admirer', 'offense', 'stole', 'evidently', 'listens', 'savoy', 'piled', 'savor', 'steinhoff', 'vainly', 'alzheimers', 'thanking', 'immune', 'chaucer', 'pendulous', 'grossed', 'optimal', 'undertook', 'encampment', 'flaubert', 'laundry', 'illicit', 'mortally', 'convincingly', 'applications', 'heimgest', 'explored', 'improving', 'suck', 'dove', 'shockingly', 'brainless', 'egotistical', 'sy', 'surfing', 'ufoology', 'varieties', 'gambit', 'obliviate', 'sw', 'yielding', 'st', 'sk', 'opinionated', 'si', 'bloedorn', 'definitions', 'wolves', 'pulled', 'sf', 'tilney', 'drunken', 'innocuous', 'soros', 'noteworthy', 'reaffirms', 'unacceptable', 'hiring', 'magog', 'experiments', 'deity', 'tendency', 'tinted', 'avid', 'derive', 'tora', 'thumb', 'troubles', 'methodology', 'tort', 'creations', 'constitutes', 'spotlighting', 'swastika', 'deviant', 'coincidental', 'modestly', 'gerd', 'retributive', 'chaining', 'recipients', 'civilian', 'katschei', 'smarter', 'insomnia', 'sorter', 'parkman', 'drilling', 'scorsese', 'persecutor', 'subordinated', 'matched', 'firming', 'vorpatril', 'materialized', 'frank', 'revert', 'establishing', 'fisherman', 'dignified', 'instability', 'duchies', 'nynaeve', 'presages', 'bovine', 'owing', 'entering', 'sexually', 'prudently', 'uselessness', 'thope', 'disasters', 'learnings', 'canvas', 'nominalism', 'bly', 'ultimatly', 'astray', 'believers', 'protections', 'braga', 'formula', 'nominalist', 'astral', 'ancreon', 'demoralization', 'superiors', 'complimented', 'prostitutes', 'siege', 'unusal', 'possibility', 'disrespect', 'recordings', 'vollman', 'grandma', 'bumpy', 'unnamed', 'huskiness', 'prefered', 'liberally', 'shores', 'bulleted', 'disguised', 'recon', 'dunno', 'collapsing', 'tasting', 'punk', 'downsides', 'initiate', 'silhouettes', 'flanders', 'puns', 'undesirable', 'routes', 'misused', 'rumsfeld', 'neglect', 'espesialy', 'reassess', 'gunshot', 'palatinate', 'clause', 'schoolchildren', 'potter', 'mucho', 'textual', 'vote', 'tamara', 'sheldrake', 'affords', 'fmri', 'wrath', 'convent', 'administratively', 'indicate', 'judgements', 'twenties', 'draft', 'dissipate', 'stuffed', 'typing', 'oversimplified', 'uris', 'obliged', 'labors', 'veers', 'unfortionatly', 'absorbs', 'starfist', 'representing', 'ozymandian', 'researchshows', 'iceberg', 'folly', 'hayes', 'glossy', 'wandering', 'russia', 'proactive', 'depresses', 'buries', 'san', 'sam', 'mindfulness', 'greyhound', 'afternoons', 'alley', 'tastes', 'subplots', 'lurking', 'wilsons', 'allen', 'turner', 'sap', 'erudition', 'sat', 'serials', 'janie', 'transcribes', 'pounded', 'luring', 'unsuitable', 'warriors', 'invincability', 'somethings', 'zoo', 'masse', 'intends', 'jefferson', 'transcribed', 'martyred', 'lodgers', 'ericson', 'pimple', 'weighdown', 'surfaces', 'murphy', 'buffer', 'palette', 'buffet', 'detect', 'elucidates', 'crochet', 'coroners', 'inserted', 'creditable', 'lawn', 'stouffer', 'bosch', 'epire', 'managing', 'squint', 'chronicals', 'axe', 'behe', 'seekers', 'restriction', 'leibniz', 'behn', 'infuriate', 'merit', 'peaches', 'opportunism', 'nadirs', 'scarce', 'soviets', 'babbles', 'xml', 'merlin', 'farting', 'unkind', 'reconciling', 'punchy', 'recomended', 'nutshell', 'aimlessly', 'bying', 'straigh', 'equipped', 'outrage', 'faile', 'caroline', 'clawing', 'congressional', 'carolina', 'beatles', 'resenting', 'psychiatrist', 'assistant', 'condemning', 'hiss', 'arafat', 'simplistic', 'mysticism', 'awaiting', 'prime', 'infedility', 'undemanding', 'prima', 'bestselling', 'hareidi', 'epistles', 'trys', 'corect', 'tenured', 'priest', 'bombs', 'worries', 'marred', 'homeopathy', 'enthralled', 'temperance', 'artistically', 'raged', 'dampest', 'banged', 'mifflin', 'isabel', 'oswald', 'fertility', 'ie', 'anyways', 'impressions', 'surgery', 'dives', 'purest', 'habsburg', 'suiters', 'harvey', 'annellen', 'barsetshire', 'sponsorship', 'experiances', 'affecting', 'enjoys', 'screed', 'siminar', 'checkered', 'jobs', 'marvin', 'amory', 'aryans', 'supermarket', 'rapacious', 'adept', 'fractalization', 'menacing', 'spark', 'interestin', 'concentrated', 'exhortations', 'congregations', 'locution', 'thickly', 'millionaire', 'flipped', 's', 'inclusions', 'concentrates', 'grooming', 'synoptic', 'furthered', 'homosexuality', 'anti', 'virginians', 'narcissistic', 'simulacra', 'stretch', 'millard', 'locally', 'airlines', 'luft', 'hutton', 'almighty', 'combined', 'motives', 'roald', 'reflective', 'vacuity', 'werlin', 'hilarity', 'lovesickness', 'formed', 'layperson', 'reaching', 'observe', 'ooh', 'escondido', 'weierstrass', 'parasail', 'madeleinne', 'char', 'isabella', 'isabelle', 'tribal', 'polls', 'pretence', 'squeezes', 'straighter', 'conveyance', 'squeezed', 'curricula', 'endured', 'spotlight', 'ive', 'unlikeable', 'shepard', 'brow', 'johnsons', 'regularity', 'hienlein', 'ivy', 'binary', 'debilitating', 'dragging', 'shuts', 'idolizing', 'threatens', 'preparatory', 'perpetually', 'mondaythe', 'helpul', 'wilhelm', 'pennsylvania', 'preconceptions', 'damon', 'diffcult', 'ludwig', 'downs', 'broadcast', 'emanates', 'piccolomini', 'assigns', 'hydes', 'boosted', 'callow', 'harris', 'barber', 'advertisement', 'entanglement', 'culled', 'psychiatrists', 'newswires', 'tracking', 'colorblind', 'academics', 'pacing', 'machen', 'trains', 'grumpy', 'hubby', 'persistently', 'gdr', 'steamed', 'truculent', 'knot', 'slime', 'ngor', 'safeguards', 'amalgamate', 'recycled', 'navaro', 'fateful', 'overconfident', 'alarmist', 'deceiving', 'retinue', 'missler', 'missles', 'instrument', 'adsense', 'armchair', 'prominently', 'actors', 'unviable', 'relavent', 'slogged', 'metalious', 'starving', 'russkis', 'hunched', 'seminar', 'bernardz', 'regio', 'traffic', 'preference', 'envisage', 'sampling', 'dare', 'clan', 'autodynamics', 'hotel', 'exploit', 'consantly', 'politcally', 'superiority', 'borowitz', 'clay', 'travelogue', 'outsourced', 'grouping', 'satisfactory', 'yeats', 'conditional', 'lebanon', 'tvs', 'kolb', 'othercreatures', 'demeaning', 'diving', 'wrongly', 'scandals', 'hunches', 'dimensions', 'tube', 'nook', 'tragicomedy', 'exit', 'pentathlon', 'juggernaut', 'mosley', 'francois', 'restoring', 'mead', 'unsuccessfully', 'philosophizing', 'accessing', 'zest', 'wheatley', 'disparaging', 'biases', 'pluralism', 'luxurious', 'infancy', 'punishments', 'majoring', 'cozy', 'hopkins', 'hyperpat', 'tumor', 'acr', 'apostate', 'neighbor', 'basin', 'individualize', 'rabbinical', 'widowed', 'chivalry', 'shapely', 'burning', 'anectdotal', 'fructose', 'essex', 'charly', 'certifying', 'apologize', 'wade', 'charli', 'bubbly', 'havealmost', 'enthusiasts', 'hes', 'hey', 'smeer', 'suceeded', 'missy', 'grishamisc', 'springboard', 'bubble', 'nose', 'seborg', 'innovated', 'unjustices', 'yearned', 'continents', 'verbatim', 'wits', 'discriminations', 'floyd', 'fiendishly', 'societal', 'atheist', 'plucks', 'fascists', 'mindlessly', 'mice', 'plucky', 'abused', 'regimen', 'ragg', 'rescuing', 'robustness', 'jamaican', 'touchstone', 'darker', 'engine', 'ad', 'johnny', 'invigorating', 'migrate', 'caustic', 'watches', 'aq', 'ensuing', 'midwife', 'walks', 'pedestal', 'amused', 'tremble', 'amatuerish', 'drafts', 'collin', 'whiners', 'someones', 'shaun', 'khadra', 'congress', 'golem', 'barzini', 'forgettable', 'bombed', 'slant', 'zenny', 'provence', 'slang', 'tricky', 'natalie', 'posible', 'nrnberg', 'acids', 'mask', 'boardbook', 'mash', 'fraudulent', 'nelson', 'dyer', 'sensibility', 'legislatures', 'rewiew', 'crept', 'osnabrck', 'recapturing', 'modernizing', 'upkeep', 'suspected', 'mandala', 'oaths', 'attentive', 'disciples', 'tx', 'johansen', 'rf', 'tp', 'tn', 'prophets', 'tail', 'alvarez', 'robber', 'nore', 'dressing', 'smile', 'te', 'broaden', 'norm', 'ponderings', 'khmer', 'syncretic', 'appointment', 'keirsey', 'perahps', 'interpreting', 'elena', 'friere', 'anatolian', 'daala', 'pencey', 'linguists', 'cable', 'pbr', 'ageing', 'herrings', 'misinformation', 'laud', 'sand', 'dusky', 'harry', 'aaarrrgggh', 'maggie', 'quicker', 'allusive', 'sync', 'healed', 'gulfs', 'rhymes', 'haggstrombondi', 'hick', 'offbeat', 'unuseable', 'psychosomatic', 'poisonous', 'resume', 'prevailed', 'sabbag', 'succinct', 'nurse', 'specialises', 'sentient', 'empower', 'arimathea', 'indecision', 'vomiting', 'citicorp', 'lonbotham', 'civilians', 'concluding', 'ignore', 'yellowed', 'backlash', 'rereadings', 'introductory', 'compliance', 'brutal', 'pics', 'prior', 'hamster', 'schumacher', 'cessation', 'provable', 'sweetness', 'appealling', 'ballanced', 'depart', 'retroactive', 'vie', 'enactment', 'marriages', 'traumatized', 'vis', 'follower', 'pythagorean', 'orwellian', 'sexiness', 'executable', 'objectives', 'cornerstone', 'unrecognizable', 'freest', 'automate', 'reminiscing', 'inferential', 'loux', 'livingstone', 'initiated', 'substances', 'inquisitiveness', 'doseages', 'corrected', 'juliette', 'tested', 'rudeness', 'foundations', 'ferlinghetti', 'cunning', 'evolves', 'installing', 'adapated', 'morgan', 'brigade', 'scramble', 'civilizations', 'antagonists', 'memoirs', 'scan', 'reincarnation', 'secularism', 'neglected', 'accept', 'fiercely', 'transcendent', 'scar', 'bonded', 'condemn', 'crapola', 'magnani', 'tarkin', 'imminent', 'hugh', 'dismissed', 'browne', 'earnings', 'freshly', 'nausiating', 'dismisses', 'lowly', 'conceived', 'sprinkle', 'anoint', 'countryside', 'scapegoating', 'wiley', 'mapping', 'waver', 'uncomputable', 'maltese', 'mendel', 'appealed', 'snotty', 'refuse', 'pangaea', 'redicoulous', 'whitley', 'ortho', 'curmudgeon', 'geographic', 'vendela', 'frontiersmen', 'clarifications', 'leigh', 'fritjof', 'resorts', 'wronged', 'scott', 'tertius', 'brim', 'signs', 'broadway', 'smiling', 'intelligently', 'astrology', 'laced', 'isaiah', 'rapidly', 'flinder', 'peretti', 'gerald', 'lovedcurious', 'html', 'bypass', 'nifty', 'scribes', 'madeleine', 'monochord', 'ally', 'wry', 'skipped', 'vigilantes', 'propose', 'distilled', 'hogath', 'rosalind', 'olivia', 'thereof', 'weeds', 'speculate', 'odin', 'reassured', 'everytime', 'truths', 'metabolised', 'yearns', 'courses', 'pharisidical', 'satchmo', 'resurface', 'neccessary', 'shocking', 'errata', 'investigators', 'engendered', 'begged', 'coding', 'resolute', 'critters', 'grandmothers', 'anachronistic', 'clockwork', 'michka', 'operation', 'repressive', 'ftp', 'neanderthal', 'bubby', 'blacks', 'multiculturism', 'sociological', 'darling', 'plotting', 'highway', 'professioanl', 'demura', 'risen', 'drifting', 'polyhedra', 'atms', 'belies', 'proxy', 'murmur', 'birding', 'prefab', 'disadvantaged', 'owners', 'reared', 'retained', 'acquaint', 'misusing', 'diaspora', 'retainer', 'anecdote', 'anecdotal', 'castle', 'puhn', 'arose', 'logistics', 'amazinglanguage', 'rooted', 'forwards', 'limerick', 'experts', 'adduce', 'seasons', 'transgressed', 'ethereal', 'anshin', 'kobe', 'bleeped', 'differ', 'landmass', 'leverage', 'educators', 'moderately', 'litany', 'heady', 'elswhere', 'hallowed', 'dennett', 'omnipresent', 'hedji', 'crow', 'molecular', 'handwriting', 'damore', 'atkins', 'elaboration', 'burgess', 'vantage', 'satirical', 'zeppelin', 'ernestine', 'rivers', 'rampant', 'determines', 'recruitment', 'condolences', 'mcfly', 'freud', 'defends', 'patchwork', 'marriage', 'video', 'seamlessly', 'millenarianism', 'bavarian', 'fights', 'defect', 'medeival', 'basicly', 'laborious', 'antagonizes', 'employable', 'vulnerabilities', 'ethnomedicine', 'cofi', 'recognizing', 'hgh', 'commemorated', 'rotman', 'brace', 'singles', 'effecting', 'yawn', 'experince', 'wedded', 'accepting', 'funnier', 'understands', 'goodkind', 'celiacs', 'pricess', 'frightend', 'coven', 'barred', 'masochists', 'bullseye', 'fashions', 'pireced', 'barrel', 'mcteigue', 'microsoft', 'ambiguities', 'taxi', 'gold', 'blended', 'degrades', 'defended', 'session', 'parochial', 'hiscases', 'mistreating', 'hereditary', 'atraction', 'occupation', 'indicator', 'somone', 'crawl', 'evoces', 'thoughout', 'competently', 'wayne', 'snobbish', 'equity', 'indifference', 'bovary', 'atheistic', 'mansfeld', 'dandelion', 'dependent', 'banned', 'sunny', 'resent', 'remedy', 'ninth', 'compass', 'fatale', 'frightening', 'distraction', 'deductive', 'shouts', 'whetting', 'graysons', 'pleasures', 'thoth', 'stirling', 'proclaim', 'lewinsky', 'banking', 'surrendering', 'croatia', 'peasantry', 'weaves', 'approaching', 'insane', 'creator', 'benham', 'sez', 'potent', 'correspondent', 'flavours', 'allin', 'outwardly', 'institutes', 'outward', 'allie', 'raccoons', 'unsettling', 'richelieu', 'leg', 'verbs', 'rite', 'avoidance', 'nope', 'monsters', 'compliment', 'screeched', 'morland', 'candor', 'europa', 'enclosures', 'targeted', 'espouse', 'redesigning', 'lem', 'untouched', 'respondents', 'smoldering', 'electrical', 'pagan', 'rehashing', 'empowering', 'prospects', 'sadam', 'opal', 'feminist', 'auden', 'thor', 'elizabethian', 'improves', 'zacks', 'scams', 'lash', 'toxicology', 'wehat', 'messiah', 'loaf', 'underperforming', 'majesty', 'drunk', 'celeste', 'corresponds', 'leon', 'coincidence', 'adaptation', 'contemporaneous', 'underlay', 'interesrting', 'simpleness', 'filth', 'mercantilist', 'acceptance', 'swindoll', 'evoking', 'hitting', 'fasts', 'citations', 'extravagant', 'assassinated', 'mercantilism', 'cpusa', 'beginings', 'raced', 'squirrel', 'nabisco', 'silenced', 'upstart', 'mine', 'moderation', 'sleeves', 'systematic', 'towns', 'presses', 'mla', 'uncertain', 'expanded', 'budget', 'hilariously', 'pressed', 'evaluating', 'formats', 'kissing', 'khashoggi', 'robin', 'encrustations', 'templeton', 'backing', 'von', 'ducks', 'habsburgs', 'untrustworthy', 'owes', 'meager', 'chase', 'decor', 'raiders', 'christophobic', 'isgirls', 'barnes', 'welty', 'fallacies', 'barnet', 'bloodlines', 'detzer', 'ugliness', 'supernaturally', 'farnham', 'knitting', 'mcginniss', 'voraciously', 'alert', 'walmart', 'leaps', 'necessity', 'infamous', 'rabin', 'expend', 'commoners', 'picks', 'regretting', 'regulating', 'kelly', 'leona', 'clearance', 'ozzie', 'comprise', 'franzen', 'kharmic', 'paymaster', 'hypothesized', 'buchanan', 'boer', 'crackled', 'befuddled', 'divulge', 'plagued', 'befuddles', 'crackles', 'unto', 'contradicting', 'christendom', 'admission', 'sputnik', 'location', 'homeland', 'depravity', 'comprehensible', 'putnam', 'soroccobook', 'australia', 'nonphysical', 'instructors', 'emanating', 'aerospace', 'falcon', 'entrenched', 'weights', 'counterintuitive', 'd', 'spine', 'yielded', 'gaiman', 'chorus', 'imposes', 'tunnels', 'ivan', 'tribes', 'explainable', 'disorder', 'alexandre', 'melville', 'privately', 'historiographical', 'bounce', 'pali', 'pall', 'delorme', 'irresistible', 'twinkle', 'broadband', 'plagerized', 'buckland', 'jokingly', 'prosecuted', 'pyrrhonism', 'temple', 'standing', 'bf', 'eclectically', 'idealistic', 'crooks', 'dictates', 'obscures', 'agreement', 'forming', 'bu', 'santa', 'carol', 'fulvia', 'analysing', 'shadings', 'tommy', 'fouls', 'hatchet', 'sacrament', 'cmas', 'forgave', 'stuart', 'progressions', 'susanah', 'criticized', 'chocolates', 'colorado', 'terrorists', 'hometown', 'disturbingly', 'recreate', 'unredeemable', 'awaited', 'osama', 'controversies', 'repaid', 'contributor', 'katie', 'striven', 'seger', 'span', 'sneaky', 'glowingly', 'sneaks', 'gases', 'custom', 'calvert', 'addicting', 'suit', 'spas', 'rhetorical', 'pharisees', 'blueprint', 'royalties', 'rogue', 'byzantine', 'hawaiian', 'poster', 'tally', 'pastor', 'vowing', 'atlantic', 'calder', 'realists', 'considerable', 'posted', 'fades', 'chronology', 'cia', 'nieces', 'magnificant', 'cio', 'thanatos', 'slander', 'verification', 'spectroscopy', 'mushy', 'continuously', 'positivism', 'gahan', 'uc', 'yelled', 'storing', 'genial', 'supervisor', 'reconcile', 'armstrong', 'relevent', 'raging', 'coasting', 'globally', 'manticoran', 'babb', 'surveying', 'graceful', 'nationalism', 'serebin', 'struggled', 'determinism', 'zindel', 'puzzling', 'mahvelous', 'coded', 'armsborders', 'trait', 'scraps', 'consummate', 'gestalten', 'blowbacks', 'sorcerer', 'tedium', 'wmds', 'energetic', 'interpeter', 'developmental', 'prosecution', 'robots', 'cranking', 'tatooine', 'suppression', 'issie', 'sider', 'habermas', 'tailored', 'miles', 'fighter', 'perfer', 'reasoned', 'rescued', 'arisen', 'urgency', 'inaccuracy', 'neifert', 'menace', 'minefields', 'hello', 'hampton', 'amish', 'coda', 'scratch', 'splashing', 'laziness', 'demobilization', 'luchows', 'softer', 'pooches', 'freakin', 'flashback', 'transistion', 'bvm', 'thesituations', 'amalgamation', 'glows', 'iii', 'braising', 'sumter', 'citing', 'outlooks', 'dislike', 'carelessly', 'resoruceful', 'scarlett', 'shurgs', 'retire', 'tulsa', 'developmentally', 'manipulated', 'llama', 'abduction', 'precinct', 'enfp', 'wipe', 'noephytes', 'stodgy', 'transmission', 'experiencing', 'amanuensis', 'anxious', 'bemoans', 'severed', 'leonardo', 'rack', 'keene', 'thespian', 'encloses', 'pledge', 'predilictions', 'visuals', 'overshadows', 'seventies', 'crook', 'imply', 'dualistic', 'hyde', 'foaly', 'incidentally', 'umpteenth', 'spaghetti', 'ode', 'victor', 'apparatus', 'waning', 'multimedia', 'tolkein', 'richmond', 'consistently', 'congradulatory', 'celiac', 'turnaround', 'sixth', 'delving', 'charade', 'dissapoint', 'funtion', 'scenery', 'lutheran', 'stereotyped', 'urchin', 'gathered', 'punch', 'delivering', 'slogans', 'isalnd', 'slaughter', 'layout', 'invented', 'darwinism', 'vinegar', 'sentimentality', 'overlooking', 'casino', 'titanic', 'rehabilitation', 'ment', 'disenfranchise', 'grandchild', 'residents', 'stephanie', 'maker', 'reprocessing', 'acne', 'zealand', 'reveiw', 'mariners', 'sgi', 'oxenstierna', 'romanians', 'unresponsiveness', 'nibbling', 'causal', 'graverobber', 'sketchbook', 'bazaar', 'zip', 'gregor', 'encroachments', 'guideline', 'zig', 'immodestly', 'irrepressible', 'forefathers', 'extremily', 'crisscrossing', 'shipwreck', 'infamy', 'penick', 'occurred', 'bodily', 'foolishly', 'deregulate', 'sharply', 'actualy', 'antichrist', 'iain', 'jettisoned', 'integrating', 'athlete', 'insists', 'larch', 'prompts', 'retell', 'publications', 'stategy', 'fulfill', 'cosmopolitanism', 'fulfillment', 'wedge', 'bens', 'perfecting', 'bent', 'pawn', 'etta', 'rode', 'technophiles', 'codependence', 'bones', 'nears', 'slip', 'martyr', 'reynolds', 'bolstered', 'engagingly', 'bantus', 'resarch', 'pilfers', 'destroying', 'negation', 'delay', 'courtiers', 'hormones', 'mysteries', 'weaken', 'luster', 'allocative', 'abrasive', 'blocks', 'singular', 'npc', 'halted', 'nailing', 'terrors', 'preferring', 'ties', 'nps', 'efficiently', 'bumbler', 'fellman', 'ot', 'boeing', 'clarkson', 'manpower', 'robot', 'redundant', 'element', 'allot', 'allow', 'inclusivism', 'volunteers', 'counted', 'houston', 'archimedes', 'producer', 'produces', 'demand', 'researching', 'anfam', 'doubtful', 'comma', 'flopped', 'peavy', 'hirschhorn', 'warren', 'recreating', 'chauvanism', 'decay', 'jodi', 'flumoxing', 'compulsions', 'meantime', 'tyrone', 'degrees', 'spoiling', 'puerto', 'viddied', 'deceit', 'physicians', 'designs', 'fictio', 'christlikeness', 'python', 'repercussions', 'merton', 'creedal', 'newman', 'snake', 'maslow', 'pompous', 'transparent', 'hallmarks', 'autistic', 'installment', 'bette', 'cheesecakes', 'shortage', 'accompanied', 'beneath', 'glasses', 'overextended', 'sadler', 'nanometers', 'writeup', 'bums', 'fife', 'openminded', 'idiosyncrasies', 'badies', 'thirteen', 'irritation', 'banal', 'bumb', 'agriculture', 'wander', 'fundamentally', 'subhumans', 'boutique', 'wolfman', 'mccullers', 'psit', 'corporationsfrom', 'venom', 'marrilla', 'bunches', 'motifs', 'troop', 'perish', 'tempe', 'interactions', 'tempo', 'incalculable', 'inhaling', 'adherence', 'shud', 'disintegrating', 'descripitive', 'shun', 'craving', 'assiduously', 'shui', 'prayerful', 'regressed', 'mesmerized', 'dubbed', 'replaying', 'pudding', 'serenity', 'whaler', 'davis', 'repeats', 'brenliniqua', 'anita', 'kendall', 'fda', 'platonic', 'demonstrating', 'blown', 'hydrogenated', 'touring', 'owned', 'soothing', 'bjorn', 'seashells', 'blows', 'prank', 'legislative', 'sedgwick', 'deceptive', 'erstwhile', 'festival', 'einstein', 'courted', 'positing', 'thinkof', 'sergeant', 'exhilarating', 'travelled', 'npr', 'clep', 'superheros', 'enforcement', 'vigorous', 'bingly', 'coffman', 'grandpa', 'standpoints', 'aryan', 'tuscan', 'chasing', 'wallenstein', 'haven', 'incongruities', 'sweetpea', 'condone', 'egregious', 'galois', 'reacted', 'extraordinarily', 'tortured', 'listeners', 'psalm', 'ehh', 'rollercoaster', 'gays', 'intervion', 'steep', 'steer', 'imho', 'fawkes', 'partnership', 'abomination', 'gently', 'falso', 'reassuring', 'defending', 'sufis', 'domestication', 'necessities', 'babel', 'awed', 'waffles', 'adjunct', 'decomposing', 'materialsim', 'babes', 'equaling', 'linda', 'suks', 'clarifies', 'competence', 'persistence', 'toughest', 'worldwide', 'lancaster', 'nancy', 'snuff', 'sophomoric', 'asserting', 'courtesy', 'visa', 'preposterously', 'vultures', 'segment', 'fervent', 'portrayel', 'hypocrite', 'quaters', 'tasca', 'justifying', 'stronger', 'brew', 'leavings', 'terminate', 'multitasking', 'evolutionary', 'lloyd', 'bedroom', 'rough', 'lott', 'economist', 'brink', 'pipher', 'principal', 'speking', 'fictious', 'pause', 'clerly', 'championed', 'languorous', 'softens', 'buttons', 'jam', 'tape', 'molecules', 'sylvia', 'flinch', 'mayors', 'okinawan', 'thisbook', 'outstading', 'winfield', 'cranks', 'antagonism', 'irreproachable', 'prohibition', 'autos', 'ira', 'shaping', 'antagonist', 'whackos', 'embedded', 'polygamous', 'comprising', 'taxes', 'summon', 'bathhouse', 'ohio', 'intervening', 'withstand', 'btw', 'catastrophic', 'relativized', 'correlations', 'crayons', 'paperbacks', 'advance', 'rubbing', 'wire', 'superhero', 'interacting', 'mien', 'guyanese', 'partisan', 'waltzing', 'hareidim', 'quickest', 'unravel', 'injustice', 'legitimize', 'harsher', 'pistol', 'email', 'hilgard', 'cassidy', 'derogatory', 'physicist', 'onetime', 'strides', 'dickenson', 'refuting', 'historians', 'shapes', 'cujus', 'lawsuit', 'shirttail', 'marty', 'observable', 'perfidious', 'disappointments', 'lopsang', 'brillant', 'drug', 'streams', 'reusing', 'invites', 'ck', 'toilet', 'taylor', 'upfront', 'cf', 'ce', 'retyped', 'indict', 'modeling', 'exaggerate', 'undergraduate', 'maturin', 'resorting', 'debt', 'reexamine', 'asnevin', 'catholicism', 'sienfeld', 'guilio', 'kahr', 'kahn', 'jussy', 'mcmichael', 'louisiana', 'abnett', 'psychotherapist', 'zines', 'chastises', 'graphics', 'atlanta', 'altruism', 'aggrevating', 'spain', 'pugg', 'laser', 'rigger', 'accumulator', 'reliability', 'wearies', 'accesible', 'hahaha', 'ultra', 'fielding', 'forsythe', 'archie', 'aesthetics', 'aristotelian', 'adminstration', 'vi', 'site', 'vp', 'adultery', 'tenor', 'sits', 'ransom', 'tattoo', 'ostentatious', 'denial', 'goths', 'doubtfull', 'referents', 'chronicling', 'android', 'glaring', 'etherization', 'popularized', 'kleopatra', 'ball', 'raymond', 'emotionally', 'grafton', 'bald', 'spenser', 'berenike', 'meting', 'hasnt', 'ernst', 'infinite', 'adherents', 'concordance', 'slightest', 'englishman', 'karana', 'merleau', 'samlpe', 'weinerplant', 'neologisms', 'newest', 'softening', 'darian', 'dissatisfying', 'compel', 'loeb', 'rooms', 'predicts', 'exemplary', 'glue', 'rambles', 'web', 'generous', 'playwrite', 'wee', 'sickened', 'falsifiable', 'arrest', 'unfrighteningly', 'crack', 'enfield', 'unengaging', 'stumbles', 'innocents', 'pointillist', 'tics', 'increased', 'complicity', 'biologists', 'famously', 'fairies', 'crux', 'haul', 'cedar', 'capitulation', 'whopping', 'tick', 'peeked', 'pies', 'bayonets', 'emma', 'finnish', 'chairs', 'babylon', 'sutree', 'bigotry', 'volumnes', 'lemming', 'parasite', 'blathering', 'garage', 'kirion', 'imprison', 'replacement', 'indications', 'fleischman', 'foray', 'aggreement', 'underwent', 'immortal', 'gymnastics', 'flush', 'ronin', 'lionizing', 'comon', 'recognition', 'conspiracies', 'contested', 'afterword', 'meier', 'dfss', 'granite', 'bookbuying', 'dryest', 'forgiven', 'gergen', 'blowing', 'cumbey', 'schedule', 'selecting', 'invertebrates', 'loans', 'counties', 'gained', 'iris', 'irix', 'langer', 'slayer', 'insufficient', 'swimming', 'cadet', 'intermediates', 'miscegenation', 'libertarians', 'catherine', 'assess', 'camden', 'miscontrued', 'joyce', 'austen', 'crooked', 'pooh', 'negotiable', 'donnas', 'pelosi', 'splintered', 'spots', 'heresy', 'troubling', 'ditsy', 'yrs', 'flynn', 'tituration', 'cosmopolitan', 'complacency', 'lowered', 'convergence', 'interseting', 'valuation', 'sextus', 'count', 'rawlins', 'congresswoman', 'gosport', 'smooth', 'triumphant', 'corpses', 'tosses', 'monument', 'otatoclan', 'bookt', 'distribution', 'soemtimes', 'bearing', 'stedious', 'timespan', 'int', 'filmmaking', 'sibling', 'inn', 'cousy', 'aristotle', 'disengagement', 'preschooler', 'ing', 'jesse', 'postulates', 'deadly', 'brandenburg', 'scrubs', 'illusion', 'reckless', 'semblance', 'monday', 'worker', 'oppression', 'postulations', 'outlets', 'baffling', 'crystallizing', 'impregnating', 'salem', 'capers', 'epilogue', 'vein', 'exposure', 'ghost', 'kanji', 'mercenary', 'compete', 'familiair', 'rural', 'dismissal', 'unspeakable', 'searle', 'valve', 'ramotswe', 'saver', 'papacy', 'bizzare', 'nursery', 'entropy', 'tenuous', 'mordden', 'oldest', 'integrity', 'ebbed', 'psychopathic', 'votes', 'haters', 'physiological', 'spew', 'plutarch', 'subcomponents', 'tickle', 'bibel', 'invaders', 'edward', 'voted', 'arkansas', 'sped', 'facilitation', 'litle', 'mohammad', 'mogen', 'geology', 'sedaris', 'replication', 'mania', 'jacob', 'epiphany', 'smog', 'legalisms', 'kahlan', 'bewildered', 'presidency', 'investigator', 'compassionately', 'minnesota', 'relentlessly', 'yougurt', 'gaelic', 'systemic', 'swallowed', 'nobbs', 'nondescript', 'undercover', 'triumph', 'cher', 'monotonous', 'sodomites', 'phones', 'occasioned', 'sabbath', 'chef', 'preaches', 'belaboring', 'prekindergarten', 'specs', 'machines', 'decadence', 'colonialism', 'settlement', 'contemplates', 'revolutionize', 'lessions', 'toll', 'carpet', 'officially', 'consisting', 'propogate', 'textures', 'extremly', 'simultaneously', 'notions', 'untranslateable', 'admirers', 'wrapping', 'equals', 'atrocious', 'inferiority', 'conglomerate', 'protection', 'recertify', 'dionysian', 'misogynist', 'obtained', 'npcs', 'grislycrime', 'yourcenar', 'lamenting', 'cogent', 'smoke', 'stressed', 'lonesome', 'bunker', 'oxidations', 'riverboat', 'csla', 'servicemen', 'ofour', 'graders', 'peabody', 'retards', 'cheats', 'archaeological', 'romantically', 'udap', 'glance', 'auditing', 'nutroots', 'bra', 'sarah', 'devastation', 'paxbear', 'palestinian', 'ploy', 'chooses', 'mainstram', 'plod', 'dairy', 'agonizingly', 'separated', 'fragmentary', 'haho', 'sociopath', 'cardiology', 'escapism', 'prints', 'starburst', 'haha', 'pierces', 'planetearth', 'adamant', 'scribble', 'kabbalah', 'letdown', 'vermicious', 'razavi', 'eclipse', 'grovel', 'worn', 'boyce', 'groves', 'grover', 'erb', 'containment', 'criticizing', 'elegantly', 'tnh', 'scripting', 'ascetic', 'sonnenfeld', 'aaas', 'indie', 'relativistic', 'bennett', 'heartless', 'indicates', 'fanciful', 'decieved', 'chapman', 'fudgy', 'farce', 'inhabitants', 'verify', 'recovers', 'gondwana', 'morbid', 'minuet', 'disappoint', 'truthful', 'combustible', 'evolutionists', 'lan', 'fever', 'merritt', 'transforming', 'boughten', 'thearpy', 'facinating', 'lomborg', 'openal', 'ladden', 'outbursts', 'arch', 'recipies', 'las', 'foolhardy', 'receding', 'padre', 'maximillian', 'greet', 'scare', 'nascent', 'davies', 'neuharth', 'atrocity', 'lindsay', 'cornwallis', 'consent', 'zen', 'westerns', 'vacationing', 'distractingly', 'transmitters', 'satisfies', 'chronically', 'mayor', 'asymptotes', 'highlights', 'recreational', 'awfulness', 'production', 'understated', 'vents', 'encapsulates', 'leaden', 'split', 'theo', 'misspelling', 'justine', 'fragment', 'refactoring', 'penetration', 'wholeheartedly', 'litterally', 'ther', 'embarrassed', 'dunkirk', 'oxygen', 'relishes', 'classified', 'alternately', 'obilerate', 'rocks', 'enthusisatic', 'malphurs', 'profusely', 'feeds', 'bells', 'carlos', 'derailment', 'overpopulated', 'lifted', 'schemes', 'horniness', 'webber', 'anthem', 'slew', 'homelife', 'hooked', 'fellowship', 'daniel', 'canslim', 'sliding', 'disagreements', 'mullen', 'arpeggios', 'tops', 'admits', 'smacking', 'appointments', 'dashing', 'detecting', 'dillinger', 'muller', 'mariology', 'recovering', 'undaunted', 'nadsat', 'locomotive', 'caprice', 'flawless', 'apprenticethe', 'oppose', 'incorporated', 'regress', 'trumpeting', 'chopped', 'organize', 'wolstonecraft', 'synonymous', 'perkins', 'allaince', 'unspecified', 'thich', 'englanders', 'electronic', 'coauthored', 'rated', 'castaneda', 'rejects', 'surpassess', 'cambodians', 'approximately', 'vacate', 'throughought', 'purposefully', 'hearst', 'lunatics', 'streets', 'paltry', 'grandchildren', 'unheard', 'luncheon', 'ludicrously', 'iyengar', 'tabloids', 'geena', 'isonly', 'miernik', 'toronto', 'mercy', 'ferocity', 'guild', 'bewar', 'glorified', 'citibank', 'hike', 'forensic', 'seated', 'binds', 'merck', 'guilt', 'iron', 'apparantly', 'hacking', 'solely', 'readingfirst', 'rewrite', 'gradualism', 'vastness', 'enchanted', 'disuades', 'refreshingly', 'stomach', 'woodworkers', 'terrib', 'margaux', 'laden', 'tutor', 'hamper', 'elation', 'radclyffe', 'luxury', 'correlating', 'involed', 'mindfully', 'hyprocritical', 'roumania', 'solidified', 'boxcar', 'prohibitive', 'ramblings', 'extending', 'culminates', 'cronin', 'phase', 'autopsy', 'grave', 'guaraldi', 'excercises', 'neighborhoods', 'printmaking', 'inferred', 'newcomers', 'yours', 'lacuna', 'accompaniment', 'quantifying', 'responded', 'reserve', 'decidedly', 'impliesa', 'teetering', 'lewis', 'infrared', 'disturbs', 'dummit', 'shrewsbury', 'nephew', 'bhikkhu', 'sleuths', 'latent', 'painfully', 'implementation', 'elite', 'versed', 'kaukasian', 'elucidated', 'hrr', 'aldo', 'fleishman', 'summarizing', 'hre', 'gingko', 'adequate', 'indepth', 'explorations', 'cappuccino', 'vinton', 'dh', 'chaney', 'uncountable', 'db', 'dc', 'preferred', 'gitlin', 'watson', 'erogomic', 'haunted', 'stalingrad', 'vividly', 'du', 'dr', 'intrested', 'rebirth', 'furst', 'bradford', 'stalwarts', 'beginnig', 'idioms', 'penrose', 'emk', 'kingsley', 'wirework', 'wannabe', 'crucifixion', 'steam', 'secretary', 'multinational', 'erroneous', 'bigwigs', 'zookeeper', 'observed', 'damnation', 'cattle', 'grimoire', 'optimum', 'possessed', 'capone', 'scandle', 'mitch', 'murkiness', 'compensation', 'arcana', 'overgrown', 'tainted', 'succeeding', 'cooperation', 'props', 'deputies', 'retitle', 'accord', 'wa', 'dragonart', 'packaged', 'stealing', 'ww', 'succumbs', 'unfold', 'clues', 'kunati', 'downgraded', 'scribbling', 'bras', 'foes', 'climate', 'psychologists', 'borges', 'excrement', 'ill', 'ncaa', 'ilk', 'filmography', 'misunderstand', 'receives', 'receiver', 'rawls', 'requests', 'branning', 'disappears', 'col', 'supplementation', 'shady', 'eyesight', 'timescale', 'freakish', 'engulfs', 'mercuric', 'ramificationsof', 'applicability', 'iras', 'wider', 'oblivious', 'beyondtraditional', 'fastinating', 'gratitude', 'broadening', 'petty', 'trickery', 'backwardness', 'undertaking', 'condemned', 'bisexual', 'thrift', 'warmth', 'castration', 'unsupportive', 'relaxing', 'prison', 'relavtism', 'dweck', 'suspenders', 'clairvoyant', 'seville', 'postmodern', 'gracious', 'macroevolution', 'maizon', 'ageism', 'enjoyedas', 'reciprocal', 'espoused', 'analyzation', 'diapers', 'voluminous', 'depictions', 'abrupt', 'tellers', 'weakens', 'stink', 'dobson', 'schaeffer', 'preeminent', 'crowning', 'audiobook', 'sticker', 'dumped', 'saroyan', 'benhabib', 'tissue', 'cone', 'hebrew', 'comparative', 'stint', 'brilliantly', 'confirmed', 'descent', 'colfer', 'perform', 'deepens', 'ops', 'disparages', 'parasitism', 'prejudgment', 'descend', 'synch', 'incorrectness', 'avoids', 'plates', 'indictment', 'bunny', 'deepend', 'someothing', 'wheel', 'independent', 'hanh', 'raid', 'microelctronics', 'nil', 'hang', 'rain', 'pubs', 'devalued', 'selfless', 'nit', 'newfangled', 'perfunctory', 'vermont', 'whereby', 'scenario', 'immaterial', 'teleaetheist', 'mammy', 'eps', 'allegorized', 'tho', 'hispanic', 'preceeds', 'deserving', 'humbly', 'operandi', 'pronouncements', 'unified', 'billiards', 'solaris', 'enslaving', 'taxing', 'mid', 'farther', 'swears', 'stewardship', 'smoothies', 'visualization', 'hills', 'gaitskill', 'josh', 'occupants', 'weiss', 'haveto', 'passive', 'partnering', 'shout', 'belongs', 'transformed', 'requiring', 'expelled', 'viking', 'althea', 'editorials', 'capt', 'intercom', 'jekyll', 'tarzan', 'everton', 'designers', 'disadvantage', 'grizzly', 'ahistorical', 'sparse', 'invaluable', 'reciting', 'antique', 'bohemia', 'theessential', 'sends', 'howells', 'dedicating', 'critique', 'separateness', 'omri', 'mazen', 'bora', 'denies', 'cede', 'copeys', 'conservationists', 'idealists', 'hodge', 'noxious', 'violinist', 'disillusioned', 'beating', 'adorable', 'bahs', 'trannsitional', 'queda', 'elucidate', 'shogun', 'illustration', 'constructive', 'saxe', 'englishmen', 'architectural', 'plo', 'khan', 'descendent', 'properties', 'deviancy', 'hynd', 'theirs', 'newspapers', 'typeface', 'constituting', 'gentler', 'banker', 'horizon', 'cherish', 'kyle', 'jacques', 'considerations', 'guiness', 'gatherers', 'mantle', 'wasting', 'pays', 'float', 'bound', 'catchall', 'lois', 'rendering', 'exageration', 'haskell', 'capped', 'lewd', 'stumble', 'riemann', 'strangely', 'poogly', 'gwtw', 'maurier', 'medal', 'unchanging', 'accordingly', 'accords', 'wav', 'lowest', 'decoded', 'overjoyed', 'diligence', 'vitality', 'peninsula', 'needles', 'alsace', 'decodes', 'comprehending', 'sutras', 'garnish', 'isis', 'veiled', 'braves', 'ancestral', 'maximum', 'dovetails', 'crystal', 'heartstrings', 'veterinarian', 'anew', 'vatican', 'tearing', 'rr', 'storys', 'molehills', 'digression', 'guesses', 'computing', 'nudity', 'umpire', 'warring', 'opportunistic', 'guessed', 'saltwater', 'octavius', 'rawlings', 'mold', 'archive', 'curiosities', 'dimly', 'stake', 'schwinger', 'presumes', 'falsely', 'holding', 'unwilling', 'dynasties', 'gerritsen', 'tess', 'rincewind', 'juices', 'update', 'casualities', 'concurrent', 'infomercials', 'detox', 'wouold', 'modules', 'loyal', 'cheater', 'ruminates', 'gutting', 'bramly', 'paige', 'tzeddek', 'directoralive', 'animator', 'quarks', 'vampires', 'charley', 'shirking', 'fabricated', 'kiena', 'jamesian', 'jounrey', 'idealism', 'forwomen', 'heller', 'killings', 'grape', 'blashphemy', 'donner', 'absolutly', 'thighs', 'hectoring', 'compensate', 'permanently', 'rhythm', 'devotes', 'idealist', 'hume', 'feebly', 'predicate', 'upriver', 'nicessus', 'zhang', 'hannah', 'vegan', 'kazue', 'vegas', 'microprocessors', 'anonymous', 'incentives', 'forgiving', 'feeble', 'cunningham', 'eden', 'altering', 'smooching', 'suprised', 'gus', 'p', 'bikes', 'disqualify', 'woven', 'distasteful', 'legalized', 'temples', 'mcguffy', 'psycholinguistics', 'rouge', 'rhineland', 'thinker', 'helpless', 'rapist', 'unravels', 'curse', 'barbie', 'yada', 'assistance', 'celestine', 'uniform', 'wolfe', 'shared', 'cynically', 'paradoxical', 'satisfy', 'collateral', 'chicana', 'predicting', 'unsure', 'overseers', 'zelig', 'muslim', 'handyman', 'smearing', 'gorge', 'roaring', 'hoops', 'exegesis', 'sending', 'condoms', 'coerced', 'burt', 'negativeness', 'trial', 'firemen', 'hebraic', 'patriotic', 'triad', 'pillow', 'montreal', 'churchill', 'retired', 'lending', 'marked', 'italians', 'suicides', 'marker', 'illumination', 'nourmand', 'flavors', 'terminal', 'stereoscopic', 'palnet', 'unimpressed', 'angela', 'fairfield', 'masturbating', 'planted', 'joints', 'selects', 'slays', 'entrance', 'credulity', 'ionic', 'towers', 'envelope', 'empowerment', 'hyperbolas', 'vistula', 'hesitated', 'trevor', 'reflections', 'instructional', 'graphic', 'catechism', 'defeats', 'ibd', 'innuendo', 'hardest', 'graphis', 'renders', 'syntactically', 'cam', 'keynes', 'woefully', 'trans', 'catechist', 'stimulating', 'cad', 'incouraging', 'dedicated', 'expanding', 'chip', 'skydiving', 'fortunes', 'posing', 'refine', 'moretrouble', 'lubitsch', 'restitution', 'writs', 'healache', 'fortunately', 'disappointingly', 'nihilism', 'lobe', 'unrealistically', 'flank', 'gaping', 'pocus', 'shaven', 'spielberg', 'unbeatable', 'tyree', 'alger', 'undyingly', 'averted', 'imputing', 'deviates', 'drastic', 'flourish', 'lifting', 'visitors', 'ghw', 'falafels', 'nationalistic', 'corkscrewing', 'contemplative', 'accelerated', 'progressively', 'ghb', 'fortuitously', 'offend', 'forythe', 'guanica', 'idiosyncratic', 'nerve', 'freckles', 'displayed', 'aiding', 'timing', 'disparities', 'statistical', 'affirms', 'cole', 'acknowledge', 'conquerors', 'platfoms', 'hardcovers', 'supernaturalism', 'nocera', 'abby', 'saxon', 'atonement', 'feats', 'correspondence', 'nom', 'disparate', 'nod', 'rake', 'introduce', 'brutes', 'relativist', 'taliban', 'litmus', 'unimpressive', 'wealthy', 'courtship', 'wont', 'idyllic', 'undermining', 'servant', 'january', 'marching', 'gryl', 'goat', 'bursts', 'el', 'civilizing', 'mosbter', 'fired', 'challenged', 'ed', 'eg', 'sugars', 'snapshots', 'bradley', 'assinate', 'supplant', 'ex', 'kant', 'pills', 'mamoulian', 'album', 'accomplish', 'curmudgeonly', 'dispels', 'nucor', 'furthermore', 'hastily', 'opener', 'colleciton', 'promoting', 'worshiper', 'receiving', 'viable', 'busybody', 'insular', 'lasch', 'divergence', 'punks', 'virtuoso', 'falsifications', 'barak', 'dependencies', 'peering', 'marino', 'carb', 'barad', 'deprivation', 'kingdoms', 'galaxythe', 'domed', 'ginsberg', 'blind', 'benefited', 'seasonality', 'omitted', 'variables', 'comprised', 'coulters', 'directly', 'gasp', 'comprises', 'tomorrow', 'agonising', 'sheet', 'crossings', 'breed', 'carson', 'freebie', 'dunces', 'typographical', 'sheen', 'nutrition', 'talienkov', 'brainy', 'thaw', 'courier', 'uninformed', 'pittsburgh', 'eliminates', 'unseat', 'prometheus', 'inmates', 'appearence', 'eliminated', 'pomo', 'appreciated', 'semantics', 'television', 'ataturk', 'accordance', 'recruit', 'karate', 'faukner', 'transcendant', 'yesteryear', 'embrassmen', 'browser', 'dirmann', 'troublesome', 'unsubstantiated', 'contentious', 'investors', 'remained', 'slav', 'craig', 'slap', 'rowsey', 'loki', 'posited', 'plotlines', 'thorpe', 'insatiable', 'newpointe', 'nuanced', 'lumps', 'veteran', 'anecdotesabout', 'nuances', 'fabbo', 'idealization', 'vtols', 'negligible', 'impairment', 'deus', 'minimalizing', 'hardship', 'halberstadt', 'attractiveness', 'dispute', 'pharaoh', 'rankin', 'importantly', 'fore', 'fersen', 'wacked', 'melanie', 'mrs', 'intrusions', 'slaves', 'schmaltzy', 'abraham', 'typically', 'filing', 'rambling', 'chicks', 'finkelstein', 'fifty', 'notations', 'fletcher', 'teamed', 'woodworker', 'remnants', 'excerpts', 'paradoxes', 'geography', 'historicization', 'snack', 'collegue', 'blessedly', 'poisonville', 'stained', 'texture', 'enriched', 'inventions', 'misquoting', 'melrose', 'shrill', 'chivalric', 'televisions', 'usp', 'yelena', 'cannon', 'loath', 'kiki', 'maalouf', 'stanforth', 'celebrate', 'armorial', 'seens', 'nominalists', 'seldom', 'keyed', 'catagory', 'wroong', 'keyes', 'bulgaria', 'meylani', 'burst', 'anchored', 'elected', 'namely', 'actively', 'zaphod', 'flatly', 'pretext', 'culpable', 'sport', 'nonlocality', 'europeans', 'exterminating', 'suspects', 'fascinated', 'lexical', 'glaze', 'rephrase', 'gazette', 'herbal', 'import', 'traumerei', 'fascinates', 'fitzhugh', 'briskly', 'althroughout', 'blame', 'yums', 'harrass', 'scienceeven', 'whisker', 'daddy', 'resides', 'outflows', 'comed', 'pertain', 'wyrding', 'enabling', 'mons', 'charecter', 'euphemistically', 'nearby', 'impediments', 'feynmann', 'sulky', 'abish', 'dispatch', 'inexplicably', 'biographer', 'prodigy', 'charismatic', 'capote', 'olives', 'carew', 'capitalizations', 'dyslexia', 'carer', 'oder', 'markedly', 'relatedness', 'odem', 'dictator', 'wier', 'emigres', 'linguistic', 'mangesh', 'staring', 'sisterhood', 'gunslinger', 'patriarchal', 'avian', 'straying', 'dalliance', 'restrictions', 'elvis', 'empathy', 'external', 'rubs', 'stems', 'foggy', 'masonry', 'ruby', 'cantor', 'prehistoric', 'phonomenal', 'wealthiest', 'expropriated', 'trick', 'crowley', 'steinberg', 'crump', 'dregs', 'revitalize', 'raptured', 'orientation', 'soil', 'agnostic', 'interviewers', 'unloving', 'canceled', 'embrace', 'eras', 'mcginnis', 'awhile', 'worry', 'widows', 'pullum', 'proto', 'quagmire', 'gentlemen', 'figuring', 'inquiry', 'especailly', 'contortions', 'lite', 'document', 'pedantic', 'investigated', 'closest', 'enjoyment', 'arctic', 'postulation', 'investigates', 'fishtails', 'despatched', 'wittgensteinians', 'enchanting', 'traps', 'bondage', 'charges', 'constitutional', 'cups', 'breezy', 'breeze', 'restorations', 'heaps', 'noam', 'frankie', 'knowledgeable', 'dancers', 'toby', 'frankin', 'newspeak', 'civilized', 'anicdotes', 'burocrats', 'crowns', 'ounces', 'brianna', 'sheldon', 'irrationality', 'senseless', 'adventurous', 'subversion', 'verse', 'versa', 'complements', 'kareen', 'momentum', 'seams', 'hover', 'stunk', 'repetitions', 'amd', 'basest', 'earnest', 'measurments', 'jenkins', 'ruled', 'proponent', 'kulp', 'misquote', 'opra', 'conducts', 'greeting', 'wisdoms', 'yearnings', 'commemmorate', 't', 'output', 'downward', 'endorsed', 'preskill', 'cisco', 'verbal', 'exposed', 'unmentionable', 'tragedies', 'changeling', 'exposes', 'eddie', 'knowning', 'provencal', 'duration', 'questionnaire', 'nonzero', 'capability', 'squirm', 'wizz', 'manhatten', 'willis', 'cv', 'babysitter', 'deficit', 'paperpusherconfessions', 'propagating', 'gurian', 'teared', 'wheat', 'vainglorious', 'asap', 'dreadfulness', 'rollins', 'strained', 'tuition', 'uneasy', 'assayas', 'playwrights', 'hectic', 'innocence', 'sixty', 'leftover', 'ontology', 'creaking', 'bushido', 'hiatus', 'benzon', 'recommnended', 'gump', 'wolf', 'parson', 'conceals', 'disassociated', 'assassin', 'backup', 'wermintrude', 'contextualize', 'outlook', 'statuette', 'goethe', 'rediscovering', 'renovate', 'variable', 'polyglot', 'heated', 'elementary', 'shrinking', 'wellspring', 'intervention', 'stare', 'removing', 'lon', 'lol', 'los', 'drank', 'hartman', 'assumes', 'allergic', 'faulted', 'rjr', 'groan', 'criticsm', 'oppressed', 'smuggling', 'pitcher', 'delayed', 'ragged', 'omelet', 'curtain', 'cottage', 'pitched', 'circulation', 'stanford', 'default', 'recurring', 'interiors', 'bucket', 'sadness', 'tones', 'gibberish', 'skews', 'illnesses', 'remembrances', 'pole', 'quantum', 'scanned', 'yom', 'infuences', 'subtext', 'infact', 'inclusiveness', 'adwords', 'storage', 'productively', 'evenings', 'landowning', 'evildoers', 'polar', 'authoritarian', 'drift', 'mccrea', 'massachusetts', 'unquestioning', 'torches', 'laudatory', 'redecorating', 'tendencies', 'airheads', 'pool', 'lonly', 'titillating', 'himslf', 'chords', 'acutally', 'marcia', 'vines', 'moonlight', 'firebreathing', 'mourner', 'tense', 'overseas', 'furbabies', 'monte', 'interspecies', 'hateful', 'republish', 'groundwork', 'rylant', 'splitting', 'ceased', 'tectonics', 'cameron', 'bayda', 'loll', 'monty', 'antoinette', 'surpised', 'icons', 'gunpowder', 'equate', 'allegiance', 'disappoiting', 'baddies', 'clerics', 'safety', 'volunteer', 'subtleties', 'resounding', 'patently', 'divisions', 'bombarded', 'zolli', 'verb', 'mps', 'frankenstein', 'cusion', 'leonidas', 'securely', 'millhone', 'rasist', 'unicornwild', 'louis', 'snobbery', 'devided', 'prohibitions', 'phonics', 'anan', 'anal', 'amnesiac', 'akashic', 'widescreen', 'hailing', 'colossal', 'opting', 'viscerally', 'nearing', 'throughly', 'heralds', 'befriends', 'casual', 'dunn', 'conscience', 'ails', 'darkness', 'consumers', 'witnessed', 'learner', 'bernhard', 'expirienced', 'innacuracies', 'blundered', 'hijacked', 'bailie', 'unsurprisingly', 'stockyards', 'ferocious', 'rudimentary', 'forgive', 'donatello', 'tracks', 'acadia', 'pub', 'excess', 'vindictiveness', 'eventful', 'adamski', 'advisable', 'addictions', 'traumas', 'creept', 'insonsistent', 'exceptionally', 'popes', 'soldier', 'adjectives', 'minsk', 'neverleft', 'advertising', 'musically', 'permutation', 'cathy', 'cookie', 'inspires', 'boodleheimer', 'uniquely', 'shuffle', 'mediator', 'panamanian', 'marginal', 'cosmetic', 'bogeyman', 'maths', 'globalizing', 'malapropisms', 'aimed', 'trainee', 'chunks', 'minotaur', 'honing', 'taker', 'saxony', 'hisshadowy', 'revelation', 'zora', 'injury', 'entails', 'cannibalism', 'lineups', 'yuck', 'abridged', 'regrettable', 'printings', 'instrumental', 'storywriter', 'broke', 'hurry', 'sovereignty', 'hotchner', 'rips', 'edinborough', 'mccracken', 'thumper', 'coalition', 'retype', 'nina', 'offended', 'nine', 'breviary', 'spontaneous', 'alyssa', 'transcend', 'nautilus', 'gunaratna', 'neanderthals', 'publicist', 'pushed', 'celine', 'stationery', 'fundamentalism', 'repackaged', 'codices', 'donovancalifornia', 'gaffes', 'shamblin', 'jihadi', 'ideologue', 'dismembering', 'nesscarily', 'espousing', 'fu', 'copiously', 'communicating', 'derived', 'vollhardt', 'fc', 'remediation', 'fi', 'compulsory', 'humbug', 'corrupting', 'deluge', 'documentation', 'bugs', 'anytime', 'mantras', 'promotes', 'ego', 'deterioration', 'affirmations', 'inline', 'egg', 'photoshop', 'materialistic', 'casablanca', 'slouch', 'glamorizing', 'chalked', 'thermal', 'perceptive', 'committee', 'staunch', 'kinetic', 'seeming', 'evanovich', 'wishful', 'botched', 'namedallison', 'reluctance', 'helmand', 'absence', 'astonish', 'heros', 'finer', 'lipman', 'motivated', 'groping', 'yo', 'ceo', 'demographics', 'ye', 'reigning', 'anticipated', 'geopolitical', 'jutland', 'nymphs', 'vomit', 'commodore', 'sweeping', 'sachar', 'lightens', 'desperately', 'impressionists', 'imprisoned', 'reemed', 'decimal', 'intervene', 'semiannual', 'twelfth', 'fairs', 'disdaining', 'fasting', 'obligated', 'lifestyles', 'dulles', 'sketches', 'concequences', 'dichotomy', 'circumcised', 'thirteenth', 'cpne', 'organoboranes', 'bickering', 'deride', 'traveler', 'wacko', 'magnet', 'unsurpassed', 'dominates', 'wedlock', 'basements', 'uneven', 'pontius', 'honorbarrayar', 'coincidences', 'fountain', 'transmogrification', 'sid', 'shrivel', 'outrun', 'wisest', 'lebesque', 'bass', 'favored', 'ponderous', 'unsympathetic', 'mathy', 'dire', 'ekaterin', 'dirk', 'rumpel', 'earliest', 'morelli', 'statments', 'poynterthe', 'tenets', 'persuading', 'brazenly', 'americas', 'americal', 'cheering', 'beggars', 'businessmen', 'syria', 'apocalypse', 'interact', 'ethnobotany', 'mightly', 'drooling', 'probability', 'mish', 'doughnuts', 'arsenal', 'moritz', 'moorings', 'elder', 'dominating', 'craps', 'nutritionist', 'alliterative', 'prohibitively', 'outpouring', 'equating', 'supremacists', 'guaranteeing', 'blossom', 'interwoven', 'edda', 'insignificant', 'generalities', 'fallutin', 'bunty', 'rhetorically', 'station', 'scheme', 'banana', 'schema', 'shifted', 'demystify', 'lawman', 'slaphappy', 'norma', 'prediction', 'basal', 'outgrown', 'disempowered', 'boredom', 'blindly', 'alphabets', 'albums', 'warthe', 'judges', 'kindly', 'heathcliff', 'memorium', 'stl', 'syrup', 'dtd', 'stu', 'utopia', 'territorial', 'passel', 'breadbasket', 'dts', 'nailed', 'deciding', 'phobia', 'texans', 'wasnt', 'tearfully', 'urgently', 'emperors', 'novak', 'juice', 'substantial', 'cumbersome', 'unfocussed', 'controvery', 'ratings', 'adrift', 'trance', 'speculative', 'cave', 'transference', 'expansionist', 'lit', 'swallowing', 'comprehended', 'jacobian', 'aggravating', 'manograms', 'caliber', 'macs', 'salinger', 'phimosis', 'promiscuous', 'herriot', 'educate', 'macy', 'walsingham', 'channeling', 'eaten', 'diferent', 'watt', 'unbeknownst', 'approved', 'aberrations', 'salary', 'qbq', 'tonga', 'creators', 'seton', 'simpering', 'performances', 'procede', 'unreasonable', 'intimacies', 'treasures', 'implanted', 'unwed', 'tubes', 'throroughly', 'uterrly', 'insistance', 'phenomenon', 'bespeaks', 'flicker', 'celebrities', 'wehr', 'scriptural', 'renegotiate', 'stalker', 'heavens', 'kinsey', 'completion', 'manderly', 'copyright', 'duncan', 'paranoid', 'assertion', 'bronski', 'criticising', 'hardened', 'edelman', 'huygens', 'ensconced', 'porcupine', 'rigth', 'upstanding', 'pretending', 'basement', 'combinations', 'nagging', 'interminable', 'workouts', 'glamorous', 'alexander', 'catches', 'exhibiting', 'sacrificed', 'millenium', 'bivalves', 'oppenheimer', 'sacrifices', 'hypo', 'glover', 'switzerland', 'witht', 'forster', 'completetion', 'scanning', 'zachary', 'patriotism', 'maurice', 'nagler', 'unpublished', 'werld', 'schizophrenic', 'schizophrenia', 'aramaic', 'aims', 'surounding', 'deploying', 'horrid', 'wot', 'familiarity', 'medicate', 'pathbreaking', 'pawns', 'woe', 'tolle', 'piss', 'alesia', 'unconscious', 'intending', 'scalability', 'poorer', 'spray', 'ranked', 'bindings', 'hardline', 'ads', 'collaborators', 'transparency', 'mega', 'memorized', 'cashing', 'felicitations', 'gaunt', 'adored', 'hippest', 'shortcake', 'rodgers', 'experimental', 'byhormones', 'headed', 'puritan', 'complies', 'manners', 'contras', 'ideologues', 'climbers', 'linux', 'vessel', 'linus', 'daedalus', 'primetime', 'sophia', 'aphra', 'muting', 'buisness', 'damn', 'maintenance', 'improvise', 'threaten', 'anecdotical', 'dame', 'sanders', 'compromises', 'passengers', 'exempt', 'deter', 'anthony', 'katherine', 'compromised', 'ado', 'squabbles', 'assigning', 'pact', 'practise', 'substantiates', 'dolts', 'mahfouz', 'rope', 'socialism', 'sermonizing', 'devachan', 'chariots', 'fleet', 'transcripts', 'animated', 'mitchell', 'loop', 'uncompromising', 'costly', 'voters', 'copiers', 'hoax', 'rulers', 'nave', 'embroiderer', 'salons', 'klansmen', 'communal', 'shaq', 'baseline', 'newbery', 'villifies', 'talbott', 'discredit', 'bok', 'smallpox', 'madly', 'energizing', 'sham', 'temporary', 'fatty', 'dime', 'bonus', 'blair', 'overweight', 'censure', 'defacation', 'cleaning', 'yeltsin', 'assortment', 'bob', 'perspicacious', 'database', 'eariler', 'wedged', 'grind', 'segmented', 'moby', 'consistency', 'savvy', 'secession', 'appalled', 'weakest', 'coup', 'empowered', 'egoistic', 'migratory', 'scotland', 'prompt', 'biographal', 'livestock', 'technicians', 'quarters', 'cocky', 'dissappointed', 'praying', 'siddhartha', 'procrastinating', 'retirement', 'conjured', 'analysisand', 'cineplex', 'exercising', 'throats', 'questioned', 'compleat', 'remaining', 'marco', 'lasses', 'stein', 'evaluate', 'capacities', 'overworld', 'tiring', 'dearly', 'wings', 'overriding', 'quietude', 'submission', 'interfered', 'interestingly', 'multicultural', 'dialouge', 'manifest', 'donna', 'translated', 'weiner', 'modus', 'sketch', 'parade', 'foreman', 'coney', 'urgent', 'lips', 'prioritization', 'traversing', 'offputting', 'zukav', 'savage', 'spouting', 'warnings', 'debra', 'competitions', 'liturgy', 'confounds', 'alfred', 'eater', 'rub', 'booklet', 'processing', 'lakes', 'rue', 'addiquate', 'viewpoints', 'stew', 'lasts', 'propositional', 'raspberry', 'contessa', 'predictability', 'greenblatt', 'tracing', 'simulation', 'rosen', 'idf', 'congressman', 'ide', 'shiny', 'angry', 'silence', 'miracles', 'perishability', 'inacessible', 'panders', 'caretaker', 'tofu', 'connects', 'ensue', 'carlton', 'parables', 'alpha', 'rolls', 'militarily', 'reworked', 'wintour', 'vbscript', 'placing', 'waffen', 'moseley', 'consultation', 'bantering', 'aftertaste', 'airey', 'sinai', 'disallowed', 'manufacture', 'energies', 'collapsed', 'specialty', 'reiterated', 'larry', 'segregation', 'reef', 'reiterates', 'enver', 'amateurish', 'reel', 'collapses', 'amateurism', 'dealers', 'carwardine', 'viciously', 'intuitive', 'purloined', 'moodie', 'estimates', 'fdr', 'chelsea', 'vassalage', 'popularity', 'mindful', 'pettigrew', 'elitist', 'precept', 'nutrituion', 'evocative', 'surmise', 'dashed', 'nah', 'nan', 'nam', 'rewriting', 'condescension', 'preachers', 'neotraditional', 'weinberger', 'hoopla', 'fuzzies', 'forge', 'nay', 'arithmetic', 'creeped', 'venerable', 'spectators', 'calculating', 'mccrook', 'smiley', 'luminaries', 'visits', 'frances', 'regulations', 'rested', 'puzo', 'drapping', 'drab', 'unfunny', 'critiqued', 'e', 'complicating', 'dvd', 'orbis', 'humiliated', 'orbit', 'correlates', 'factually', 'underrated', 'sounded', 'russert', 'gw', 'washy', 'motorhome', 'eckert', 'caried', 'requiem', 'psyche', 'deluging', 'farms', 'proposition', 'hypothyroidism', 'islamicists', 'arik', 'congregants', 'cudgeon', 'earthbound', 'transacted', 'caldecott', 'wizard', 'arrogance', 'whiether', 'excluded', 'cluttered', 'unabridged', 'flinging', 'miners', 'renoir', 'pageant', 'cellular', 'rattling', 'nausea', 'snide', 'wedekind', 'sublimely', 'excruciating', 'quayle', 'asparagus', 'compassionate', 'ryan', 'arsenic', 'inspection', 'enforce', 'guber', 'rationalizing', 'facilitating', 'honore', 'manifesting', 'hideaways', 'pornography', 'exagerrations', 'click', 'clich', 'sondheim', 'sausage', 'wylie', 'evokes', 'vituperative', 'rotten', 'volatile', 'imitator', 'minoans', 'pristine', 'tournaments', 'evilness', 'checklist', 'meandering', 'waller', 'prescribe', 'radicals', 'hasbeen', 'mnster', 'indolence', 'engraving', 'convert', 'rosary', 'coddling', 'fathering', 'overseer', 'gene', 'commendable', 'foresee', 'clark', 'tennant', 'clout', 'theologically', 'austria', 'gimmick', 'approximating', 'imbue', 'intereset', 'camera', 'crab', 'bottomline', 'agreeable', 'exhaustive', 'popped', 'formally', 'imprisons', 'missile', 'israelis', 'seedier', 'juuuust', 'blindsided', 'rivalry', 'appointed', 'starter', 'briefness', 'crosses', 'arched', 'meek', 'silfen', 'arches', 'conections', 'crossed', 'averages', 'heavan', 'brontes', 'links', 'shtick', 'halloween', 'charcters', 'scripted', 'glamourous', 'blaine', 'intuitions', 'shrift', 'merited', 'confuses', 'angeles', 'nary', 'defective', 'vibe', 'digested', 'genomes', 'georg', 'sentiments', 'elliptical', 'conversations', 'instinctively', 'immoral', 'circular', 'outdid', 'chiefs', 'fart', 'fatigue', 'seedy', 'belongings', 'embaesment', 'tomb', 'wiltshire', 'xenophobic', 'pasajes', 'scoop', 'baire', 'advocates', 'alienation', 'healthcare', 'bakers', 'knighted', 'quotations', 'avalible', 'unbreakable', 'fresno', 'competing', 'underpinings', 'sightless', 'trudging', 'nyt', 'referencing', 'hock', 'jacque', 'subversive', 'rambled', 'temporal', 'notebooks', 'housewife', 'imbalance', 'hoffman', 'demoralize', 'surrounds', 'fluff', 'horces', 'maestro', 'catcher', 'propound', 'documented', 'eckhart', 'hippies', 'literacy', 'sidenote', 'mastery', 'interiorized', 'congresspersons', 'foiling', 'ofbombast', 'mode', 'kaizen', 'upward', 'commonwealth', 'unwind', 'blavatsky', 'malfeasance', 'attachments', 'hly', 'edinburgh', 'globe', 'ills', 'multicolored', 'midbook', 'designer', 'flyy', 'exceeded', 'margins', 'transitions', 'hla', 'didactism', 'gallant', 'littered', 'armor', 'activism', 'criminally', 'reboot', 'islamist', 'remiss', 'wondrous', 'wich', 'memes', 'obsess', 'intellegent', 'trashy', 'geisler', 'attending', 'ancestry', 'sneer', 'ridge', 'brownies', 'agony', 'drowning', 'hostile', 'fueled', 'determining', 'route', 'diminished', 'counterpart', 'stride', 'timei', 'resumes', 'humphrey', 'austin', 'housing', 'berlusconi', 'designed', 'glories', 'prospective', 'incarnate', 'jewels', 'succeeds', 'skaters', 'forego', 'condense', 'thelema', 'stultifying', 'bitch', 'precisely', 'practitioners', 'privacy', 'indemnities', 'unequivocal', 'joann', 'wrapper', 'narrating', 'sumatra', 'undergoes', 'prone', 'configure', 'deconstruct', 'highjacking', 'punish', 'boonyi', 'responsibilites', 'cya', 'golfers', 'methodoloy', 'attanasio', 'manifestation', 'apologist', 'waist', 'photograph', 'distinguishes', 'thrashing', 'cartoonist', 'submitted', 'touted', 'cartoonish', 'succinctly', 'firework', 'caterer', 'earthman', 'sensatation', 'sultry', 'supplanting', 'beu', 'berths', 'thwarted', 'poising', 'tabs', 'realizes', 'ryle', 'almoxt', 'horrors', 'goldberg', 'beefy', 'metaphysics', 'remley', 'saintly', 'sprinkles', 'gallipoli', 'krugman', 'ably', 'bourne', 'undreground', 'issuing', 'tactic', 'sufficiency', 'battled', 'seasonings', 'schama', 'simpkins', 'blades', 'goddamned', 'fuels', 'mileage', 'nytimes', 'passionately', 'sewing', 'camper', 'plugging', 'liturgical', 'intentions', 'vengeance', 'rigor', 'lectured', 'subcomponent', 'camped', 'foisted', 'intrinsic', 'wilcox', 'subtracted', 'consequences', 'tutoring', 'eachother', 'belives', 'snapshot', 'elysium', 'databases', 'plague', 'skunk', 'impression', 'qualms', 'redheads', 'bookclub', 'violation', 'cognitively', 'farfetched', 'subgingival', 'shield', 'partners', 'unfinished', 'sheriff', 'miniseries', 'brouhaha', 'dramatize', 'darby', 'millennia', 'wreak', 'lyndal', 'employer', 'reactive', 'baser', 'arabian', 'turabian', 'ethan', 'cameos', 'inherited', 'equivalents', 'wooster', 'boris', 'intamacy', 'slows', 'recollecting', 'polysexually', 'quantified', 'maritime', 'tyrranosaurus', 'joint', 'joins', 'mgt', 'buyer', 'tbe', 'processes', 'trucks', 'unacceptably', 'shy', 'watershed', 'topaz', 'processed', 'embracing', 'proponents', 'mindfullness', 'grad', 'preach', 'spotted', 'protangonist', 'accuses', 'sensuality', 'burying', 'orphan', 'inkling', 'breathe', 'defcon', 'profiling', 'powder', 'dittys', 'operated', 'excitement', 'stats', 'notoriously', 'joys', 'homewood', 'beading', 'lua', 'luc', 'tens', 'flicks', 'luk', 'direst', 'believeable', 'comparable', 'sorely', 'buckets', 'limbs', 'interfere', 'spared', 'relegate', 'hooks', 'disconnect', 'precious', 'pilgrims', 'haughty', 'baptism', 'hundreth', 'diligent', 'trove', 'idolatrous', 'minature', 'hustlers', 'strains', 'revitalized', 'readingjunky', 'fry', 'spewed', 'menstruation', 'modle', 'tuesday', 'paranormal', 'vorkosigan', 'preparedness', 'boitano', 'lawbreaking', 'poem', 'yay', 'discrimination', 'sara', 'thanked', 'completist', 'quiz', 'immense', 'treat', 'catalyst', 'isolating', 'fabozzi', 'controlled', 'vince', 'releasing', 'netanyahu', 'sensed', 'hamburg', 'smoking', 'tomorow', 'shameless', 'quotation', 'debtor', 'adores', 'asexual', 'harder', 'salman', 'queuing', 'chalk', 'dynamism', 'petition', 'owns', 'plunders', 'kimball', 'eschatology', 'resident', 'demo', 'neuron', 'inhabits', 'sustenance', 'ind', 'dems', 'swinging', 'saez', 'transvestite', 'enlarges', 'thereby', 'coraling', 'calamitous', 'rubish', 'carietta', 'asana', 'carleton', 'dickens', 'subordinates', 'underground', 'fanatics', 'passibly', 'prophesies', 'experimented', 'unconventional', 'reactionary', 'fireman', 'ankh', 'eccentric', 'discouraged', 'fierce', 'unrelaible', 'spree', 'indigenous', 'endearing', 'energized', 'compendium', 'scarcely', 'protector', 'weld', 'reflection', 'awakenings', 'phila', 'pashtoon', 'welp', 'dharma', 'warlord', 'dain', 'restore', 'underdog', 'increasingly', 'mistaken', 'archives', 'advertised', 'keen', 'jackal', 'coordination', 'femme', 'ushered', 'previewing', 'density', 'jeff', 'logged', 'suseptible', 'forgivable', 'extends', 'rattles', 'warrant', 'indignation', 'versailles', 'clouded', 'intimated', 'ample', 'disappearance', 'newspape', 'ferdinand', 'declarations', 'overemphasized', 'burden', 'intimates', 'turbulence', 'bukowski', 'dispensationalism', 'lincoln', 'pacheco', 'renegade', 'sizes', 'alternatively', 'stevenson', 'dictionaries', 'fernando', 'candy', 'ponytail', 'conscripts', 'itesm', 'rotc', 'rote', 'adversity', 'lends', 'therein', 'shed', 'gillian', 'brash', 'shea', 'sleight', 'shem', 'phenomena', 'bonewits', 'hush', 'francisco', 'shes', 'jlc', 'cleveland', 'liking', 'theravada', 'heartache', 'bantam', 'pinpoint', 'overlay', 'delaware', 'grinding', 'appreciative', 'rewarding', 'adventuring', 'allegory', 'boggles', 'fanny', 'limitations', 'questioners', 'sentenses', 'liberated', 'syrian', 'turds', 'stowe', 'expansion', 'beneficiary', 'poignant', 'balkans', 'bisson', 'gammell', 'misrepresentation', 'cetagandabrothers', 'sinister', 'recognized', 'madame', 'compatible', 'stamp', 'arrogantly', 'eintein', 'persuaded', 'marlowe', 'chimeras', 'duc', 'artistc', 'vulgarity', 'mushrooms', 'globalized', 'finalizing', 'hmmmmm', 'johannes', 'mississippi', 'networking', 'weekley', 'veil', 'museum', 'cantina', 'palatine', 'notices', 'relegates', 'recruited', 'unexamined', 'searches', 'prophetic', 'gluten', 'hr', 'hs', 'hp', 'evacuate', 'blaming', 'subjective', 'hh', 'strawberries', 'zuzu', 'courts', 'gestalt', 'sprinkling', 'toever', 'presuppositions', 'brick', 'componenets', 'leper', 'anouncements', 'borysenko', 'scoblete', 'cells', 'businesspeople', 'po', 'carriage', 'converted', 'throughtout', 'marylanders', 'walter', 'quaking', 'renaisance', 'elctricity', 'devise', 'attributes', 'jesuit', 'upsets', 'erin', 'maura', 'beats', 'conan', 'matricide', 'kissed', 'diego', 'functions', 'contest', 'tailoring', 'packs', 'guarantee', 'aclu', 'misconceptions', 'pedants', 'neely', 'fodder', 'traditionalist', 'inescapable', 'processal', 'insults', 'methinks', 'beeblebrox', 'stan', 'agonizing', 'empowers', 'dewey', 'fertilize', 'blogs', 'bewitchment', 'glantz', 'littman', 'watercolors', 'someonecarries', 'cleve', 'foreshadowing', 'commencement', 'imax', 'secondly', 'imappropriate', 'bloodletting', 'augustine', 'similarity', 'opposites', 'soultion', 'beadweaving', 'asian', 'perverted', 'trodden', 'homeschooling', 'minuscule', 'unfeeling', 'calculate', 'segments', 'painters', 'nominal', 'swap', 'sway', 'magnetic', 'nourishes', 'promulgated', 'rescue', 'accentuates', 'void', 'misunderstanding', 'gover', 'smack', 'geriatric', 'updates', 'voix', 'reforms', 'affect', 'notepads', 'dynasty', 'unbelievible', 'convexity', 'pastiche', 'dominate', 'baking', 'naturalist', 'shoelace', 'solution', 'expectation', 'unrelated', 'laurell', 'cholesterol', 'unifying', 'heading', 'naturalism', 'whirlwind', 'andrews', 'winded', 'controversial', 'warns', 'decca', 'mansion', 'tangential', 'subordinate', 'implemented', 'colourful', 'spouses', 'preferences', 'wreck', 'rockrod', 'ned', 'parachutes', 'asia', 'spokesman', 'steiner', 'pragmatism', 'foodstuffs', 'maverick', 'evolving', 'barometer', 'screams', 'intrest', 'mem', 'mel', 'pumping', 'anthropology', 'refinement', 'inventer', 'tornado', 'governing', 'osho', 'interpret', 'violate', 'luther', 'tapes', 'rests', 'vulnerability', 'dru', 'bumps', 'heartkudos', 'taped', 'omar', 'superstitious', 'permit', 'adopting', 'theres', 'adolescents', 'intrigue', 'astute', 'grandkids', 'vitriolic', 'decries', 'rosenberg', 'elaborated', 'bayonet', 'historicals', 'schooling', 'objectively', 'elude', 'ninety', 'darwinian', 'welch', 'thestart', 'circumvent', 'landscape', 'criminals', 'recomment', 'remainder', 'folio', 'quibbles', 'cali', 'barnacle', 'bike', 'nate', 'snowden', 'supporters', 'wary', 'oscar', 'editorialized', 'warn', 'dogma', 'kgb', 'pecan', 'leans', 'shelters', 'qualm', 'regan', 'kgo', 'flora', 'trots', 'urbanist', 'setup', 'somber', 'suggestive', 'neurons', 'wallows', 'exceptions', 'rawsistaz', 'eddas', 'newfoundland', 'punished', 'danvers', 'climax', 'braggartmosley', 'soltice', 'lure', 'willard', 'cushing', 'loathe', 'autonomy', 'sats', 'shelving', 'pogo', 'disguises', 'quiller', 'neccessarily', 'mobility', 'globalization', 'ethnicity', 'edgy', 'yosemite', 'winnowing', 'quibble', 'protestantism', 'giftedness', 'blanks', 'undergoing', 'loomis', 'replacing', 'manuals', 'loyalty', 'perieshed', 'managemen', 'timelines', 'lesbian', 'shaw', 'thanga', 'parading', 'recieved', 'infinate', 'maintain', 'intounderstandable', 'assertively', 'operate', 'apastiche', 'placements', 'familly', 'fetus', 'deck', 'gettysburg', 'murray', 'befall', 'mumbo', 'ghastly', 'keyboard', 'toady', 'mystics', 'sixties', 'mispellings', 'survives', 'indispensible', 'harmonica', 'hezbollah', 'fleeing', 'malicevic', 'damascus', 'breeds', 'tagging', 'persist', 'chatty', 'intarnub', 'confidently', 'belarus', 'yofre', 'calvinism', 'fixation', 'weakness', 'workout', 'pianists', 'triathlons', 'indulge', 'elsner', 'calvinist', 'weenie', 'astor', 'monopolies', 'lorena', 'limits', 'sleepless', 'lucy', 'imrpoved', 'superficiality', 'mccall', 'victories', 'bono', 'leaned', 'messianic', 'luck', 'afforded', 'adobe', 'gabbys', 'mandates', 'aide', 'trading', 'awry', 'navy', 'lawyers', 'principled', 'enclosure', 'contend', 'merchants', 'networked', 'samurai', 'echanis', 'portend', 'mccarthy', 'particles', 'multiply', 'ripping', 'instigate', 'consummating', 'whiff', 'whammy', 'heartlessness', 'sorcerors', 'everyman', 'falwell', 'nietzsche', 'aisle', 'insecond', 'rowson', 'eveything', 'professions', 'isp', 'punctuated', 'nurses', 'iso', 'domesticate', 'punctuates', 'isa', 'enraged', 'naughty', 'economists', 'rydberg', 'reassure', 'comforted', 'peculiarity', 'lettuce', 'featured', 'grady', 'disappearing', 'enrages', 'camenson', 'destressor', 'masterfully', 'diverting', 'goblins', 'girly', 'spinach', 'hawks', 'twisted', 'interlude', 'boating', 'zeros', 'witnessing', 'manaual', 'dwell', 'inferno', 'hawke', 'shallowness', 'compunction', 'solemnly', 'gnoolies', 'actully', 'bouncing', 'gym', 'lazerus', 'contruction', 'peculiar', 'spoiler', 'anxiety', 'keyword', 'useul', 'enabled', 'bitterness', 'normalizing', 'preparation', 'lingering', 'childlike', 'spoiled', 'wielded', 'hallucination', 'enables', 'supercontinent', 'godwin', 'mini', 'persuasive', 'halliday', 'palace', 'membranes', 'bounces', 'mining', 'elevating', 'pantheon', 'draged', 'cartoonlike', 'mins', 'expeditions', 'horde', 'asserts', 'communicative', 'subaltern', 'urinalysis', 'teller', 'nanoscale', 'musketeers', 'worsening', 'moscow', 'davidson', 'shysters', 'llamas', 'catastrophe', 'iterate', 'marie', 'diappoint', 'maria', 'somme', 'padding', 'assisting', 'don', 'observation', 'doc', 'alarm', 'deliberate', 'breathes', 'breathed', 'authoritatively', 'mailing', 'annoyed', 'doves', 'discontent', 'lyrics', 'distances', 'rapture', 'herds', 'syntax', 'kruger', 'chord', 'stepping', 'sneaking', 'nevada', 'thirds', 'marvelously', 'whatsover', 'northeast', 'divinity', 'excercise', 'debts', 'folded', 'wizzard', 'seeks', 'ldap', 'integrate', 'folder', 'jailed', 'wearing', 'monica', 'tiles', 'overflows', 'shiksas', 'appetizer', 'stoo', 'christopher', 'smug', 'goddesses', 'isaacson', 'earl', 'undisiplined', 'pardoning', 'disch', 'bay', 'illegitimate', 'reawakening', 'monumental', 'architecture', 'linguist', 'effing', 'bah', 'ears', 'attest', 'decides', 'fluffy', 'theorising', 'emergent', 'caulfield', 'betelgeuse', 'incorporating', 'choises', 'pete', 'voyage', 'narrated', 'mutilation', 'globalism', 'smacks', 'olympics', 'uppity', 'pets', 'simplest', 'sorts', 'tolerance', 'spunky', 'insinuated', 'warrior', 'juxtapose', 'vitamin', 'vernor', 'richest', 'reserach', 'gentry', 'worksheets', 'excavate', 'deregulation', 'munoz', 'uncertainty', 'ascendancy', 'una', 'peddling', 'editoria', 'circumlocutions', 'confronted', 'decayed', 'gwen', 'fillmore', 'paramours', 'durante', 'height', 'offerings', 'awesomely', 'lanterns', 'initiative', 'quinn', 'georgeous', 'roeder', 'peuplade', 'quine', 'rymthe', 'copycat', 'proceeded', 'regenerate', 'futility', 'rinzler', 'glamorized', 'cyrus', 'hamilton', 'commission', 'detrimental', 'tina', 'basil', 'entered', 'lovely', 'threw', 'stresses', 'indeterminacy', 'prosperous', 'dismiss', 'locations', 'kudos', 'rainey', 'abled', 'deepen', 'downplay', 'encyclopaedic', 'distorts', 'demobilizing', 'tank', 'affirm', 'ardious', 'originate', 'economies', 'negotiatings', 'lizard', 'melted', 'ceilings', 'ksfo', 'anchor', 'chilling', 'spawn', 'metropolitan', 'informatove', 'discredits', 'carlson', 'sanitizes', 'defeated', 'iv', 'soils', 'cant', 'lugubrious', 'im', 'clinging', 'ia', 'mouse', 'id', 'complains', 'gaze', 'overstated', 'borough', 'bottles', 'entitles', 'belle', 'header', 'jotting', 'cardoza', 'quant', 'belly', 'filtered', 'colonies', 'phobias', 'confronting', 'grows', 'entitled', 'homeschool', 'unlimited', 'browsing', 'differing', 'kit', 'renaissance', 'kim', 'weakly', 'tuskeegee', 'sanctimonious', 'slrs', 'glimmers', 'approbation', 'pandora', 'flops', 'investments', 'endin', 'etiquette', 'stomache', 'alluded', 'yen', 'rebellions', 'fanzines', 'absolutley', 'verses', 'alludes', 'psych', 'transforms', 'fullness', 'augments', 'germanies', 'impending', 'bracingly', 'strangle', 'lowbrow', 'nudge', 'candidate', 'infinitely', 'agile', 'regarded', 'assassination', 'goodman', 'jules', 'duotone', 'copyrights', 'justices', 'godmother', 'opt', 'egan', 'assyria', 'storeowner', 'boasted', 'vanessa', 'glossed', 'withalex', 'whichever', 'julia', 'depicts', 'vanity', 'shoulder', 'nevermind', 'airhead', 'joneses', 'krakaur', 'switching', 'rizzoli', 'lefties', 'zombies', 'notorious', 'signal', 'unexplored', 'incosistansies', 'hindsight', 'deaf', 'elderly', 'fingering', 'sumwun', 'wwi', 'norman', 'sprawl', 'personnal', 'grading', 'outspoken', 'daytime', 'flounder', 'independantly', 'alarmists', 'habbits', 'burn', 'humanists', 'sifi', 'unorganized', 'protagonist', 'woodrow', 'insanity', 'codified', 'brahmin', 'postgresql', 'conceal', 'barbarians', 'paranoia', 'fromkin', 'contactees', 'afternoon', 'craftsman', 'islands', 'scenary', 'marshal', 'automatically', 'definetely', 'hotly', 'whats', 'formerly', 'bundles', 'carrot', 'appoints', 'complaints', 'theorizing', 'doctrine', 'narration', 'errs', 'refined', 'ablility', 'foxhunting', 'cones', 'communists', 'distributing', 'ihad', 'illustrious', 'valedictory', 'winters', 'lampoon', 'fraction', 'toaustrian', 'factions', 'fork', 'dogmatism', 'analyse', 'touchs', 'landing', 'idealized', 'sagas', 'powerfully', 'surrender', 'analyst', 'fort', 'continuance', 'protestant', 'preview', 'builds', 'breathnach', 'prevents', 'whisked', 'bounds', 'unvarying', 'turin', 'whiskey', 'cosmos', 'attaches', 'temper', 'diagnose', 'seneca', 'tarnishes', 'determinist', 'sticks', 'tolerated', 'lingers', 'facilitator', 'sticky', 'selfishness', 'tarnished', 'floating', 'magellan', 'subsistance', 'holla', 'marxist', 'discriminate', 'burrough', 'agreeing', 'bildungsromans', 'handed', 'answerable', 'footnoting', 'digital', 'holly', 'marxism', 'garland', 'faction', 'ascribe', 'trepidation', 'diem', 'authorities', 'neuroscience', 'shatters', 'unlocking', 'hisbooks', 'babysitting', 'horizantal', 'microcosm', 'stripping', 'coltrera', 'teeth', 'meander', 'restored', 'befriend', 'customary', 'componant', 'relieve', 'guarneri', 'wayfarer', 'yapping', 'mile', 'disingenuousness', 'dawkins', 'milo', 'schwenke', 'disingenous', 'anticipation', 'yummy', 'disorders', 'casualties', 'swoon', 'prom', 'countdown', 'praised', 'skirting', 'analogous', 'mohama', 'llewellyn', 'penniless', 'sappy', 'lynch', 'ma', 'governments', 'dim', 'staples', 'cheapest', 'accidentally', 'sparshad', 'forgets', 'hooray', 'jewmaicans', 'dip', 'amatuer', 'fearing', 'contrasting', 'camelot', 'measurable', 'worm', 'wherefore', 'resents', 'cybele', 'kobudo', 'afghanistan', 'lennox', 'sentimentalism', 'mindfull', 'filler', 'favour', 'bartle', 'reunite', 'somalia', 'hypocritical', 'unrestricted', 'reviewser', 'shenk', 'proclaiming', 'palmer', 'transportation', 'dwarf', 'bandwagon', 'bloke', 'clerk', 'vergil', 'objector', 'lusting', 'decipher', 'victimizer', 'theboys', 'earthquake', 'opionion', 'battling', 'bot', 'bow', 'expulsion', 'liberman', 'exemplifies', 'simultaneous', 'gloria', 'boo', 'priceless', 'conveniently', 'nylon', 'margot', 'massage', 'breathtaking', 'elect', 'flexibility', 'contradictions', 'licensing', 'verge', 'orginary', 'extolls', 'dents', 'infinitum', 'franco', 'sharper', 'pidgeons', 'ariel', 'licentious', 'pluses', 'dude', 'scenarios', 'insider', 'avonlea', 'boritt', 'perv', 'cabals', 'flaunting', 'thru', 'aspirin', 'ood', 'outweighs', 'unreadable', 'incredulous', 'labyrinth', 'acceptable', 'treasury', 'ageless', 'downtown', 'teary', 'tandem', 'rigid', 'oop', 'savior', 'archaeologists', 'osprey', 'revisionist', 'treecat', 'fictionalized', 'tokyo', 'avoiding', 'predicatable', 'flu', 'wallet', 'drags', 'romanticized', 'walsh', 'arrive', 'cisa', 'nearest', 'sub', 'barbecues', 'hippo', 'kiddos', 'concocted', 'strugles', 'incarnated', 'drawer', 'guarded', 'council', 'behrman', 'dimwits', 'dennis', 'poolroom', 'pink', 'nevil', 'vtol', 'oslo', 'gilster', 'definatley', 'pine', 'strikingly', 'emotionless', 'sword', 'skates', 'tile', 'persuasion', 'tatics', 'pathway', 'pint', 'hedonist', 'ineutero', 'mat', 'wicca', 'strokes', 'max', 'snl', 'steward', 'mae', 'mankind', 'poignancy', 'tablecloth', 'journals', 'jellyfish', 'shaara', 'chalon', 'neck', 'avant', 'thorne', 'fluent', 'jail', 'block', 'manstein', 'basket', 'seprateness', 'gesture', 'framing', 'fronts', 'shoes', 'schwartz', 'resiliency', 'reagonomics', 'gradual', 'wishing', 'stability', 'impostors', 'terrace', 'argued', 'consolidating', 'conjunction', 'smoothie', 'undermined', 'encompasses', 'knids', 'maid', 'coaching', 'jeeves', 'mail', 'msnbc', 'encompassed', 'mommy', 'transparently', 'finance', 'captivated', 'bein', 'diablos', 'sarcastic', 'captivates', 'lunch', 'jejune', 'markings', 'aspirations', 'erudite', 'considerably', 'aficionados', 'battlefields', 'drappery', 'attorneys', 'resignation', 'arrows', 'peasant', 'bolshevik', 'quiltmaking', 'showcasing', 'vogue', 'nick', 'parasitic', 'cultivation', 'conscientious', 'abnormal', 'conventions', 'grudem', 'richly', 'absurdly', 'befell', 'fingertips', 'aloof', 'canada', 'billions', 'jackson', 'gonzales', 'pedophile', 'interference', 'unworldly', 'condemns', 'imperative', 'dutch', 'objectivity', 'insecure', 'goto', 'quran', 'hefty', 'smudge', 'brooks', 'spies', 'campgrounds', 'yuriko', 'disparage', 'caffiene', 'ministry', 'listings', 'funky', 'uncredited', 'illitrations', 'cellulite', 'assuredly', 'waited', 'macon', 'malkin', 'roswell', 'nutritional', 'parinoid', 'proofreading', 'methodological', 'accountability', 'fiji', 'cheesy', 'worldnetdaily', 'augusten', 'cincinatti', 'slept', 'immortals', 'mythmakers', 'psychotic', 'modernist', 'texas', 'participated', 'mermaid', 'citiesmeet', 'stronghold', 'amonst', 'loneliest', 'steinbeck', 'buts', 'sequels', 'eyed', 'seat', 'cleanse', 'oversimplification', 'ceramics', 'vauger', 'abductees', 'illegality', 'sailing', 'gangster', 'notches', 'hasty', 'victorian', 'archimedean', 'fasd', 'manassas', 'latinist', 'declares', 'captains', 'gathering', 'improbability', 'lice', 'voices', 'dash', 'spectacle', 'monochrome', 'occupied', 'euclid', 'cassandra', 'speakers', 'bavaria', 'recreated', 'flippantly', 'efficient', 'upgrading', 'acumen', 'clintons', 'recreates', 'personalized', 'pranks', 'healthful', 'allsburg', 'bets', 'trillian', 'trace', 'investigations', 'arguing', 'cheesecake', 'friedman', 'incidence', 'zigzag', 'invertebrate', 'assault', 'barrage', 'tract', 'pair', 'supremely', 'tracy', 'beth', 'hardships', 'queens', 'sutton', 'camping', 'incisive', 'trotter', 'gracefully', 'properly', 'alarming', 'contraversial', 'precise', 'lexicon', 'shot', 'kouldelka', 'certification', 'supposition', 'glenmore', 'flack', 'corner', 'overdog', 'oligarchs', 'yellowhammer', 'shoo', 'feng', 'dice', 'cargo', 'storms', 'frameworks', 'analytic', 'marquesas', 'negitivity', 'germs', 'gereon', 'penguin', 'sensitivities', 'ranking', 'greyness', 'designated', 'partitioning', 'employers', 'merker', 'unconsciously', 'hotshot', 'smple', 'chillingly', 'pharaohs', 'guriandoes', 'teens', 'firstborn', 'commercialism', 'outshine', 'colossus', 'deducted', 'hyper', 'mattie', 'undertone', 'characteristic', 'worrying', 'shelby', 'kernel', 'repetitiveness', 'boleyn', 'honesty', 'seas', 'eighteenth', 'blurred', 'sean', 'eliminating', 'seal', 'lithographer', 'pebble', 'episiotomies', 'sead', 'permeates', 'indicted', 'steadfast', 'pump', 'chewy', 'radiated', 'oversized', 'dempsey', 'infrastructure', 'crucified', 'js', 'condensing', 'ji', 'magna', 'singers', 'nationality', 'childbirth', 'quantifications', 'philosophically', 'configuring', 'tuck', 'sophmore', 'trades', 'dedicate', 'blasts', 'amateurs', 'volcker', 'missionary', 'subcultures', 'forecasting', 'redfield', 'jk', 'venues', 'innovations', 'accusation', 'maintained', 'grants', 'cluelessness', 'perpetuating', 'tiresomely', 'anyplace', 'underworld', 'ryhme', 'pricier', 'analogies', 'barry', 'ucla', 'shortening', 'workshop', 'mars', 'marx', 'sensibly', 'coalitional', 'odyssee', 'shopping', 'deliciously', 'measles', 'legislations', 'gripped', 'educates', 'norning', 'overdose', 'odyssey', 'divisive', 'profiles', 'trancework', 'quaint', 'indept', 'extravagances', 'investigating', 'interpretive', 'novella', 'bathrooms', 'ulysses', 'conferences', 'devotees', 'ethically', 'strait', 'sleeping', 'strain', 'purportedly', 'dangerously', 'primitives', 'wisely', 'abhors', 'backstabbing', 'pap', 'bags', 'pas', 'harsh', 'insofar', 'knolage', 'heirs', 'osteen', 'pac', 'pad', 'sams', 'stepped', 'pal', 'essayist', 'dishonorable', 'jeffrey', 'rainbow', 'patrician', 'assist', 'riggs', 'fodor', 'disapointing', 'climbing', 'dishonorably', 'gabalawi', 'macro', 'sideways', 'roughly', 'accountable', 'bicyclists', 'behaviorism', 'repulsive', 'uncomplicated', 'consisted', 'breakfasts', 'outdoor', 'fueling', 'sights', 'stretches', 'wer', 'verbatum', 'authorial', 'adrenal', 'galette', 'dipped', 'etheric', 'bowie', 'adulterated', 'forgo', 'beagle', 'ahhhh', 'grating', 'classicly', 'swooning', 'heavier', 'elaborately', 'grip', 'seep', 'tenses', 'stinking', 'mos', 'mop', 'deepak', 'chainsaw', 'vidal', 'grid', 'mob', 'aiming', 'gril', 'grin', 'distrustful', 'christina', 'gossipy', 'adams', 'christine', 'identifying', 'heretics', 'twin', 'indisputable', 'facing', 'chamber', 'indisputably', 'ruminating', 'laughing', 'robbery', 'served', 'passionate', 'glasnevin', 'routines', 'witchcraft', 'paretsky', 'sutra', 'haast', 'nazism', 'ascent', 'alternates', 'wowwed', 'genetics', 'confirm', 'drenched', 'footing', 'alonzo', 'pioneer', 'yakking', 'decomposition', 'claustrophobia', 'ellin', 'understandings', 'apocalyptic', 'buttressed', 'buckling', 'dissapointing', 'seconds', 'thirkell', 'notably', 'despicable', 'squarely', 'strangled', 'crafting', 'preoccupied', 'posthumously', 'smear', 'marc', 'hicke', 'demonic', 'solidify', 'pockets', 'lettering', 'itgets', 'fallacy', 'quietly', 'dagger', 'whites', 'speshulness', 'artichokes', 'empress', 'lifers', 'strip', 'arvin', 'blesses', 'pastures', 'volumns', 'takata', 'picoult', 'wastelands', 'anise', 'totalitarian', 'madden', 'cordell', 'dreaming', 'councils', 'bookchin', 'mondays', 'volumne', 'dolphinthere', 'hysterical', 'chats', 'fanatic', 'replies', 'hacienda', 'judging', 'sore', 'shroud', 'striken', 'autocracies', 'charlestown', 'adler', 'spice', 'peckish', 'commonality', 'arranged', 'appendixes', 'protrays', 'drills', 'strawberry', 'arranges', 'suitcase', 'subclasses', 'powerless', 'affection', 'acclimated', 'aesthetes', 'choan', 'tectonic', 'conundrum', 'rainwater', 'carpe', 'examine', 'grasped', 'file', 'thaughts', 'deed', 'hound', 'eliot', 'neutralizer', 'fill', 'impatient', 'strikers', 'pensive', 'sufferings', 'personnel', 'drivers', 'doctrinal', 'hybrid', 'waxing', 'narcotics', 'supplementing', 'lafayette', 'outfield', 'kadin', 'obsessed', 'austinesque', 'keepin', 'computerese', 'sybex', 'tackle', 'revolve', 'conclusive', 'grudge', 'buffalo', 'collegiate', 'tightened', 'resembles', 'nutrient', 'evenly', 'resolution', 'motel', 'aramco', 'levers', 'colleges', 'eberron', 'grassroots', 'aids', 'dollar', 'thataustrian', 'founded', 'sunk', 'talky', 'browsers', 'invariably', 'fixtures', 'zinn', 'sung', 'prolongs', 'preserves', 'musketry', 'logician', 'rwanda', 'alberto', 'prodding', 'distorting', 'speaches', 'iconoclastic', 'prodigies', 'puffy', 'falt', 'renewal', 'memetics', 'girldevelope', 'washing', 'applicable', 'reminding', 'exploitive', 'saudi', 'angua', 'objectivism', 'exemptions', 'infatuation', 'frontiersman', 'neighborhood', 'grasshopper', 'ritter', 'preposterous', 'knitted', 'beforementioned', 'quebec', 'lawyer', 'cornelia', 'appreciating', 'residue', 'invoking', 'wrecked', 'misprinted', 'stoot', 'abu', 'antoagonizing', 'judicious', 'everlasting', 'personas', 'excludes', 'promising', 'theorist', 'aristocrats', 'jonah', 'ranger', 'bigamist', 'capacitor', 'realated', 'bronowski', 'bertieres', 'publishes', 'antony', 'tortoise', 'luxuriate', 'cock', 'stella', 'agatha', 'uncharted', 'collated', 'toxicity', 'misers', 'quotient', 'alexandria', 'perpetuate', 'suits', 'readily', 'shareholders', 'ludeman', 'levine', 'distinct', 'destination', 'texting', 'libet', 'comparing', 'squires', 'subsumed', 'certified', 'warmed', 'jive', 'sincere', 'lowliest', 'lemond', 'skrull', 'pricklies', 'brisk', 'constructs', 'leonard', 'landed', 'controlling', 'varying', 'nineteen', 'willfully', 'davinci', 'reconstructive', 'roosevelt', 'bannana', 'believability', 'clergy', 'dazed', 'pioneered', 'dewalt', 'specialized', 'dee', 'def', 'discribe', 'funders', 'stubborn', 'shark', 'conniving', 'catalysts', 'rejuvenated', 'nazification', 'savagethe', 'contradicts', 'lawrance', 'despot', 'necesary', 'suggs', 'homicide', 'siree', 'rye', 'patton', 'intensebut', 'thanksgivings', 'whodunnits', 'socioeconomic', 'delved', 'petite', 'frills', 'uninspired', 'verified', 'bleak', 'alps', 'brady', 'orchard', 'unreservedly', 'bankamericard', 'dragon', 'deserted', 'sect', 'panama', 'sexless', 'pleasure', 'fractals', 'excepted', 'politicization', 'infant', 'rounded', 'enslaved', 'reqires', 'stains', 'spiraling', 'oblique', 'setback', 'radar', 'dough', 'predisposed', 'maintainance', 'winger', 'messed', 'comedic', 'pens', 'pests', 'shortstop', 'forthwith', 'commuicate', 'bosom', 'scully', 'microscopic', 'misunderstandings', 'yum', 'penn', 'materialism', 'infantrymen', 'dolls', 'hurting', 'disrespectful', 'laisa', 'temperment', 'dupont', 'socially', 'noticing', 'prejudices', 'mccullough', 'intriqued', 'walls', 'inception', 'prejudiced', 'problematic', 'complain', 'association', 'incoherent', 'underlieing', 'suprise', 'evade', 'inoffensive', 'spy', 'eleanor', 'heroines', 'repeating', 'harboring', 'forthright', 'dinghymagical', 'ideo', 'fisk', 'monks', 'macmillan', 'ukrainians', 'connect', 'fist', 'thoughtfully', 'ripple', 'pot', 'hart', 'allusions', 'acquisitive', 'harp', 'worshipers', 'mustered', 'initiatives', 'groove', 'funding', 'trundling', 'throes', 'pigeon', 'projected', 'livlihood', 'participants', 'flowed', 'tiresome', 'authers', 'endings', 'woody', 'warrents', 'circumstance', 'commits', 'enforcing', 'committ', 'difficulty', 'cartesian', 'backed', 'entrancing', 'yasser', 'prophet', 'whodunit', 'slavonic', 'sitcom', 'audacity', 'openldap', 'rainforest', 'coulter', 'abide', 'indebted', 'gelbart', 'cads', 'tov', 'shapped', 'bullies', 'disregarded', 'foregoon', 'juncture', 'oddball', 'elevator', 'wittier', 'hafez', 'wages', 'wager', 'netter', 'dono', 'elbe', 'stereotyping', 'indulgent', 'bloodier', 'leash', 'assumption', 'amplifiers', 'mama', 'founder', 'gingrich', 'larkin', 'catapult', 'ravings', 'draper', 'necronomicon', 'excels', 'literarily', 'draped', 'dentist', 'differentiate', 'gruesome', 'tacking', 'supposes', 'rebound', 'dossier', 'recording', 'bohemian', 'sedate', 'declare', 'debugging', 'derivative', 'confessional', 'ager', 'wyler', 'elmore', 'headings', 'showers', 'golems', 'authoritarians', 'orders', 'beautitudes', 'dao', 'airwaves', 'flared', 'refute', 'especialy', 'onset', 'caesar', 'augsburg', 'province', 'fansinating', 'easygoing', 'causitive', 'tragidy', 'programmers', 'necrophilia', 'portis', 'charm', 'embellish', 'firedhim', 'refrigerator', 'nhat', 'cuuuuute', 'corrupts', 'inarticulate', 'humanitarian', 'focussing', 'endtimes', 'cramped', 'mammoth', 'saddington', 'conversant', 'joining', 'sector', 'rebels', 'musashi', 'obligations', 'thilled', 'dulcimer', 'hillside', 'unsolvable', 'businesses', 'exacerbate', 'acceptability', 'frisco', 'immaturity', 'headlines', 'screenshots', 'networks', 'detetermines', 'stuggling', 'giant', 'rebuttals', 'anachronisms', 'whistles', 'distributed', 'litthe', 'freedoms', 'convoluted', 'credulous', 'easwaran', 'boulder', 'terorist', 'notation', 'luke', 'express', 'austinite', 'courage', 'rapids', 'breast', 'televangelist', 'silk', 'blogging', 'merchandise', 'nicholas', 'redefines', 'jonhson', 'transitional', 'thhings', 'dante', 'doubled', 'garcia', 'redefined', 'witches', 'unfettered', 'unsentimental', 'restaurants', 'stadium', 'cynical', 'alianore', 'cormie', 'printout', 'tended', 'geoff', 'leslie', 'tackles', 'satiric', 'genomic', 'excusable', 'flavor', 'feared', 'repairs', 'cleland', 'ivalooshun', 'visiting', 'electoral', 'powerhouse', 'smallest', 'prattlings', 'envelopes', 'champagne', 'windswept', 'rosie', 'intrigueing', 'pisses', 'complement', 'nashville', 'renews', 'ike', 'inimitable', 'lightness', 'egotism', 'dualism', 'defunct', 'gnosis', 'journeyed', 'dreamlike', 'kitchens', 'afar', 'mythicism', 'baltimore', 'beta', 'consume', 'impossibble', 'conquest', 'pamphlet', 'instants', 'globals', 'geological', 'openness', 'zeta', 'suppressing', 'busters', 'headaches', 'hannity', 'weaving', 'perspectives', 'devouring', 'screened', 'rivals', 'irksome', 'dropping', 'whine', 'navigate', 'peppers', 'formative', 'intrusive', 'plugs', 'commendably', 'wollstonecraft', 'gay', 'assorted', 'ineptitude', 'chatted', 'gas', 'priced', 'repertoire', 'whitney', 'realms', 'prices', 'aileen', 'gab', 'unnecessarily', 'patriarchy', 'pierce', 'hitchcock', 'fur', 'grains', 'elections', 'kodak', 'cluster', 'sexuality', 'mortician', 'cleopatra', 'lingo', 'constipated', 'shoddy', 'elucidation', 'portugal', 'cents', 'violently', 'imperialist', 'adhd', 'karmic', 'encountered', 'decoration', 'imperialism', 'essnetially', 'stubbornly', 'eczema', 'arenas', 'monroe', 'commemorable', 'pharmicist', 'seduce', 'sociologist', 'leafed', 'benign', 'discourse', 'spade', 'copying', 'neutron', 'strips', 'keys', 'appreciably', 'resounds', 'yesterday', 'syl', 'aggregate', 'brokaw', 'blumenson', 'motionless', 'smothers', 'dystopian', 'werewolf', 'salvation', 'witherington', 'county', 'grunts', 'snarl', 'withdraw', 'howe', 'swiss', 'amps', 'alluring', 'witlessness', 'sunos', 'gerund', 'relationhsip', 'lds', 'fundamentalists', 'openly', 'soneji', 'shrewdly', 'breezed', 'predominantly', 'dishonesty', 'madding', 'alignment', 'wage', 'impetus', 'dynastic', 'terrorizing', 'sparta', 'scales', 'calibre', 'snag', 'shouting', 'undistinguished', 'circumcision', 'bridal', 'brainstorm', 'hates', 'ridiculously', 'sicily', 'bid', 'saluted', 'redeem', 'foreigners', 'hallucinations', 'bribing', 'pest', 'ambrose', 'tangentially', 'follows', 'glove', 'howell', 'mediocrity', 'composites', 'unhindered', 'circles', 'gardening', 'extremism', 'abundantly', 'bach', 'extremist', 'martial', 'strongest', 'pricing', 'falafel', 'candle', 'dredded', 'nicaragua', 'ourselves', 'pronounced', 'lardy', 'culprit', 'pet', 'affects', 'samplings', 'interations', 'bogus', 'scofield', 'ape', 'pea', 'dismally', 'crony', 'manichaean', 'ufo', 'wayward', 'peculiarly', 'continuing', 'rosamund', 'unity', 'restrictive', 'nonbank', 'hostages', 'lottery', 'tripping', 'constrains', 'anatomy', 'consumption', 'hackneyed', 'goody', 'bestseller', 'rediscoveries', 'extensions', 'johnniece', 'consequently', 'pollution', 'nsa', 'causation', 'dolittle', 'sundays', 'invading', 'framed', 'preleminaries', 'obscenely', 'thorougly', 'steven', 'remembrance', 'schoolmarm', 'downhill', 'calming', 'philosophic', 'interacted', 'doll', 'bores', 'epiphenomena', 'moulin', 'assasin', 'pessimistic', 'infected', 'germans', 'homemade', 'erasmus', 'erlandson', 'doctored', 'newsman', 'boyd', 'pyrgus', 'motivational', 'underlined', 'subjectively', 'sdl', 'cran', 'sdk', 'analects', 'generating', 'planes', 'jumbo', 'segways', 'devastating', 'joad', 'swenson', 'highschoolish', 'droll', 'engineering', 'mightier', 'leavening', 'obtuse', 'curl', 'curott', 'verticle', 'denying', 'brethren', 'hinson', 'sidetracks', 'joan', 'adoring', 'cohesive', 'priori', 'functionality', 'ellen', 'scurrying', 'irreplaceable', 'inflexibility', 'cellar', 'accidental', 'heidegger', 'favourite', 'papa', 'druid', 'iberian', 'lens', 'intensified', 'cater', 'lent', 'prepares', 'fisher', 'depicting', 'gautama', 'demonstate', 'rallied', 'gedankenexperiment', 'businessfrom', 'cooker', 'pasha', 'vehicles', 'appalling', 'cooked', 'ludemann', 'implied', 'presenting', 'colonial', 'failures', 'selecction', 'enrichment', 'initiating', 'portraying', 'eurasia', 'rants', 'cynthia', 'eeriest', 'sigmund', 'ziglar', 'amplified', 'gravet', 'marveled', 'blowfly', 'peanut', 'prism', 'saga', 'internment', 'enlightenment', 'fatah', 'presently', 'volcabulary', 'rhyme', 'startlingly', 'implausible', 'assad', 'auel', 'arrange', 'prefect', 'moderate', 'respectful', 'knight', 'consort', 'spinola', 'resouce', 'busier', 'brevity', 'choppy', 'niven', 'bernie', 'sacrificial', 'murad', 'sifting', 'flashcards', 'uncomfortably', 'diggums', 'quakes', 'quaker', 'corerct', 'undergo', 'situtations', 'uncomfortable', 'copenhagen', 'append', 'reconciliation', 'narrations', 'falcons', 'ecofeminism', 'payday', 'exceited', 'pleading', 'manufactured', 'mistook', 'susanna', 'justification', 'bibliographic', 'exchange', 'apologetic', 'beasts', 'sins', 'dwop', 'outlying', 'intelegant', 'sink', 'resemblance', 'preamble', 'remark', 'brazil', 'contradiction', 'poopers', 'weekday', 'cleasing', 'anthropological', 'honor', 'sanibel', 'decentralized', 'obsolesence', 'goniffs', 'presidents', 'ocd', 'sacrilegious', 'talon', 'hrs', 'sewers', 'limb', 'sullavan', 'waaaay', 'fittingly', 'sodomite', 'deepest', 'humbleness', 'excitedly', 'soured', 'montraville', 'conducting', 'burtonauthor', 'gideon', 'transient', 'urine', 'ashamed', 'dentistry', 'eccentricity', 'enviously', 'billed', 'unforgiving', 'harvest', 'pathos', 'minions', 'hogeland', 'marbles', 'embarked', 'tunnel', 'gabriel', 'prager', 'gruff', 'unreal', 'closing', 'fetch', 'decoupled', 'unpacking', 'experiential', 'fringe', 'reserved', 'proportions', 'sought', 'lorentz', 'homoerotic', 'employs', 'justifications', 'ascension', 'miyamoto', 'contempt', 'gcc', 'noises', 'asure', 'meditates', 'crepty', 'regions', 'trieste', 'lamp', 'winners', 'attachment', 'canfield', 'fantasizing', 'revision', 'profile', 'buildings', 'cardamom', 'incompetence', 'leukemia', 'bothered', 'sadistic', 'dominick', 'leisure', 'communicator', 'wisecracks', 'fray', 'bogart', 'kashmiri', 'ambiguous', 'bombers', 'italics', 'kashmira', 'aquaduct', 'interviewees', 'separations', 'correspond', 'ambivalence', 'likud', 'laurie', 'furious', 'addiction', 'lined', 'furnish', 'ignite', 'horne', 'nouwen', 'embarrassingly', 'eerily', 'institutional', 'meiers', 'impeachment', 'whitey', 'meter', 'chargebacks', 'symbols', 'hugged', 'reconstruct', 'grayson', 'electors', 'neurotic', 'horny', 'galaxy', 'bridges', 'revived', 'le', 'bridget', 'prefaced', 'll', 'relativity', 'lapsometer', 'kindergarten', 'coupon', 'heroism', 'blatant', 'stances', 'unites', 'peyton', 'weber', 'tickled', 'cheapshots', 'dab', 'tangle', 'dan', 'faecies', 'operator', 'betrue', 'courtroom', 'sonata', 'ectoplasm', 'preschool', 'applicants', 'flail', 'morrie', 'thrill', 'masterminding', 'estranged', 'warned', 'cider', 'identified', 'blazing', 'morris', 'virulent', 'slacker', 'embellished', 'warner', 'disproves', 'activate', 'dixie', 'proliferating', 'jugular', 'programmed', 'mystifying', 'pacifism', 'incensed', 'programmer', 'salesman', 'popping', 'empires', 'rex', 'disgusts', 'rep', 'rev', 'potomac', 'messenger', 'barley', 'tolkien', 'electronics', 'rea', 'announced', 'lear', 'jessica', 'workflow', 'bleep', 'fourteen', 'analytical', 'meaningfully', 'thanklessness', 'kippurs', 'delinquency', 'likelihood', 'backwards', 'yard', 'hinting', 'shells', 'acomplish', 'yarn', 'allied', 'mortal', 'workbook', 'retain', 'retail', 'strippers', 'rudely', 'handier', 'plastics', 'elegiac', 'cofee', 'flatmate', 'shelly', 'microscopes', 'franks', 'improvements', 'puppet', 'guidebook', 'layabout', 'neopaganism', 'vulgar', 'chased', 'ripples', 'realistically', 'maidens', 'jingle', 'teethed', 'messing', 'antrobus', 'lapd', 'warshawski', 'georgetown', 'geat', 'unscrupulous', 'smolder', 'strongman', 'gaylife', 'environmental', 'uda', 'hem', 'democratization', 'roadmap', 'discretionary', 'reproductions', 'reproducibles', 'ballard', 'pointers', 'martins', 'swedes', 'myron', 'calamity', 'grandin', 'anthropologist', 'shakespear', 'neutralize', 'pitiably', 'fluctuation', 'horrendous', 'tidy', 'deterred', 'kepler', 'sporadic', 'throat', 'curved', 'brandshaw', 'demonstration', 'proselytize', 'sayings', 'minimally', 'congrats', 'mcphail', 'apis', 'laffin', 'parks', 'mix', 'civics', 'uneducated', 'rediscovered', 'cosby', 'unfortunatelly', 'encyclopedic', 'metioned', 'dilute', 'grandmaster', 'trundled', 'propagate', 'trendier', 'prisoner', 'phyllis', 'sally', 'payment', 'asinking', 'inexorable', 'allegorical', 'enthusiastic', 'gather', 'clive', 'atwood', 'crediting', 'quilter', 'denouncing', 'turk', 'steeliness', 'skinny', 'yeahsurerightwhatever', 'thicken', 'utlamitely', 'feline', 'kite', 'gentleman', 'charles', 'unsolved', 'ashenden', 'claremore', 'visualized', 'definable', 'rebuke', 'excerises', 'thicker', 'warforged', 'coloring', 'coadapted', 'debacles', 'tithing', 'booklover', 'madman', 'controls', 'promisingly', 'bernard', 'grabber', 'deceptively', 'satan', 'ambiguity', 'dalhousie', 'higginson', 'hijacking', 'wonderfull', 'strands', 'thrived', 'attwood', 'perfection', 'beak', 'bead', 'knowledgable', 'schrodinger', 'romantic', 'littlest', 'mezzaluna', 'whilst', 'virginal', 'intersting', 'fixes', 'defame', 'teams', 'motherhood', 'shelling', 'excesses', 'fixed', 'gibson', 'sixteenth', 'shapiro', 'omission', 'raptorans', 'heightens', 'dillon', 'duquette', 'begining', 'hayle', 'recogniced', 'scholastic', 'roughage', 'greece', 'audits', 'awaits', 'exploited', 'pedigree', 'literati', 'reform', 'vignettes', 'clearing', 'literate', 'laureate', 'pinker', 'derisively', 'routine', 'brung', 'brune', 'zinger', 'brentwood', 'underwater', 'monarchy', 'antics', 'regretful', 'implementing', 'reproduces', 'potluck', 'legit', 'commenting', 'robberies', 'resistence', 'fulfilled', 'assure', 'busted', 'jakes', 'conquered', 'highland', 'devout', 'cranzania', 'statues', 'fridson', 'disservice', 'brennan', 'commend', 'harpoon', 'arguement', 'manhood', 'mafia', 'pojman', 'transylvania', 'hanseatic', 'romero', 'kabbala', 'tyler', 'devoting', 'newt', 'indicators', 'upbeat', 'proposal', 'leanto', 'arises', 'aubrey', 'reilly', 'overwhelmingly', 'bulk', 'orange', 'sausages', 'angles', 'bulb', 'assessments', 'glitzy', 'paymasters', 'napoleon', 'buld', 'fortold', 'bye', 'atmospheric', 'splits', 'auguste', 'appearance', 'vivacious', 'rectangular', 'sensationalistic', 'homed', 'promoted', 'venomous', 'extracts', 'permeate', 'planets', 'chaotic', 'catfolk', 'interchangable', 'musketeer', 'violating', 'weighed', 'readit', 'arabia', 'caucusoid', 'superheroes', 'portray', 'dietz', 'exorcising', 'diets', 'ohp', 'progressing', 'defiant', 'layered', 'slammed', 'eugene', 'eugenia', 'powell', 'frivolous', 'injured', 'neolithic', 'kidnapping', 'cog', 'solipsistic', 'brad', 'atwoods', 'chomsky', 'bullying', 'feints', 'discredited', 'oranges', 'giuliani', 'scholars', 'hungering', 'antonia', 'retard', 'recourse', 'conjuction', 'neural', 'pampered', 'builder', 'seth', 'vapassana', 'exceedingly', 'tasted', 'wreckage', 'fetal', 'lynching', 'nicknames', 'humdrum', 'domestic', 'evince', 'interim', 'dakota', 'protecting', 'presuasively', 'andais', 'kampf', 'investor', 'anaologies', 'demographic', 'lake', 'raved', 'voila', 'adn', 'ohhh', 'crass', 'confederacy', 'adi', 'commmunity', 'gulped', 'fyi', 'doormouse', 'royalty', 'triology', 'surah', 'excluding', 'kaleidoscopes', 'housekeeper', 'edit', 'divorcees', 'livelier', 'kaleidoscope', 'pauling', 'interludes', 'holies', 'hail', 'stuffy', 'woud', 'localvore', 'ess', 'aesthetically', 'calligrapher', 'involuntary', 'truss', 'garrett', 'inhibit', 'assuming', 'screwed', 'rhett', 'forbid', 'kidnappers', 'pepper', 'oyeyemi', 'miriam', 'stellar', 'lieutenant', 'hospitable', 'appauled', 'periodically', 'narrate', 'simpler', 'konica', 'justin', 'mastiff', 'utterson', 'smartly', 'certainty', 'brotherhoods', 'introduces', 'tuckman', 'andes', 'blessings', 'evoke', 'discard', 'addendum', 'uncaring', 'tome', 'arre', 'seniors', 'faltering', 'faithfulness', 'gambler', 'ankles', 'socks', 'chronic', 'guard', 'doesnt', 'assement', 'universals', 'bugeja', 'entices', 'eldredge', 'waco', 'brides', 'mcmillan', 'extemely', 'awarded', 'possibleb', 'utopian', 'glimmer', 'biggest', 'chunk', 'michelangelo', 'contriversial', 'rodger', 'bus', 'coke', 'pequeninos', 'landscaping', 'wealthier', 'memphis', 'bug', 'versatile', 'partially', 'glory', 'levin', 'frugally', 'supermodel', 'alliteration', 'plutonium', 'skating', 'penetrating', 'groom', 'saed', 'pie', 'crusade', 'liberties', 'sparks', 'collier', 'autism', 'unintelligible', 'cockran', 'dressed', 'mortimer', 'virtual', 'sewer', 'ellipses', 'ledge', 'overpopulation', 'dresses', 'dictatorships', 'proofreader', 'xxx', 'chroniclers', 'traumatic', 'burros', 'bundle', 'masterless', 'prority', 'weaponry', 'uncommon', 'wind', 'acquits', 'tj', 'stirred', 'kidding', 'bulwark', 'lactose', 'oral', 'baker', 'microelectronics', 'hikes', 'peffer', 'wryly', 'magizine', 'kirino', 'hats', 'vermin', 'implants', 'joshua', 'hitch', 'hating', 'nasturtiums', 'flannery', 'patches', 'crises', 'bureaucrats', 'poorest', 'thinnest', 'thinness', 'tenacity', 'honorific', 'ontological', 'pride', 'regrets', 'theists', 'merchant', 'conjecture', 'stanton', 'personville', 'tampons', 'rise', 'amorphous', 'messy', 'thriving', 'harms', 'gagworthy', 'trailer', 'encounter', 'imporartantly', 'sampson', 'haraatz', 'loneliness', 'anglophone', 'flashy', 'guiding', 'enclosing', 'delightfully', 'venus', 'degeneracy', 'bicycle', 'ungenerous', 'disciplines', 'betsy', 'fairness', 'feathers', 'guardedly', 'scribbled', 'persuade', 'friendships', 'estimated', 'intereaction', 'hide', 'organisms', 'rationally', 'blum', 'beaten', 'supplied', 'insinuate', 'blur', 'supplies', 'disney', 'pats', 'kicked', 'zack', 'woozy', 'fable', 'bunkers', 'shills', 'feisty', 'stared', 'studio', 'rulerships', 'chewbacca', 'remebered', 'orthodoxy', 'reversals', 'generals', 'vikings', 'forum', 'luggage', 'auction', 'settler', 'settles', 'iliad', 'charactersi', 'fogarty', 'midway', 'breiner', 'resurrected', 'straw', 'inexhaustible', 'iconoclasm', 'perpetuated', 'erected', 'predominetely', 'outre', 'cons', 'sympathise', 'punching', 'forums', 'messainic', 'regicide', 'meaty', 'nursing', 'assyrians', 'beetles', 'slansky', 'garners', 'discrepancies', 'kautskys', 'noting', 'spike', 'ritualistic', 'prescribles', 'annotations', 'mystical', 'crete', 'naive', 'novus', 'befriended', 'portraiture', 'grief', 'varsity', 'diatribes', 'phono', 'companys', 'squad', 'shoot', 'join', 'critiscizing', 'henri', 'mm', 'mi', 'advocacy', 'boldest', 'mt', 'dizzy', 'install', 'deweyism', 'entertainer', 'ernest', 'agribusinesses', 'appraisal', 'mx', 'addictive', 'teutonic', 'inscription', 'auhor', 'ingenuity', 'gadgets', 'mayhem', 'magnificient', 'overpowered', 'ceremony', 'chiropractors', 'elector', 'intruders', 'grammatically', 'drummer', 'accusations', 'hitchhiker', 'negotiatons', 'widespread', 'ancestor', 'derivations', 'holmanof', 'harrienger', 'poker', 'brutalizing', 'navies', 'mispronounce', 'horoscope', 'breathlessness', 'delicacy', 'imaginable', 'lump', 'dietrick', 'proustian', 'fijian', 'vegans', 'cain', 'predicates', 'ccnp', 'religio', 'parallel', 'crackin', 'amin', 'flintknapping', 'hypnotic', 'patent', 'complexity', 'algorithms', 'margarte', 'acknowledges', 'archaeology', 'amis', 'untold', 'carnap', 'chrisitan', 'prussia', 'underside', 'sickly', 'alistar', 'reformers', 'pythagoreanism', 'digest', 'glances', 'manageable', 'destroyer', 'hypocrisy', 'canto', 'edith', 'exhibits', 'walkable', 'glanced', 'whips', 'corinthians', 'urination', 'bingham', 'denizens', 'tourist', 'litigious', 'pga', 'prevented', 'supporter', 'cassiopeia', 'revelations', 'advernturers', 'absolutist', 'rental', 'doucmentation', 'gloom', 'netherlands', 'bosnia', 'kicking', 'fonts', 'chuck', 'detroit', 'dyeing', 'congo', 'victory', 'minutiae', 'nambla', 'lasting', 'intially', 'signing', 'hanger', 'diana', 'diane', 'gymnasium', 'bucco', 'sears', 'practising', 'combining', 'chronicle', 'distantly', 'saturday', 'revisions', 'juxtaposition', 'jackets', 'gon', 'hellenistic', 'goe', 'gog', 'gof', 'washed', 'bennet', 'counselors', 'trumpeted', 'thisis', 'sabrit', 'unabashed', 'paulus', 'clamps', 'inwood', 'resistor', 'independence', 'frey', 'splashes', 'scoped', 'apposed', 'ambles', 'jubilant', 'ainslie', 'suburb', 'blackmailing', 'hyperbolic', 'correctness', 'openssl', 'priorities', 'filter', 'hopeless', 'cooperating', 'angelou', 'rang', 'narratives', 'makefile', 'lovably', 'westerner', 'magick', 'hearing', 'gustavus', 'rant', 'awoke', 'sober', 'dysfunction', 'mercury', 'toy', 'qickly', 'guinness', 'sarcasm', 'indeterminate', 'tow', 'heights', 'northanger', 'kinder', 'flippant', 'wildly', 'corpus', 'toe', 'russellian', 'ceiling', 'hangout', 'refernce', 'reframing', 'passovers', 'grabs', 'brushes', 'esoteric', 'pondering', 'negotiating', 'kindest', 'toot', 'dylan', 'neurobiologists', 'babette', 'abandoning', 'unsaid', 'cogently', 'erickson', 'hopping', 'wuornos', 'clubs', 'bloated', 'karens', 'flame', 'pio', 'beard', 'stacey', 'donkey', 'redudancy', 'ran', 'torque', 'accidentality', 'unpopular', 'raw', 'screwy', 'rap', 'neopagans', 'cousin', 'blackstock', 'botswana', 'lbo', 'ray', 'matarese', 'manipulatives', 'impeccable', 'balder', 'brandon', 'rictus', 'educator', 'feigenbaum', 'effectiveness', 'rider', 'clunky', 'evangelist', 'defenestration', 'visionary', 'thelonius', 'blamires', 'genital', 'evangelism', 'tibetan', 'alabama', 'parting', 'bsc', 'peers', 'lifesaver', 'rogers', 'bargained', 'flop', 'metal', 'chemicals', 'possesses', 'scolar', 'reputation', 'enterprise', 'suitability', 'attested', 'arousing', 'morton', 'overpriced', 'pope', 'reductions', 'sage', 'aspires', 'housefly', 'abouta', 'radio', 'musicals', 'diminish', 'fallable', 'peddle', 'whitehouse', 'availability', 'shalimar', 'blogline', 'bedpan', 'peasants', 'claude', 'delays', 'stanza', 'adophus', 'studiously', 'bequeathal', 'lodge', 'dullness', 'mixture', 'criticizes', 'garth', 'baffle', 'scripts', 'wedding', 'vecinity', 'botanical', 'avenues', 'premillenial', 'beads', 'overbearing', 'chesapeake', 'anxiously', 'licking', 'shots', 'automatic', 'ailments', 'sects', 'wiccans', 'reimer', 'presuming', 'swept', 'thwarting', 'liquor', 'proclaims', 'detection', 'rumpole', 'disturbing', 'depressive', 'limiting', 'nub', 'capacity', 'tensor', 'interviewing', 'inappopriate', 'mug', 'transgression', 'codeplex', 'mum', 'cajun', 'issuesin', 'jose', 'purity', 'deposed', 'nationally', 'sipper', 'newe', 'nightmares', 'southeast', 'rima', 'techies', 'vedas', 'goddess', 'ballantine', 'biologically', 'weisz', 'jelly', 'divorcing', 'strobel', 'surpringly', 'mildly', 'faces', 'hypocrites', 'indefinability', 'mauppassant', 'heirarchy', 'sullivan', 'reconstructs', 'betting', 'unicorns', 'epidemic', 'edain', 'tracts', 'smuggler', 'towels', 'straighforward', 'evidences', 'testable', 'hitler', 'hysterically', 'bingo', 'wright', 'ropes', 'roper', 'alchemy', 'alistair', 'beep', 'beer', 'photograply', 'miraculously', 'leloir', 'carrots', 'fleeting', 'republicans', 'darfur', 'generalizing', 'refutes', 'krauss', 'sallow', 'jazzed', 'definetly', 'abandonded', 'extruded', 'lessen', 'dept', 'leprosy', 'penultimate', 'misfourtune', 'disapointment', 'weezer', 'hollinghurst', 'natives', 'veronica', 'significations', 'provocative', 'mocked', 'shuffled', 'insensitive', 'engles', 'anthropologists', 'excelsior', 'thusly', 'shiloh', 'childhoods', 'niki', 'wound', 'ccny', 'emptying', 'forehead', 'utilitarian', 'drawback', 'unrecognized', 'esquire', 'conundrums', 'moneyball', 'ervin', 'accumalation', 'dershowitz', 'peaks', 'welsh', 'numerical', 'coevolution', 'purchace', 'portal', 'groundbreaking', 'verisimilar', 'insisted', 'narrow', 'charlie', 'vilified', 'berkeleydb', 'pathological', 'savings', 'hearty', 'greatest', 'incapable', 'jean', 'fuhrman', 'spencer', 'vesuvius', 'seasonal', 'shambala', 'unemployment', 'excel', 'laptop', 'reprized', 'imperialistic', 'spanner', 'grades', 'grader', 'campbell', 'scattering', 'progresses', 'marraige', 'ell', 'kell', 'cherry', 'elf', 'sprinkled', 'kelp', 'categorized', 'technological', 'pitiful', 'audiotape', 'interprets', 'actresses', 'metaphorical', 'bands', 'paine', 'gags', 'ta', 'descending', 'flatland', 'afore', 'gunned', 'silverman', 'sanitary', 'burns', 'burnt', 'detector', 'vetting', 'adoptded', 'beecher', 'intertwined', 'brutality', 'zeal', 'candidness', 'hunt', 'unsuspecting', 'zoos', 'foote', 'splendor', 'caitiff', 'evolutions', 'omelette', 'ennis', 'iroquois', 'overtone', 'heisenberg', 'intensions', 'schematics', 'envision', 'jennifer', 'donald', 'usher', 'displeasure', 'ninjas', 'peacemaker', 'advertise', 'contests', 'outgrew', 'perfected', 'doorstep', 'fantasti', 'extinction', 'proceeding', 'rhine', 'cambodia', 'rockhounding', 'prejudicial', 'majored', 'archer', 'intolerant', 'quited', 'christmas', 'espionage', 'overrated', 'idolizes', 'homing', 'beowulf', 'deleted', 'subculture', 'disappeared', 'discount', 'idolized', 'dissapointment', 'clarmore', 'landowners', 'plug', 'brien', 'limitation', 'parenting', 'attacks', 'plum', 'shards', 'surround', 'trustworthy', 'dinner', 'intellisphere', 'blabber', 'badgers', 'duke', 'primitive', 'counterbalance', 'puzzle', 'irrelavent', 'cauldron', 'entrepreneur', 'laborers', 'accomplishments', 'donated', 'coastal', 'abel', 'madamoselle', 'responsiblity', 'byatt', 'energry', 'unfocused', 'sunlight', 'earthwoman', 'virgin', 'tacks', 'purposely', 'simplistically', 'nathaniel', 'parasails', 'abysmal', 'unsatisying', 'heal', 'deny', 'heinous', 'buckingham', 'heat', 'schitzophrenia', 'uncle', 'solar', 'evolutionarily', 'scrambles', 'attesting', 'counsel', 'portions', 'compositional', 'pseud', 'ruined', 'unfulfilling', 'submitting', 'calvino', 'zodiac', 'autoconf', 'ayla', 'believably', 'telecomm', 'suspicions', 'everest', 'peres', 'simulations', 'exhorting', 'levity', 'liberalism', 'blatantly', 'radically', 'engines', 'epidemiological', 'landon', 'margarete', 'archetype', 'fitzgerald', 'piffle', 'ng', 'beater', 'tim', 'stagnant', 'mazel', 'tie', 'nr', 'nv', 'undeniably', 'eternity', 'superposition', 'preceding', 'fowler', 'perversity', 'dullest', 'cooper', 'scratchy', 'justhow', 'pedophilia', 'fertile', 'portends', 'apologizing', 'faster', 'sacks', 'vigorously', 'yacht', 'ryder', 'uncovered', 'longed', 'intimacy', 'backward', 'masterton', 'premeditated', 'companions', 'jolson', 'rob', 'alternatives', 'rythym', 'dumas', 'adjective', 'roz', 'rebbe', 'displaying', 'empathize', 'discern', 'inverse', 'essentials', 'underpins', 'bile', 'contemplating', 'doggerel', 'abhorrent', 'octavia', 'unapproachable', 'sugarcoats', 'thebook', 'dion', 'stove', 'imposture', 'sacralized', 'federation', 'exalted', 'interbred', 'affiliations', 'varous', 'emphasized', 'carting', 'heston', 'tilings', 'looney', 'ruthlessness', 'hawaii', 'culminating', 'repetative', 'denounces', 'yale', 'lever', 'yali', 'rehashed', 'pork', 'illustrating', 'pilfered', 'baku', 'pore', 'obsolete', 'widened', 'colin', 'dev', 'gpa', 'takeoff', 'trent', 'bake', 'port', 'drinks', 'boats', 'constitution', 'deluded', 'contracted', 'agnosticism', 'lt', 'theism', 'reply', 'ormsby', 'goez', 'litigation', 'angeline', 'hermetic', 'fluke', 'entertain', 'irritatingly', 'naylor', 'pilgrams', 'supercilious', 'bygone', 'tire', 'boast', 'pearls', 'dublin', 'marble', 'mauritius', 'pseudoscience', 'plagues', 'descended', 'exams', 'corp', 'outflank', 'doris', 'highjacked', 'ngo', 'mcguire', 'morals', 'neverwhere', 'subparts', 'tweak', 'lowery', 'chaired', 'parma', 'graduated', 'otherhand', 'scam', 'shelley', 'isles', 'ecclesiology', 'nanxy', 'concoct', 'dolphins', 'msw', 'anda', 'athens', 'memorial', 'msm', 'dreamers', 'reductive', 'prez', 'negroes', 'australian', 'smeared', 'survivalist', 'sessions', 'dislikes', 'swearing', 'cashier', 'progressivism', 'fuel', 'teaser', 'chaff', 'tomogana', 'optometrist', 'misreading', 'prophecy', 'rumpelstiltskin', 'crackers', 'maugham', 'sheds', 'edible', 'backdoors', 'wilso', 'posthumous', 'flagship', 'judy', 'marginalized', 'mortality', 'fauna', 'rufus', 'iconaclastic', 'trump', 'geeks', 'newsletters', 'overeating', 'choke', 'amalgams', 'lyrical', 'buring', 'performed', 'provoke', 'hydrogen', 'qualifiers', 'swedish', 'monthlong', 'passover', 'requirements', 'sidney', 'inheritance', 'afterlife', 'eloquent', 'innumerable', 'antoine', 'endorsement', 'eisenberg', 'begs', 'flavored', 'narrowly', 'revevered', 'cocktail', 'fascist', 'insecurities', 'rites', 'motorists', 'crashed', 'heartbreaking', 'outlandish', 'mgm', 'representations', 'pilate', 'avengers', 'trachtenberg', 'disheartening', 'commodity', 'legalese', 'propriety', 'glancing', 'gerard', 'invests', 'dormant', 'imagining', 'fallout', 'poverety', 'midnight', 'accolades', 'motions', 'westerners', 'skeleton', 'blocked', 'demeans', 'booooorrring', 'sames', 'pervade', 'coordinated', 'hanks', 'ahh', 'lonely', 'qualifies', 'sevareid', 'moms', 'obtaining', 'delighted', 'underneath', 'cowering', 'refrigerated', 'endeavored', 'balances', 'gushing', 'superlatives', 'inheriting', 'teri', 'sensibilities', 'debating', 'finely', 'tribune', 'eighties', 'cornerstones', 'individually', 'torch', 'aplenty', 'castlefairy', 'catching', 'skydives', 'skydiver', 'authenticity', 'tumultuous', 'suzanne', 'hysteria', 'exclamation', 'concur', 'sha', 'ejd', 'tensions', 'oklahoma', 'goodwin', 'factory', 'uncannily', 'infuriates', 'hacked', 'notre', 'bless', 'phobic', 'clover', 'bolts', 'glimps', 'hull', 'boobs', 'hulk', 'treatments', 'inconsequential', 'beleived', 'unfriendly', 'flyer', 'characteristically', 'telepathy', 'costas', 'limps', 'explorers', 'hucksterism', 'graceland', 'flare', 'bisexuality', 'hypnosis', 'butterflies', 'harlan', 'swing', 'infrastructural', 'truer', 'cubans', 'pelican', 'ballpoint', 'fetched', 'closers', 'revenue', 'incongruous', 'symbolic', 'transform', 'reductionism', 'simplified', 'generative', 'array', 'engineer', 'airbus', 'ian', 'humiliation', 'district', 'bioweapon', 'aromatherapy', 'chastity', 'legally', 'eighth', 'coulson', 'modernisation', 'giver', 'holden', 'holdem', 'prissy', 'cope', 'capitalists', 'huh', 'inexpressible', 'cheerleading', 'huu', 'lengthier', 'quirky', 'shirley', 'operates', 'holder', 'specify', 'milton', 'petrified', 'unalarming', 'nathan', 'deserter', 'diplomatic', 'reprercussions', 'accused', 'cooney', 'aesthetic', 'posit', 'marines', 'synthesis', 'usefulness', 'pre', 'twisting', 'rene', 'intolerance', 'confessed', 'compatibilism', 'prostitution', 'eats', 'ant', 'redford', 'mater', 'compatibilist', 'proclaimed', 'assessing', 'superman', 'mislead', 'phillipa', 'silhouette', 'chuckling', 'gustave', 'sciences', 'ideal', 'animation', 'nazareth', 'resembling', 'blunt', 'oppurtunity', 'commonplace', 'replicas', 'impulsively', 'indelible', 'usurped', 'bather', 'sightings', 'misgivings', 'melded', 'cleared', 'littering', 'probes', 'feinstein', 'discription', 'erbs', 'occurances', 'adopt', 'glutton', 'nightmare', 'masturbation', 'slope', 'greats', 'drastically', 'heap', 'allegations', 'percy', 'dandelions', 'kellerman', 'sustained', 'diverge', 'cockiness', 'unseelie', 'sparely', 'woop', 'adacritus', 'osso', 'venturist', 'wood', 'madeline', 'poppycock', 'ingesting', 'presbyterian', 'narrows', 'dekker', 'mormon', 'jazz', 'begging', 'admiration', 'nobs', 'downhome', 'nonfalsified', 'distortion', 'recertification', 'attentiveness', 'dramas', 'obliterate', 'tng', 'naked', 'clowns', 'tent', 'beethoven', 'encourages', 'violated', 'harpie', 'beasties', 'bargain', 'fuhnman', 'ignores', 'stanley', 'braden', 'trichinosis', 'professed', 'cadets', 'duggan', 'invoked', 'misinterpretations', 'voluntary', 'embolden', 'hammett', 'unabated', 'definite', 'commitments', 'belittled', 'redbook', 'grandoise', 'invokes', 'arrogant', 'nooks', 'reproducible', 'prentice', 'alphas', 'doughboys', 'arrival', 'dottie', 'odelia', 'linguistical', 'guitar', 'inseparably', 'fiddling', 'harshly', 'postage', 'latch', 'superstar', 'wanders', 'efficiency', 'gimmicks', 'quiet', 'contract', 'prompted', 'ethnocentric', 'yup', 'columnist', 'berry', 'deported', 'pakistan', 'cabal', 'scuba', 'continuation', 'novices', 'colony', 'insist', 'resentment', 'satisfaction', 'pol', 'medication', 'colon', 'polo', 'endeavor', 'poll', 'skeletons', 'impropriety', 'saunaor', 'persists', 'scandalous', 'escalated', 'subscriber', 'fury', 'eyewitnesses', 'cira', 'confessions', 'followup', 'wrp', 'tasteless', 'blessing', 'andrew', 'minister', 'eaters', 'implores', 'andrea', 'dribble', 'protocols', 'unfortuantly', 'reivews', 'vogon', 'koboi', 'embodying', 'cash', 'premature', 'intifada', 'prescriptive', 'expertise', 'mound', 'hunts', 'interconnected', 'hercule', 'unsatisfactory', 'punches', 'crusades', 'coupled', 'malenky', 'telephone', 'followings', 'cured', 'couplet', 'ironic', 'participant', 'granted', 'skips', 'mole', 'attributing', 'bermuda', 'macaroni', 'pignati', 'subtitled', 'isle', 'harriet', 'orthodoxies', 'freefell', 'disadvantages', 'nest', 'drives', 'weed', 'producers', 'persons', 'qurans', 'delicate', 'draaaag', 'vowed', 'mcnaught', 'longing', 'modes', 'minimize', 'sinned', 'delectable', 'magical', 'melodramatic', 'flakes', 'relief', 'components', 'relied', 'reward', 'sinner', 'sequenced', 'splices', 'plotline', 'tip', 'guided', 'brute', 'actress', 'violent', 'cease', 'behavioural', 'baldwin', 'zestiest', 'harrassing', 'wala', 'alphabetical', 'gentleness', 'hint', 'hewson', 'churns', 'blog', 'flashing', 'disrupt', 'dulls', 'feminism', 'ross', 'scheduled', 'lunches', 'rwandan', 'kills', 'shearer', 'loaned', 'confined', 'loaner', 'cherised', 'correcting', 'unnerving', 'packaging', 'jessel', 'cocooned', 'exquisitely', 'reduces', 'buddies', 'johann', 'hapless', 'snort', 'recalls', 'substandard', 'pseudonym', 'prophylactics', 'shunned', 'deduct', 'grimms', 'veracity', 'curran', 'shortcoming', 'primativechemical', 'endnotes', 'kings', 'sociologists', 'tennessee', 'pinkerton', 'onesource', 'slice', 'prolific', 'frees', 'classmates', 'gigantic', 'nutty', 'colonization', 'buddha', 'moot', 'provider', 'snakeoil', 'compulsion', 'quitting', 'porter', 'freed', 'pill', 'amalakites', 'metropolis', 'cringing', 'nudist', 'royals', 'polite', 'voracious', 'pastors', 'accompany', 'sterotypical', 'beaches', 'dicey', 'oo', 'baffled', 'helmsley', 'assiduous', 'jeep', 'denigrates', 'reinforcing', 'disorganized', 'hafiz', 'waded', 'gregory', 'lantern', 'os', 'op', 'eroticisim', 'tribe', 'ladies', 'interfacing', 'endnote', 'instruments', 'gard', 'garner', 'rues', 'cent', 'foght', 'empathetic', 'buds', 'laypeople', 'mandalay', 'classess', 'whales', 'distinctions', 'hoarding', 'equates', 'edges', 'strict', 'warnaco', 'cataloguer', 'dislocated', 'alleges', 'valley', 'bluestein', 'birdfolk', 'catholics', 'atkin', 'mischief', 'vested', 'shamelessly', 'smolin', 'jun', 'stalag', 'illuminates', 'fanatical', 'promote', 'pygmies', 'proably', 'rowling', 'wholesale', 'artisans', 'extermination', 'nightlife', 'sleazy', 'creeping', 'minded', 'hernandez', 'eius', 'situationist', 'alcholism', 'minneapolis', 'hubbert', 'mormons', 'intro', 'studding', 'mapmaking', 'prejudicies', 'blues', 'incorrect', 'onerous', 'fiddler', 'bicycling', 'biochemistry', 'discerned', 'pappe', 'swords', 'rubber', 'painted', 'haneberg', 'eschews', 'starkly', 'residence', 'dismayed', 'requested', 'championship', 'winking', 'oneself', 'collaborative', 'embattled', 'symbol', 'whiskers', 'hawthorne', 'hardware', 'bounded', 'recognise', 'podge', 'unanswerable', 'schiff', 'thematic', 'assassins', 'streisand', 'paintor', 'websites', 'disagreeing', 'exhausting', 'pitchman', 'treason', 'numbing', 'undead', 'transports', 'namesakes', 'talentless', 'minuteseven', 'descartes', 'phlox', 'wreath', 'spacecraft', 'coach', 'generalize', 'barons', 'sensei', 'dish', 'disk', 'jerome', 'hmmm', 'insensate', 'homage', 'rastenburg', 'diluting', 'aaron', 'wodehouse', 'piqued', 'esther', 'unsatisfying', 'acrylics', 'ticked', 'induce', 'simpsons', 'soley', 'psychologist', 'phoniness', 'ticket', 'soles', 'learners', 'fad', 'fae', 'yu', 'sentimental', 'stimulus', 'prolonged', 'lesbians', 'mellick', 'lisa', 'fitxgerald', 'irelan', 'flick', 'employing', 'rats', 'ted', 'tex', 'farrars', 'functioning', 'aptly', 'abridgement', 'babylonia', 'imported', 'laughably', 'cheesey', 'crust', 'musty', 'sui', 'absolutes', 'suv', 'importer', 'pulpit', 'kindof', 'travesty', 'differnce', 'multitude', 'womb', 'agaaiin', 'condensed', 'sparked', 'overstatement', 'theresa', 'overactive', 'retraining', 'themself', 'compressed', 'berkeley', 'epitome', 'observing', 'tragedy', 'punchline', 'unspil', 'increments', 'naval', 'identifiable', 'deconstructionists', 'deities', 'kettlebell', 'algernon', 'pontito', 'supplements', 'bodes', 'believ', 'damned', 'solitude', 'maby', 'commandments', 'screens', 'mme', 'enlivened', 'appliances', 'reparations', 'inorganic', 'harlequin', 'faint', 'forcefully', 'rustic', 'watchmen', 'layers', 'squishes', 'hurrah', 'horses', 'wretched', 'newlyweds', 'twelwe', 'bumped', 'immersion', 'deconstructionism', 'sorcery', 'flag', 'misogyny', 'stethoscope', 'glam', 'waxes', 'reedited', 'salvador', 'mccarry', 'debated', 'v', 'evangelicals', 'carers', 'rosenfeld', 'pony', 'emancipating', 'cosmological', 'prompting', 'pont', 'monarchs', 'maladaptive', 'methodist', 'renata', 'redecoration', 'jot', 'imitation', 'libertarian', 'offspring', 'chores', 'cleansing', 'satanism', 'jailers', 'stemming', 'quebecois', 'headstrong', 'hoaxes', 'acknowledging', 'sandwich', 'abdicate', 'algebra', 'emulate', 'weaknesses', 'singularities', 'fungus', 'catalog', 'lighting', 'existential', 'prospecting', 'rhees', 'beevor', 'cults', 'grands', 'rationalize', 'tsai', 'prefers', 'encases', 'supervision', 'shore', 'extrapolation', 'dworkin', 'maneuver', 'botany', 'closeness', 'fortney', 'logan', 'bigoted', 'darlington', 'milwaukee', 'avenue', 'inquiries', 'developer', 'disagreed', 'slipped', 'glide', 'mathison', 'misspelled', 'buddhism', 'abbey', 'ricardo', 'harmless', 'disagrees', 'argentina', 'thereafter', 'attenion', 'vinges', 'sucking', 'eulogy', 'speechless', 'generis', 'belittle', 'accumulate', 'hunted', 'abacus', 'cornwell', 'impressive', 'subtley', 'woolworth', 'fiascos', 'mathematician', 'nephews', 'exploitation', 'privileged', 'tactless', 'mastered', 'notated', 'inherent', 'peoplethe', 'fixture', 'parthenon', 'autobiographical', 'cloudy', 'loops', 'inflated', 'theologians', 'incan', 'cadavers', 'alcohol', 'wondered', 'discrete', 'horrifying', 'accourding', 'adhere', 'lucifer', 'gelbspan', 'paradise', 'dumasauthor', 'nukuheva', 'unacquainted', 'soulless', 'fiber', 'alleviating', 'friday', 'lahaye', 'unexplained', 'enveloping', 'reguarding', 'disinfect', 'peaceable', 'alzheimer', 'randall', 'difficut', 'discriminating', 'cremated', 'seahorse', 'meade', 'hardback', 'cremates', 'threat', 'itaway', 'consequence', 'throws', 'harpers', 'feed', 'dine', 'unhealthy', 'feet', 'defects', 'colombia', 'pablo', 'slower', 'verifiable', 'corporal', 'breathless', 'scathing', 'utilization', 'gourmet', 'financed', 'regulation', 'rails', 'toil', 'doomsday', 'prescient', 'verdun', 'quippy', 'photographing', 'recovered', 'headache', 'attendants', 'imperfect', 'boilerplate', 'rift', 'relieved', 'exploded', 'convinces', 'corporations', 'retires', 'macbride', 'csorba', 'megalomania', 'lela', 'dennetts', 'ransforms', 'explodes', 'roommates', 'houghton', 'sinless', 'double', 'instruction', 'slowed', 'dispensed', 'harping', 'architect', 'outdoors', 'dispenser', 'stale', 'storytelling', 'strengthen', 'shrewd', 'decadent', 'spriggs', 'muscles', 'engulf', 'cognizant', 'cleaned', 'pritchett', 'dislodging', 'rife', 'hopelessly', 'rochester', 'monotononous', 'gutwrenching', 'nicholaou', 'entirety', 'chairman', 'genetically', 'donor', 'irritated', 'judas', 'unremarkable', 'pencils', 'electric', 'exec', 'customize', 'goldman', 'hoff', 'fresco', 'react', 'undertaken', 'defensible', 'prestige', 'namechecks', 'feudalism', 'mineral', 'gushy', 'assembles', 'hardscrabble', 'gramm', 'institutions', 'andthe', 'vaunted', 'expedients', 'barter', 'journeys', 'pennies', 'grandmas', 'presbyterians', 'prodigious', 'carrie', 'tilly', 'causality', 'anvil', 'grotesque', 'fliegel', 'airtime', 'formulation', 'stimpy', 'feminists', 'moses', 'hip', 'shepherd', 'counterpoint', 'triangle', 'cameo', 'aficionado', 'compiled', 'mclaughlin', 'orwell', 'flacking', 'hid', 'tcp', 'aminal', 'relational', 'proust', 'exclusivism', 'compiles', 'unintuitive', 'adulthood', 'dormer', 'socialogical', 'batteries', 'carlotta', 'homeworld', 'antihero', 'distant', 'vincent', 'cringe', 'relentless', 'bars', 'barr', 'bart', 'dump', 'achieved', 'declines', 'carpool', 'deming', 'sociably', 'achieves', 'arc', 'injecting', 'bard', 'ari', 'recommed', 'arm', 'nap', 'annihilation', 'visualize', 'learnt', 'forlorn', 'channeled', 'freshmen', 'ups', 'degrading', 'salvadorans', 'blurb', 'solo', 'korea', 'misstep', 'franchises', 'pullups', 'denomination', 'conde', 'fgm', 'succeed', 'importers', 'opposition', 'betrayed', 'intire', 'viennese', 'prescription', 'hesitant', 'oversee', 'bryne', 'riddled', 'reside', 'flies', 'flier', 'distress', 'duplicity', 'dispensationalist', 'improper', 'storybook', 'peron', 'weasel', 'sparthens', 'pr', 'dui', 'caspar', 'java', 'dun', 'duo', 'verisimilitude', 'overlook', 'pb', 'pc', 'reduction', 'pa', 'pf', 'ocean', 'armory', 'nato', 'sws', 'pi', 'whoa', 'pm', 'affectionate', 'dorchester', 'transferring', 'precision', 'schwab', 'vaguely', 'overtures', 'postmodernism', 'temperament', 'standout', 'instructor', 'pitchford', 'tongueby', 'georgia', 'conception', 'ahab', 'frozen', 'accomodate', 'impatiently', 'schore', 'unhesitating', 'mythologies', 'fulghum', 'adolescent', 'tweaking', 'homework', 'uncritical', 'evaluates', 'mordant', 'fernandez', 'incognito', 'salonfhig', 'concurrently', 'unitary', 'credence', 'enriching', 'antithesis', 'demon', 'rip', 'ecstasy', 'whitnessed', 'obstacle', 'alliances', 'ric', 'currents', 'captivating', 'whitehead', 'voyaging', 'twofold', 'kempis', 'eames', 'merrill', 'ideologies', 'wierd', 'widely', 'esteemed', 'zeniths', 'advise', 'sacrifcing', 'prerequisite', 'cinnamon', 'arrives', 'biochemist', 'restraint', 'holidays', 'brooding', 'flown', 'contractors', 'robust', 'bourgeois', 'fats', 'solemnity', 'responcible', 'cheek', 'spindles', 'magnified', 'destabilizing', 'solids', 'temperature', 'starved', 'extorted', 'darer', 'aways', 'grievance', 'roumanian', 'unseen', 'inexchange', 'altruistic', 'reccomand', 'repealing', 'intervals', 'comprehensively', 'objectivists', 'inference', 'poller', 'dratted', 'profitable', 'compassionless', 'tablet', 'observant', 'corroborates', 'thrillingly', 'inducing', 'tormented', 'euler', 'expletive', 'amended', 'attila', 'preps', 'dvds', 'praxis', 'condemnation', 'garriott', 'bohjalian', 'manatee', 'entangled', 'integer', 'sharpened', 'raving', 'mariah', 'marian', 'shaped', 'systematically', 'confront', 'nasser', 'commanders', 'haveabout', 'hypostatization', 'instructionals', 'distrust', 'blowhard', 'unstable', 'yorker', 'exploiting', 'breeder', 'sprinklers', 'folders', 'hallmark', 'ecology', 'certainties', 'cloutier', 'denigration', 'trumping', 'stewarts', 'clown', 'wonderland', 'boogers', 'saucer', 'paragraphing', 'gradually', 'retry', 'cutlet', 'nosing', 'pros', 'zealous', 'seller', 'lorraine', 'rituals', 'peephole', 'prof', 'strife', 'stargazers', 'anna', 'jumpy', 'misreadings', 'jumps', 'sartre', 'weir', 'refused', 'zombie', 'weil', 'informatics', 'schumann', 'telegraphed', 'hogwash', 'cautious', 'mingled', 'volunteering', 'violins', 'completing', 'plaza', 'repulsion', 'purists', 'fluttering', 'gamma', 'complementing', 'undoing', 'unnoticed', 'stitched', 'josaphat', 'johns', 'isomorphic', 'kiyosaki', 'resilience', 'stitches', 'tenth', 'forceful', 'rikin', 'unwraveling', 'column', 'amidst', 'rowe', 'impresses', 'oddities', 'analyze', 'authored', 'vienna', 'files', 'mundane', 'wnd', 'branching', 'kemal', 'cloth', 'reassurance', 'wnt', 'filed', 'junior', 'raising', 'usury', 'motive', 'patriot', 'gallantry', 'consist', 'apricot', 'caller', 'capitalized', 'barring', 'grabbed', 'z', 'landscapes', 'individuality', 'fiscally', 'bookfor', 'steeped', 'marcuse', 'malthus', 'rediculous', 'quantification', 'rally', 'graham', 'actionable', 'passable', 'evils', 'overseeing', 'danny', 'scrutinizes', 'democratically', 'swath', 'gre', 'polishers', 'shallower', 'abducted', 'artistic', 'dictating', 'muddled', 'ecosystem', 'users', 'imposible', 'replace', 'develops', 'flirtation', 'posters', 'grimassi', 'kenan', 'pottery', 'albion', 'vice', 'potters', 'togther', 'attacking', 'ignoramuses', 'reproaches', 'nasa', 'attaining', 'karma', 'hanukkahs', 'intentional', 'leah', 'weighty', 'gospels', 'inflates', 'wrestle', 'gant', 'issued', 'heilman', 'gang', 'discordant', 'adjustment', 'copernicus', 'gokey', 'lecturer', 'disturbances', 'fortresses', 'languages', 'shamefull', 'zelinsky', 'visualizing', 'ridiculousness', 'waiters', 'seized', 'materialist', 'speakeasies', 'hamish', 'guise', 'engineered', 'hugging', 'bernoullis', 'slogan', 'conlcusion', 'roaches', 'bryant', 'duffy', 'attuned', 'mustangset', 'routinely', 'kaddish', 'gullible', 'tenderness', 'irrelevance', 'melodies', 'pratchett', 'settlers', 'assemblage', 'disclaimer', 'goodies', 'wrestling', 'sensation', 'modified', 'theocracy', 'fold', 'wedgwood', 'unattractive', 'manipulating', 'folk', 'agruments', 'pseudorationally', 'theodore', 'unavailable', 'concessions', 'tuesdays', 'interconnectedness', 'wanker', 'itiots', 'relent', 'concisely', 'delinsky', 'attire', 'charismatics', 'unruly', 'chose', 'hdmi', 'donnelly', 'bulimia', 'categorically', 'phantoms', 'separation', 'vegetarianism', 'sexy', 'cyclist', 'arkangel', 'metro', 'trivialize', 'adjusts', 'inking', 'karloff', 'trollope', 'parroting', 'pretentiousness', 'helpers', 'unconditional', 'definitively', 'armpit', 'cesium', 'spices', 'snobby', 'relation', 'payoffs', 'clearcut', 'apple', 'deputy', 'egypt', 'app', 'confession', 'apt', 'api', 'arund', 'motor', 'duck', 'passionatly', 'monicagate', 'photojournalism', 'rationales', 'hippie', 'usa', 'wanzer', 'manifested', 'frog', 'devotional', 'procrastinate', 'depicted', 'weeping', 'attribute', 'timetable', 'kusher', 'sceptics', 'sanitize', 'moldability', 'journalists', 'sorr', 'humanly', 'writen', 'cooperate', 'rabbis', 'industrializing', 'rabbit', 'recount', 'brochure', 'theodor', 'verity', 'passchendaele', 'illumnati', 'strategically', 'albom', 'dusted', 'napkins', 'executor', 'gabby', 'purports', 'nondecoupled', 'spilled', 'industrially', 'hakeem', 'agribusiness', 'proprietary', 'thirsty', 'spying', 'flaring', 'rapp', 'dripping', 'satipatthana', 'crick', 'tad', 'assumptions', 'tab', 'plumptre', 'tao', 'onions', 'scrounging', 'rape', 'tak', 'counting', 'cardio', 'justifiable', 'hadley', 'moods', 'sic', 'unquestionably', 'camilla', 'dismissing', 'cholera', 'mccoy', 'panic', 'unrewarding', 'typewriter', 'exemplify', 'msdn', 'theculture', 'attend', 'bestsellers', 'hazara', 'unforgivable', 'masks', 'disproved', 'toddlers', 'agglomerations', 'disproven', 'gargoyles', 'sculptures', 'sillier', 'eloquently', 'interrupted', 'dispositions', 'referenda', 'mcgill', 'naivete', 'necklace', 'diffiulties', 'wonka', 'spreads', 'beauties', 'preducices', 'damsel', 'outset', 'interpreted', 'joanne', 'mathematicians', 'waterworld', 'tyrant', 'interpreter', 'badger', 'monarchist', 'linguistics', 'philippa', 'longitudinal', 'carols', 'ships', 'nostalgic', 'primordial', 'restrain', 'caroll', 'unfurtunate', 'holiday', 'sweden', 'pending', 'bumbling', 'contention', 'bolitar', 'richness', 'trenchant', 'flour', 'mcmurtry', 'adversely', 'impressing', 'heuristicsfor', 'ferguson', 'ambition', 'impaired', 'flee', 'allowable', 'successor', 'clippings', 'cowboy', 'darcy', 'cygnus', 'nfl', 'feast', 'conservatism', 'trap', 'dogmatic', 'bills', 'tray', 'grabbing', 'bentley', 'epigrammatic', 'tepid', 'lifspan', 'outdate', 'increases', 'firepower', 'ambassadors', 'multyplayer', 'irrational', 'category', 'respects', 'crashes', 'sentiment', 'frontier', 'cerebral', 'vehement', 'gossamer', 'transcript', 'accompleshments', 'impart', 'disapointed', 'utility', 'frankness', 'alter', 'rewrote', 'zoological', 'lutheranism', 'hucksters', 'maintains', 'promptly', 'disbelievers', 'conflicts', 'anyhow', 'yore', 'maintaing', 'g', 'informs', 'eknath', 'substantiate', 'artifacts', 'birthday', 'lande', 'interespersed', 'biting', 'locating', 'rudolf', 'wriston', 'postindustrialism', 'bulky', 'obscurity', 'plainly', 'dynatext', 'intuitively', 'proposing', 'steamy', 'effervescent', 'enormity', 'ridiculuos', 'nihongo', 'destinations', 'continental', 'righ', 'publicly', 'accent', 'wollow', 'renovation', 'retreats', 'potty', 'triumvirate', 'stephan', 'misinformed', 'misunderstood', 'tidbit', 'academy', 'reversed', 'transistor', 'regards', 'simulate', 'multitudes', 'deniro', 'july', 'goblin', 'astounded', 'reverses', 'rping', 'isolation', 'chiropractic', 'measured', 'scarpetta', 'enought', 'probe', 'historicity', 'dynamo', 'tommo', 'meritocratic', 'beter', 'futures', 'coalesced', 'ringer', 'teenagers', 'unelected', 'duping', 'venona', 'reissuing', 'sunset', 'mildest', 'forthcoming', 'angle', 'rearranged', 'russians', 'florid', 'agency', 'zhukov', 'dilemmas', 'zacarro', 'alienating', 'divert', 'martha', 'hazardous', 'stereography', 'gming', 'collaboration', 'hamas', 'ht', 'cracking', 'moveable', 'alarmed', 'prophecies', 'discourage', 'expert', 'neoconservative', 'saddest', 'brushed', 'burney', 'dent', 'spatial', 'guinea', 'goals', 'fictions', 'wiccan', 'sceptical', 'pleases', 'gail', 'hardcover', 'nies', 'kheel', 'democrats', 'darkest', 'feat', 'chanced', 'intuited', 'sonderweg', 'durant', 'holistic', 'naturalistic', 'densely', 'clutching', 'exacerbating', 'operational', 'tribulation', 'newsprint', 'allopathic', 'herald', 'piano', 'plazas', 'spun', 'favilla', 'religous', 'cuba', 'murderng', 'unchained', 'peacemakers', 'nutrional', 'vim', 'burglars', 'malaise', 'arrangement', 'checkpoints', 'penetrate', 'wordy', 'ghetto', 'funtions', 'donate', 'stitching', 'airman', 'descendant', 'instructive', 'hiaasenthis', 'qa', 'optimally', 'ripley', 'qi', 'tablets', 'laughs', 'viet', 'econometric', 'deceived', 'shedding', 'inventive', 'ebb', 'acquired', 'suze', 'turbulent', 'module', 'hosting', 'declamations', 'vindicated', 'merits', 'paulson', 'unfairly', 'violet', 'artifactual', 'sparsely', 'pragmatic', 'vocation', 'shatilla', 'closet', 'zuckermann', 'monstrous', 'meatballs', 'multifaceted', 'coupleship', 'premises', 'identification', 'fifties', 'wetting', 'rendition', 'interfaces', 'oldsters', 'publishers', 'brewing', 'andromeda', 'alphabetically', 'opening', 'agencies', 'embarrassment', 'hypothesis', 'spoil', 'gullibility', 'joh', 'dependance', 'avon', 'declining', 'barrett', 'dramatization', 'epidemics', 'invictus', 'voltaire', 'pimsleur', 'grouse', 'tactical', 'bronx', 'canopy', 'safely', 'grounds', 'chutes', 'kidnapped', 'segregate', 'pepsi', 'gunstories', 'antioxidant', 'naslund', 'environments', 'walt', 'lyricism', 'sequences', 'withdrawl', 'provinces', 'bonhoeffer', 'buffs', 'trademark', 'immortality', 'validating', 'unspoken', 'agreements', 'inadequate', 'bbw', 'bewildering', 'bbq', 'remedies', 'colloquialisms', 'atlases', 'tyrannical', 'puberty', 'playstation', 'sufficient', 'jaded', 'fleurberg', 'saner', 'ensuring', 'desperados', 'uncanny', 'unmoved', 'overturn', 'reaches', 'painter', 'interstices', 'overuse', 'portrayal', 'misandrist', 'hovering', 'vimes', 'medicinal', 'wireless', 'primacy', 'rename', 'offending', 'ringing', 'accompained', 'encouragement', 'atkinsons', 'texbook', 'nessecary', 'crystals', 'wonderthere', 'ivanhoe', 'hocus', 'jmaes', 'vintage', 'privileges', 'maddening', 'adverse', 'retailing', 'celice', 'merciful', 'geographical', 'sybill', 'panning', 'ripped', 'disciple', 'grandeur', 'residing', 'spirited', 'problemseasy', 'sargeant', 'takeoffs', 'diploma', 'coaches', 'subtexts', 'solon', 'whale', 'conceptualizations', 'conceives', 'celtic', 'gutter', 'undertakes', 'valerie', 'dechyper', 'timbre', 'enamored', 'teachiing', 'staking', 'theses', 'firstly', 'hale', 'contenders', 'bending', 'gardnerian', 'prcis', 'marijuana', 'cristo', 'obtain', 'bendini', 'parabolas', 'cheer', 'tcl', 'zealotous', 'miniscule', 'biologist', 'untested', 'antisemitism', 'nov', 'happiness', 'danced', 'temerity', 'doorbell', 'googling', 'clyde', 'disengorging', 'crannies', 'sparking', 'jars', 'ski', 'enact', 'commitmentphobes', 'saturation', 'branch', 'provisions', 'republics', 'frighteningly', 'presume', 'redesign', 'hollow', 'humvee', 'bartelby', 'villian', 'feral', 'safest', 'ccna', 'clumsier', 'loser', 'paleolithic', 'lawson', 'dancer', 'hosts', 'borsyenko', 'conversely', 'exceed', 'preamp', 'qed', 'hobday', 'scared', 'reclamation', 'interleague', 'socialists', 'demeanor', 'growth', 'export', 'asserted', 'neglecting', 'misadventures', 'gabler', 'transmutations', 'promotion', 'breakthroughs', 'mines', 'philosopher', 'mistery', 'leap', 'campfire', 'bosses', 'csas', 'patiently', 'subsequently', 'pejoratively', 'poets', 'obey', 'tenure', 'acronym', 'epidemiology', 'countermanded', 'conveyed', 'fluorescent', 'tempered', 'propensity', 'paste', 'extension', 'saddle', 'hookup', 'abstinence', 'blaisdell', 'tiling', 'varities', 'surge', 'dependency', 'carries', 'carrier', 'sweat', 'biodiesel', 'wildy', 'unlikable', 'bugle', 'polished', 'unsustainable', 'wilderness', 'travelers', 'basilisks', 'loner', 'brush', 'registration', 'zoology', 'yankee', 'maize', 'fawning', 'platoon', 'geoffrey', 'egalitarian', 'transfer', 'spiral', 'trenches', 'smoothing', 'rockstars', 'intention', 'cairo', 'powdered', 'upwards', 'promonent', 'concision', 'omniscient', 'contradictory', 'automated', 'volumn', 'exual', 'flesichman', 'arnt', 'relents', 'appleyard', 'latitudinal', 'distract', 'staub', 'bce', 'farewell', 'chalks', 'stirring', 'unfolding', 'cmon', 'horrific', 'resting', 'essenes', 'buffy', 'carbohydrate', 'bookstores', 'domesticated', 'ortega', 'tourette', 'glint', 'veeeery', 'oprah', 'illinois', 'steering', 'mccourt', 'bool', 'methodists', 'honorary', 'contacting', 'boog', 'lance', 'illegally', 'dependence', 'celery', 'shredded', 'mulch', 'inherently', 'frustrate', 'margaret', 'kinda', 'sandler', 'frederica', 'gap', 'cliff', 'alienated', 'scientic', 'emery', 'coincidentally', 'schmuckiness', 'volumes', 'richardson', 'consiousness', 'untalented'])\n"
     ]
    }
   ],
   "source": [
    "# You will have to implement this function\n",
    "reload(gtnlplib.preproc_metrics)\n",
    "\n",
    "print 'unseen', gtnlplib.preproc_metrics.unseen_types (ac_train, ac_dev)"
   ]
  },
  {
   "cell_type": "markdown",
   "metadata": {},
   "source": [
    "# 2. Basic classification #\n",
    "(_Completing predict() - 3 pts_)\n",
    "\n",
    "To get started, we build a simple classifier, which labels all instances as positive. \n",
    "This is the \"most common class\" (MCC) baseline. \n",
    "Take a look at the implementation to see how the weights are stored and set. "
   ]
  },
  {
   "cell_type": "code",
   "execution_count": 112,
   "metadata": {
    "collapsed": false
   },
   "outputs": [
    {
     "name": "stdout",
     "output_type": "stream",
     "text": [
      "defaultdict(<type 'int'>, {('NEU', '**OFFSET**'): 0, ('POS', '**OFFSET**'): 1, ('NEG', '**OFFSET**'): 0})\n"
     ]
    }
   ],
   "source": [
    "weights_mcc = gtnlplib.wordlist.learnMCCWeights ()\n",
    "print weights_mcc"
   ]
  },
  {
   "cell_type": "markdown",
   "metadata": {},
   "source": [
    "To use these weights in a classifier, you need to complete ```gtnlplib.clf_base.predict```, which represents the inner-product computation ${\\theta}' \\textbf{f}(\\textbf{x},y)$.\n",
    "It should have the following characteristics:\n",
    "\n",
    "- **Input 1** an instance, represented as a dict (with features as keys and counts as values) \n",
    "- **Input 2** a dictionary of weights, where keys are tuples of features and labels, and weights are the values. This corresponds to ${\\theta}$ in the reading. See example below.\n",
    "- **Input 3** a list of possible candidate class labels\n",
    "- **Output 1** the highest-scoring label\n",
    "- **Output 2** a dict with labels as keys and scores as values\n",
    "\n",
    "Then you can call ```gtnlplib.clf_base.evalclassifier``` to compute accuracy. The relevant tests are testwlc.py."
   ]
  },
  {
   "cell_type": "code",
   "execution_count": 153,
   "metadata": {
    "collapsed": false
   },
   "outputs": [
    {
     "name": "stdout",
     "output_type": "stream",
     "text": [
      "3 classes in key: set(['NEG', 'NEU', 'POS'])\n",
      "1 classes in response: set(['POS'])\n",
      "confusion matrix\n",
      "key\\response:\tPOS\n",
      "NEG\t\t111\t\n",
      "NEU\t\t135\t\n",
      "POS\t\t148\t\n",
      "----------------\n",
      "accuracy: 0.3756 = 148/394\n",
      "\n",
      "None\n"
     ]
    }
   ],
   "source": [
    "reload(gtnlplib.clf_base)\n",
    "\n",
    "outfile = 'all_pos.txt'\n",
    "mat = gtnlplib.clf_base.evalClassifier(weights_mcc,outfile, gtnlplib.constants.DEVKEY)\n",
    "print gtnlplib.scorer.printScoreMessage(mat)"
   ]
  },
  {
   "cell_type": "markdown",
   "metadata": {},
   "source": [
    "**Sanity check**: You should get 37.56% accuracy just by classifying everything as positive. \n",
    "\n",
    "- The printed output is a **confusion matrix**. \n",
    "- The rows indicate the key and the columns indicate the response. \n",
    "- In this case, the response is always \"POS\", so there is only one column. \n",
    "- The cell NEG/POS tells you how often an example that was labeled \"NEG\" in the key was labeled \"POS\" in the system response."
   ]
  },
  {
   "cell_type": "markdown",
   "metadata": {},
   "source": [
    "# 3. Word list classification #\n",
    "(_setting weights - 2 pts, Deliverable 3 - 1 pt. Total 3 pts_)"
   ]
  },
  {
   "cell_type": "markdown",
   "metadata": {},
   "source": [
    "- We will now build a sentiment analysis system based on word lists. \n",
    "- The file \"data/sentiment-vocab.tff\" contains a sentiment lexicon from [ Wilson et al 2005](http://people.cs.pitt.edu/~wiebe/pubs/papers/emnlp05polarity.pdf). \n",
    "- The provided function ```gtnlplib.wordlist.loadSentimentWords``` reads the lexicon into memory, building sets of positive and negative words."
   ]
  },
  {
   "cell_type": "code",
   "execution_count": 155,
   "metadata": {
    "collapsed": true
   },
   "outputs": [],
   "source": [
    "poswords, negwords = gtnlplib.wordlist.loadSentimentWords (gtnlplib.constants.SENTIMENT_FILE)"
   ]
  },
  {
   "cell_type": "markdown",
   "metadata": {},
   "source": [
    "Now write a classifier that classifies each instance in a testfile. The classification rule is:\n",
    "\n",
    "- 'POS' if the instance has more words from the positive list than the negative list\n",
    "- 'NEG' if the instance has more words from the negative list than the positive list\n",
    "- 'NEU' (neutral) if the instance has the same number of words from each list"
   ]
  },
  {
   "cell_type": "markdown",
   "metadata": {},
   "source": [
    "**Deliverable 3**: run your classifier on dev.key, and use the following code to print the resulting confusion matrix. For this you will have to implement ```gtnlplib.wlclf.learnWLCWeights``` function based on the instructions given earlier in the section.\n",
    "\n",
    "The confusion matrix should now have three columns, since the response should include every class at least once. The count of correct responses is found on the diagonal of the confusion matrix. What is the most frequent type of error?"
   ]
  },
  {
   "cell_type": "code",
   "execution_count": 226,
   "metadata": {
    "collapsed": false
   },
   "outputs": [
    {
     "name": "stdout",
     "output_type": "stream",
     "text": [
      "3 classes in key: set(['NEG', 'NEU', 'POS'])\n",
      "2 classes in response: set(['NEG', 'POS'])\n",
      "confusion matrix\n",
      "key\\response:\tNEG\tPOS\n",
      "NEG\t\t49\t62\t\n",
      "NEU\t\t36\t99\t\n",
      "POS\t\t22\t126\t\n",
      "----------------\n",
      "accuracy: 0.4442 = 175/394\n",
      "\n",
      "None\n"
     ]
    }
   ],
   "source": [
    "reload(gtnlplib.wordlist)\n",
    "weights_wlc = gtnlplib.wordlist.learnWLCWeights (poswords, negwords)\n",
    "outfile = 'word_list.txt'\n",
    "mat = gtnlplib.clf_base.evalClassifier(weights_wlc,outfile, gtnlplib.constants.DEVKEY)\n",
    "print gtnlplib.scorer.printScoreMessage(mat)"
   ]
  },
  {
   "cell_type": "markdown",
   "metadata": {},
   "source": [
    "# 4. Naive Bayes #\n",
    "(_Completing learnNBWeights() - 5 pts, Deliverable 4a - 1pt, 4b - 1 pt, explanation of plot output - 2pts. Total 8 points_)\n",
    "\n",
    "Now you will implement a Naive Bayes classifier.\n",
    "\n",
    "You already have the code for the decision function, \"predict\". \n",
    "So you just need to construct a set of weights that correspond to the classifier. \n",
    "These weights will contain two parameters:\n",
    "\n",
    "- $\\log \\mu$ for the offset, which parametrizes the prior $\\log P(y)$\n",
    "- $\\log \\phi$ for the word counts, which parametrizes the likelihood $\\log P(x | y)$\n",
    "\n",
    "You should use maximum *a posteriori* estimation of\n",
    "the parameter $\\phi$,\n",
    "$$\\phi_{j,n} = P(w = n | y = j) = \\frac{\\sum_{i: y_i = j} x_{i,n} + \\alpha}{\\sum_{i:y_i=j} \\sum_{n'} x_{i,n'} + V\\alpha}$$\n",
    "where \n",
    "\n",
    "- $y_i = j$ indicates the class label $j$ for instance $i$\n",
    "- $w=n$ indicates word $n$\n",
    "- $\\alpha$ is the smoothing parameter\n",
    "- $V$ is the total number of words\n",
    "\n",
    "For each class, normalize by the sum of counts of words **in that class**. In other words, $\\sum_n \\phi_{j,n} = 1$ for all $j$. You can estimate $\\log \\phi$ directly if you prefer.\n",
    "\n",
    "For the prior $\\log P(y)$, you can use relative frequency estimation.\n",
    "\n",
    "Both probabilities should be estimated from the training data only.\n",
    "Please write this code yourself -- do not use other libraries, and try to do\n",
    "it without looking at other code online."
   ]
  },
  {
   "cell_type": "markdown",
   "metadata": {},
   "source": [
    "First call ```gtnlplib.preproc.getCountsAndKeys```, which returns the following objects:\n",
    "\n",
    "- word counts for every label in the training data.\n",
    "- the count of instances with every label in the training data.\n",
    "- a list of all word types that are observed in the training data\n",
    "\n",
    "You want to do this once, because computing these counts is slow."
   ]
  },
  {
   "cell_type": "code",
   "execution_count": 7,
   "metadata": {
    "collapsed": false
   },
   "outputs": [],
   "source": [
    "counts, class_counts,allkeys = gtnlplib.preproc.getCountsAndKeys(gtnlplib.constants.TRAINKEY)"
   ]
  },
  {
   "cell_type": "markdown",
   "metadata": {},
   "source": [
    "You will first have to implement ```gtnlplib.naivebayes.learnNBWeights```, and then run it to get the weights of the naive bayes classifier."
   ]
  },
  {
   "cell_type": "code",
   "execution_count": 8,
   "metadata": {
    "collapsed": false
   },
   "outputs": [],
   "source": [
    "reload(gtnlplib.naivebayes)\n",
    "weights_nb = gtnlplib.naivebayes.learnNBWeights (counts, class_counts, allkeys, alpha=0.1)"
   ]
  },
  {
   "cell_type": "markdown",
   "metadata": {},
   "source": [
    "**Sanity check**: the word probabilities for each class should sum to 1, or very close:"
   ]
  },
  {
   "cell_type": "code",
   "execution_count": 9,
   "metadata": {
    "collapsed": false
   },
   "outputs": [
    {
     "name": "stdout",
     "output_type": "stream",
     "text": [
      "0.993107074011\n"
     ]
    }
   ],
   "source": [
    "# sanity check!\n",
    "print sum([np.exp(weights_nb[('POS',basefeat)]) for basefeat in allkeys if basefeat != gtnlplib.constants.OFFSET])"
   ]
  },
  {
   "cell_type": "markdown",
   "metadata": {},
   "source": [
    "**Deliverable 4a**\n",
    "Train your classifier from the training data, and apply it to\n",
    "the development data, with $\\alpha = 0.1$. Report the confusion matrix and the accuracy."
   ]
  },
  {
   "cell_type": "code",
   "execution_count": 10,
   "metadata": {
    "collapsed": false
   },
   "outputs": [
    {
     "name": "stdout",
     "output_type": "stream",
     "text": [
      "3 classes in key: set(['NEG', 'NEU', 'POS'])\n",
      "3 classes in response: set(['NEG', 'NEU', 'POS'])\n",
      "confusion matrix\n",
      "key\\response:\tNEG\tNEU\tPOS\n",
      "NEG\t\t33\t62\t16\t\n",
      "NEU\t\t24\t82\t29\t\n",
      "POS\t\t18\t41\t89\t\n",
      "----------------\n",
      "accuracy: 0.5178 = 204/394\n",
      "\n",
      "None\n"
     ]
    }
   ],
   "source": [
    "reload(gtnlplib.clf_base)\n",
    "\n",
    "outfile = 'nb.txt'\n",
    "mat = gtnlplib.clf_base.evalClassifier(weights_nb,outfile, gtnlplib.constants.DEVKEY)\n",
    "print gtnlplib.scorer.printScoreMessage(mat)"
   ]
  },
  {
   "cell_type": "markdown",
   "metadata": {},
   "source": [
    "**Deliverable 4b** Try at least seven different values of $\\alpha$. Plot the accuracy on both the dev and training sets for each value, using [subplot](http://matplotlib.org/api/pyplot_api.html#matplotlib.pyplot.subplot) to show two plots in the same cell.The values of $\\alpha$ should be chosen such that the max value is not at either endpoint."
   ]
  },
  {
   "cell_type": "code",
   "execution_count": 11,
   "metadata": {
    "collapsed": true
   },
   "outputs": [],
   "source": [
    "alphas = [ 0.01, 0.1, 0.3, 0.6, 1, 10, 100] #your choice!"
   ]
  },
  {
   "cell_type": "code",
   "execution_count": 12,
   "metadata": {
    "collapsed": false
   },
   "outputs": [],
   "source": [
    "weights_nb_alphas, tr_accs, dv_accs = gtnlplib.naivebayes.regularization_using_grid_search (alphas,counts, class_counts, allkeys)"
   ]
  },
  {
   "cell_type": "code",
   "execution_count": 13,
   "metadata": {
    "collapsed": false,
    "scrolled": true
   },
   "outputs": [
    {
     "name": "stdout",
     "output_type": "stream",
     "text": [
      "0.01 0.986538461538 0.505076142132\n",
      "0.1 0.982692307692 0.517766497462\n",
      "0.3 0.974358974359 0.515228426396\n",
      "0.6 0.95641025641 0.520304568528\n",
      "1 0.94358974359 0.520304568528\n",
      "10 0.603846153846 0.444162436548\n",
      "100 0.385897435897 0.368020304569\n"
     ]
    }
   ],
   "source": [
    "for i,alpha in enumerate (alphas):\n",
    "    print alpha, tr_accs[i], dv_accs[i]"
   ]
  },
  {
   "cell_type": "code",
   "execution_count": 14,
   "metadata": {
    "collapsed": false
   },
   "outputs": [
    {
     "data": {
      "text/plain": [
       "<matplotlib.text.Text at 0x116863c10>"
      ]
     },
     "execution_count": 14,
     "metadata": {},
     "output_type": "execute_result"
    },
    {
     "data": {
      "image/png": "[encoded data removed]",
      "text/plain": [
       "<matplotlib.figure.Figure at 0x111ed4410>"
      ]
     },
     "metadata": {},
     "output_type": "display_data"
    }
   ],
   "source": [
    "# run this code to plot the accuracies\n",
    "subplot(1,2,1)\n",
    "plot(log(alphas),tr_accs,'bx-') \n",
    "ylabel('training accuracy')\n",
    "subplot(1,2,2)\n",
    "plot(log(alphas),dv_accs,'rx-')\n",
    "ylabel('dev. accuracy')"
   ]
  },
  {
   "cell_type": "markdown",
   "metadata": {},
   "source": [
    "(Use this cell to explain what you see in the plot above)"
   ]
  },
  {
   "cell_type": "markdown",
   "metadata": {},
   "source": [
    "# 5. Feature Analysis #\n",
    "(_Completing  getTopFeats() - 2 pts, Deliverable 5a - 1pt, 5b - 2 pts . Total 5 pts_)"
   ]
  },
  {
   "cell_type": "markdown",
   "metadata": {},
   "source": [
    "**Deliverable 5a**\n",
    "What are the words that are most predictive of positive versus negative text?\n",
    "You can measure this by $\\log \\theta_{pos,n} - \\log \\theta_{neg,n}$ (which is similar to the [likelihood ratio test](http://en.wikipedia.org/wiki/Likelihood-ratio_test)).\n",
    "Use $\\alpha = 0.1$.\n",
    "\n",
    "List the top five words and their counts for each class. Do the same for the top 5 words that predict negative versus positive.\n",
    "\n",
    "** Note **\n",
    "\n",
    "- You will have to implement ```gtnlplib.analysis.getTopFeats```. \n",
    "- You may need to sort dictionaries for getting the top features. Consider using [operator.itemgetter()](http://docs.python.org/2.7/library/operator.html) to easily sort dictionaries by their values."
   ]
  },
  {
   "cell_type": "code",
   "execution_count": 19,
   "metadata": {
    "collapsed": false
   },
   "outputs": [
    {
     "name": "stdout",
     "output_type": "stream",
     "text": [
      "[('maizon', 5.2437829625429977), ('color', 5.0536386800678343), ('powell', 4.9998622832870296), ('informative', 4.8827696170056676), ('jane', 4.8186450888361279)]\n",
      "[('dennett', 5.724087687110579), ('ludemann', 5.3402983044814558), ('duquette', 5.147394638356964), ('poorly', 5.147394638356964), ('ok', 5.147394638356964)]\n"
     ]
    }
   ],
   "source": [
    "reload(gtnlplib.analysis)\n",
    "print gtnlplib.analysis.getTopFeats(weights_nb_alphas[1e-1],'POS','NEG',allkeys)\n",
    "print gtnlplib.analysis.getTopFeats(weights_nb_alphas[1e-1],'NEG','POS',allkeys)"
   ]
  },
  {
   "cell_type": "markdown",
   "metadata": {},
   "source": [
    "**Deliverable 5b** Now do the same thing for $\\alpha = 10$. Which words look better to you? \n",
    "Which gave better accuracy? \n",
    "Explain what you think is going on."
   ]
  },
  {
   "cell_type": "code",
   "execution_count": 20,
   "metadata": {
    "collapsed": false
   },
   "outputs": [
    {
     "name": "stdout",
     "output_type": "stream",
     "text": [
      "[('war', 1.5390175046905483), ('heart', 1.3831367206255081), ('excellent', 1.375837418143897), ('wonderful', 1.3544462281625798), ('favorite', 1.202994605304486)]\n",
      "[('waste', 1.4661607554680511), ('evidence', 1.426123382408214), ('savage', 1.3249134804767024), ('dennett', 1.312010075640794), ('boring', 1.2488311740192639)]\n"
     ]
    }
   ],
   "source": [
    "print gtnlplib.analysis.getTopFeats(weights_nb_alphas[10],'POS','NEG',allkeys)\n",
    "print gtnlplib.analysis.getTopFeats(weights_nb_alphas[10],'NEG','POS',allkeys)"
   ]
  },
  {
   "cell_type": "markdown",
   "metadata": {},
   "source": [
    "(your answer here)"
   ]
  },
  {
   "cell_type": "markdown",
   "metadata": {},
   "source": [
    "# 6. Perceptron #\n",
    "(_ 6 points total _)\n",
    "\n",
    "Implement a perceptron classifier. Using the feature-function\n",
    "representation, include features for each word-class pair, and also an\n",
    "** offset ** feature for each class. Given a set of word counts $\\vec{x}_i$,\n",
    "a true label $y_i$, and a guessed label $\\hat{y}$, your update will be\n",
    "\\begin{align*}\n",
    "\\hat{y} & \\leftarrow \\text{argmax}_y \\vec{\\theta}' f(\\vec{x}_i,y)\\\\\n",
    "\\vec{\\theta} & \\leftarrow \\vec{\\theta} + f(\\vec{x}_i, y_i) - f(\\vec{x}_i, \\hat{y}).\n",
    "\\end{align*}\n",
    "\n",
    "Please write this yourself -- do not use any libraries, and try not to look\n",
    "at other code online.\n",
    "\n",
    "**Sanity check** If you are not careful, learning can be slow. \n",
    "You may need to think a little about how to do this update efficiently. \n",
    "\n",
    "- On my laptop, I can make 10 passes on the training data in roughly 30 seconds, including evaluating the accuracy on the dev and training sets. \n",
    "- You can use the ```%%timeit``` cell magic to compute statistics like this.\n",
    "- Your code doesn't have to be as fast as mine, but it needs to be written intelligently, and it needs to be fast enough for you to debug it properly.\n",
    "- The ```%%prun``` cell magic is also useful for diagnosing speed"
   ]
  },
  {
   "cell_type": "markdown",
   "metadata": {},
   "source": [
    "To begin with we will load all the training data: the training set and the development. This will increase the speed. ```gtnlplib.preproc.loadInstances``` implementation is provided."
   ]
  },
  {
   "cell_type": "code",
   "execution_count": 82,
   "metadata": {
    "collapsed": false
   },
   "outputs": [],
   "source": [
    "all_tr_insts,all_dev_insts= gtnlplib.preproc.loadInstances(gtnlplib.constants.TRAINKEY, gtnlplib.constants.DEVKEY)"
   ]
  },
  {
   "cell_type": "markdown",
   "metadata": {},
   "source": [
    "**Deliverable 6a** (5 points)\n",
    "\n",
    "Implement the function ```gtnlplib.perceptron.oneItPerceptron``` that runs the perceptron for a single iteration (one pass through the training data). Its signature should be:\n",
    "\n",
    "- **Input 1**: all training instances\n",
    "- **Input 2**: a dictionary of weights, representing the current classifier at the time you call this function\n",
    "- **Input 3**: a list of all possible labels\n",
    "- **Output 1**: the weights after training\n",
    "- **Output 2**: the number of training errors\n",
    "- **Output 3**: the number of training instances\n",
    "\n",
    "The second and third outputs allow you to compute the *training set accuracy*. This way, you can see whether you are overfitting or underfitting."
   ]
  },
  {
   "cell_type": "markdown",
   "metadata": {},
   "source": [
    "**Deliverable 6b** (1 point): Train your classifier on trainkey for ten iterations, and plot the output. For this you will have to implement ```gtnlplib.perceptron.trainPerceptron``` function making use of ```gtnlplib.perceptron.oneItPerceptron``` "
   ]
  },
  {
   "cell_type": "code",
   "execution_count": 122,
   "metadata": {
    "collapsed": false
   },
   "outputs": [
    {
     "name": "stdout",
     "output_type": "stream",
     "text": [
      "0 dev:  0.304568527919 train:  0.336538461538\n",
      "1 dev:  0.375634517766 train:  0.345512820513\n",
      "2 dev:  0.456852791878 train:  0.339102564103\n",
      "3 dev:  0.393401015228 train:  0.351923076923\n",
      "4 dev:  0.43654822335 train:  0.34358974359\n",
      "5 dev:  0.368020304569 train:  0.341666666667\n",
      "6 dev:  0.494923857868 train:  0.346153846154\n",
      "7 dev:  0.360406091371 train:  0.351923076923\n",
      "8 dev:  0.441624365482 train:  0.324358974359\n",
      "9 dev:  0.477157360406 train:  0.35\n"
     ]
    }
   ],
   "source": [
    "reload(gtnlplib.perceptron)\n",
    "outfile = \"perc.txt\"\n",
    "w_perc,tr_acc_perc,dv_acc_perc = gtnlplib.perceptron.trainPerceptron(10, all_tr_insts,gtnlplib.constants.ALL_LABELS, outfile, gtnlplib.constants.DEVKEY)"
   ]
  },
  {
   "cell_type": "code",
   "execution_count": 123,
   "metadata": {
    "collapsed": true
   },
   "outputs": [],
   "source": [
    "# this code makes plots of the training and development set accuracy\n",
    "def makePlots(tr_acc,dv_acc):\n",
    "    ax1 = plt.subplot(1,2,1,xlabel='iteration',ylabel='accuracy')\n",
    "    plt.plot(tr_acc,'rx-')\n",
    "    plt.title('training')\n",
    "    plt.subplot(1,2,2,xlabel='iterator',sharey=ax1)\n",
    "    plt.plot(dv_acc,'bx-')\n",
    "    plt.title('development')"
   ]
  },
  {
   "cell_type": "code",
   "execution_count": 124,
   "metadata": {
    "collapsed": false
   },
   "outputs": [
    {
     "data": {
      "image/png": "[encoded data removed]",
      "text/plain": [
       "<matplotlib.figure.Figure at 0x11bc965d0>"
      ]
     },
     "metadata": {},
     "output_type": "display_data"
    }
   ],
   "source": [
    "makePlots(tr_acc_perc,dv_acc_perc)"
   ]
  },
  {
   "cell_type": "markdown",
   "metadata": {},
   "source": [
    "**Sanity check** Your training set accuracy should increase quickly, but your dev set accuracy might be disappointing."
   ]
  },
  {
   "cell_type": "markdown",
   "metadata": {},
   "source": [
    "# 7. Averaged Perceptron #\n",
    "\n",
    "Notice how the dev set performance of the perceptron was very unstable. Now you will try to improve it using averaging.\n",
    "\n",
    "Conceptually, the idea is to keep a running total of the weights, and then divide at the end, after $T$ updates:\n",
    "\n",
    "\\begin{align*}\n",
    "\\hat{y} & \\leftarrow \\text{argmax}_y \\theta' f(\\vec{x}_i,y)\\\\\n",
    "\\theta^t & \\leftarrow \\theta^{t-1} + f(\\vec{x}_i, y_i) - f(\\vec{x}_i, \\hat{y})\\\\\n",
    "\\overline{\\theta} & = \\frac{1}{T} \\theta^T\n",
    "\\end{align*}\n",
    "\n",
    "Then you can use $\\overline{\\theta}$ to make predictions.\n",
    "\n",
    "But in practice, this is very inefficient. You can't store the weights after every update -- it's much too big. But you don't want to compute a running sum either. The reason is that the weight vector will quickly become dense, and this would require $O(\\#F)$ operations at every update, where $\\#F$ is the number of features. This is much more work than the standard perceptron update, which only involves the features that are active in the current instance. In a bag-of-words model, each document will typically have only a small fraction of the total vocabulary, and we would like each update to be linear in the number of features active in the document, not the total number of features.\n",
    "\n",
    "An efficient solution was pointed out by [Daume 2006](http://hal3.name/docs/daume06thesis.pdf). \n",
    "Let $\\delta_t$ indicate the update at time $t$.\n",
    "Then, assuming $\\theta^0 = 0$, we have:\n",
    "\n",
    "\\begin{align*}\n",
    "\\theta^t = & \\theta^{t-1} + \\delta_t \\\\\n",
    "= & \\sum_{t' < t} \\delta_{t'}\n",
    "\\end{align*}\n",
    "\n",
    "We would like to compute the sum of the weight vectors,\n",
    "\\begin{align*}\n",
    "\\sum_t^T \\theta_t = & \\sum_t^T \\sum_{t' \\leq t} \\delta_{t'} = T \\delta_0 + (T-1) \\delta_1 + (T - 2) \\delta_2 + \\ldots + \\delta_T \\\\ \n",
    "= & \\sum_t^T (T - t) \\delta_t\\\\\n",
    "= & T \\sum_t^T \\delta_t - \\sum_t^T t \\delta_t \\\\\n",
    "= & T \\theta_t - \\sum_t^T t \\delta_t \\\\\n",
    "\\frac{1}{T} \\sum_t^T \\theta_t = & \\theta_T - \\frac{1}{T} \\sum_t^T t \\delta_t\n",
    "\\end{align*}\n",
    "\n",
    "This means we need to keep another running sum, $\\sum_t^T t \\delta_t$, the sum of scaled updates. \n",
    "To compute the average, we divide by the number of updates $T$ and subtract it from the current weight vector."
   ]
  },
  {
   "cell_type": "markdown",
   "metadata": {},
   "source": [
    "**Deliverable 7a** (5 points) Implement averaged perceptron, using two functions\n",
    "\n",
    "- an outer loop, ```gtnlplib.avg_perceptron.trainAvgPerceptron```, which should have the same inputs and outputs as  ```gtnlplib.perceptron.trainPerceptron```.\n",
    "- an inner loop, ```gtnlplib.avg_perceptron.oneItAvgPerceptron```, which makes a single pass through the training data. To do weight averaging, this function may have to take some additional arguments and offer some additional outputs."
   ]
  },
  {
   "cell_type": "markdown",
   "metadata": {},
   "source": [
    "In terms of implementation, your function ```gtnlplib.avg_perceptron.oneItAvgPerceptron``` should be similar to ```gtnlplib.perceptron.oneItPerceptron```, but it needs to take additional arguments to keep track of the running sum of weights, and the total number if instances seen.  It also needs to output this information."
   ]
  },
  {
   "cell_type": "markdown",
   "metadata": {},
   "source": [
    "**Deliverable 7b** (1 point): Train your classifier on trainkey for ten iterations, and plot the output, using the code in the cells below. "
   ]
  },
  {
   "cell_type": "code",
   "execution_count": 158,
   "metadata": {
    "collapsed": false
   },
   "outputs": [
    {
     "data": {
      "text/plain": [
       "<module 'gtnlplib.avg_perceptron' from 'gtnlplib/avg_perceptron.py'>"
      ]
     },
     "execution_count": 158,
     "metadata": {},
     "output_type": "execute_result"
    }
   ],
   "source": [
    "reload(gtnlplib.avg_perceptron)"
   ]
  },
  {
   "cell_type": "code",
   "execution_count": null,
   "metadata": {
    "collapsed": false
   },
   "outputs": [],
   "source": [
    "# again, this takes roughly 30 seconds for me\n",
    "reload(gtnlplib.avg_perceptron)\n",
    "outfile = \"ap.txt\"\n",
    "w_ap,tr_acc_ap,dv_acc_ap = gtnlplib.avg_perceptron.trainAvgPerceptron(10,all_tr_insts,gtnlplib.constants.ALL_LABELS, outfile,gtnlplib.constants.DEVKEY)"
   ]
  },
  {
   "cell_type": "code",
   "execution_count": 161,
   "metadata": {
    "collapsed": false
   },
   "outputs": [
    {
     "data": {
      "image/png": "[encoded data removed]",
      "text/plain": [
       "<matplotlib.figure.Figure at 0x119f3f250>"
      ]
     },
     "metadata": {},
     "output_type": "display_data"
    }
   ],
   "source": [
    "makePlots(tr_acc_ap,dv_acc_ap)"
   ]
  },
  {
   "cell_type": "markdown",
   "metadata": {},
   "source": [
    "**Sanity check** the dev set performance should be much better than the non-averaged perceptron"
   ]
  },
  {
   "cell_type": "markdown",
   "metadata": {},
   "source": [
    "**Deliverable 7c** (1 point) Use your getTopFeats function from pset 1a to compute the top ten features for positive and negative classes, by contrasting the weights $\\theta_{pos,n} - \\theta_{neg,n}$ and $\\theta_{neg,n} - \\theta_{pos,n}$"
   ]
  },
  {
   "cell_type": "code",
   "execution_count": 162,
   "metadata": {
    "collapsed": false
   },
   "outputs": [
    {
     "name": "stdout",
     "output_type": "stream",
     "text": [
      "[('fawn', nan), ('unscientific', nan), ('writings', nan), ('divinely', nan), ('childern', nan), ('pellucidar', nan), ('progressively', nan), ('yellow', nan), ('pony', nan), ('four', nan)]\n",
      "[('fawn', nan), ('unscientific', nan), ('writings', nan), ('divinely', nan), ('childern', nan), ('pellucidar', nan), ('progressively', nan), ('yellow', nan), ('pony', nan), ('four', nan)]\n"
     ]
    }
   ],
   "source": [
    "print gtnlplib.analysis.getTopFeats(w_ap,'POS','NEG',allkeys, K=10)\n",
    "print gtnlplib.analysis.getTopFeats(w_ap,'NEG','POS',allkeys, K=10)"
   ]
  },
  {
   "cell_type": "markdown",
   "metadata": {},
   "source": [
    "# 8. Logistic regression #\n",
    "\n",
    "Now you will complete an implementation of logistic regression.\n",
    "We've provided a lot of scaffolding code, you just need to fill in some key parts."
   ]
  },
  {
   "cell_type": "markdown",
   "metadata": {},
   "source": [
    "**Deliverable 8a** (3 points): implement ```gtnlplib.logreg.computeLabelProbs``` to compute the normalized probability of each label.\n",
    "\n",
    "- This function should have the same input arguments as your predict function\n",
    "- It should output a dict, from labels to probabilities\n",
    "- It will need to be fast. You may need to optimize this later. As always, ```%%prun``` and ```%%timeit``` are your friends."
   ]
  },
  {
   "cell_type": "markdown",
   "metadata": {},
   "source": [
    "**sanity check**: running the code below should give\n",
    "\n",
    "- 'NEG': 0.0068674111043921151,\n",
    "- 'NEU': 0.37494794181688146,\n",
    "- 'POS': 0.61818464707872656"
   ]
  },
  {
   "cell_type": "code",
   "execution_count": 168,
   "metadata": {
    "collapsed": false
   },
   "outputs": [],
   "source": [
    "weights = defaultdict(float)\n",
    "weights[('NEG','bad')] = 1\n",
    "weights[('NEG','best')] = -1\n",
    "weights[('POS','bad')] = -0.5\n",
    "weights[('POS','best')] = 2\n",
    "weights[('NEU',gtnlplib.constants.OFFSET)] = 3\n",
    "gtnlplib.logreg.computeLabelProbs({'bad':1,'best':2,gtnlplib.constants.OFFSET:1},weights,gtnlplib.constants.ALL_LABELS)"
   ]
  },
  {
   "cell_type": "markdown",
   "metadata": {},
   "source": [
    "**Deliverable 8b** (3 points) Now complete the implementation of logistic regression, training by stochastic gradient descent.\n",
    "\n",
    "- An outline of the code is provided in ```gtnlplib.logreg.trainLRbySGD```, including the regularization\n",
    "- You need to provide the code that computes the update for each instance\n",
    "- My implementation takes around 3 seconds per iteration over the training set\n",
    "- Unlike the perceptron code, you can do everything within the single function ```gtnlplib.logreg.trainLRbySGD```\n",
    "- For a reminder about how SGD works, see my notes"
   ]
  },
  {
   "cell_type": "code",
   "execution_count": null,
   "metadata": {
    "collapsed": false
   },
   "outputs": [],
   "source": [
    "outfile = \"sgd.txt\"\n",
    "w_sgd,tr_acc_sgd,dv_acc_sgd = gtnlplib.logreg.trainLRbySGD(50,all_tr_insts, outfile, gtnlplib.constants.DEVKEY, regularizer=1e-1)"
   ]
  },
  {
   "cell_type": "code",
   "execution_count": null,
   "metadata": {
    "collapsed": false
   },
   "outputs": [],
   "source": [
    "makePlots(tr_acc_sgd,dv_acc_sgd)"
   ]
  },
  {
   "cell_type": "markdown",
   "metadata": {},
   "source": [
    "# 9. Making it better #\n",
    "\n",
    "There are two general paths for improving these classifiers: data and algorithms.\n",
    "\n",
    "- Data-oriented approaches relate to the features. For example, you could try to use bigrams, remove stopwords, lemmatize (using wordnet), etc.\n",
    "- Algorithm-oriented approaches relate to the learning itself. For example, you could implement Passive-Aggressive, AdaGrad (described in my notes), feature hashing (see [this paper](http://alex.smola.org/papers/2009/Weinbergeretal09.pdf)), alternative regularizers, or various improvements to naive bayes (see [this paper](http://people.csail.mit.edu/jrennie/papers/icml03-nb.pdf)). Note that not all these approaches will improve accuracy; some will improve speed.\n",
    "- Students in 4650 should try one improvement of either type. Students in 7650 should try one improvement of each type, and for at least one of the improvements, they should cite a specific research paper that motivated their choice. The paper should be from ACL, NAACL, EMNLP, ICML, NIPS, AAAI, or a similar journal.\n",
    "\n",
    "**Deliverable 9** (3 points for 4650; 6 points for 7650): Clearly explain what you did, and why you thought it would\n",
    "work. Do an experiment to test whether it works. Creativity and thoughtfulness counts more than raw performance here."
   ]
  },
  {
   "cell_type": "markdown",
   "metadata": {},
   "source": [
    "# 10. Bakeoff! #\n",
    "\n",
    "48 hours before the assignment is due, I will send you unlabeled test\n",
    "data. Your job is to produce a response file, and submit it to our Kaggle\n",
    "bakeoff ([link here](https://inclass.kaggle.com/c/gt-book-review-sentiment-analysis)).\n",
    "The Kaggle contest compares your classifier's results on the dev data to generate a\n",
    "class-visible leaderboard, and compares your classifier's results on the unlabeled\n",
    "test data for the bakeoff. You can use the dev data results as a sanity\n",
    "check, to make sure you submit the correct file.\n",
    "\n",
    "I'll present the results in class and give the best scorers a chance to explain\n",
    "what they did.\n",
    "\n",
    "** Deliverable 10 ** (3 points) Run your best system from any part of the\n",
    "assignment on the test data using the `generateKaggleSubmission()` function. Submit\n",
    "your response file to the class [Kaggle bakeoff](https://inclass.kaggle.com/c/gt-book-review-sentiment-analysis). Also submit your Kaggle response file to T-Square as 'lastname-firstname.response'. The top\n",
    "scores will be announced in class."
   ]
  },
  {
   "cell_type": "code",
   "execution_count": null,
   "metadata": {
    "collapsed": false
   },
   "outputs": [],
   "source": [
    "yourBestWeights = weights_mcc # Change this to your best model\n",
    "gtnlplib.clf_base.generateKaggleSubmission(yourBestWeights, 'lastname-firstname.response')"
   ]
  }
 ],
 "metadata": {
  "kernelspec": {
   "display_name": "Python 2",
   "language": "python",
   "name": "python2"
  },
  "language_info": {
   "codemirror_mode": {
    "name": "ipython",
    "version": 2
   },
   "file_extension": ".py",
   "mimetype": "text/x-python",
   "name": "python",
   "nbconvert_exporter": "python",
   "pygments_lexer": "ipython2",
   "version": "2.7.9"
  }
 },
 "nbformat": 4,
 "nbformat_minor": 0
}
